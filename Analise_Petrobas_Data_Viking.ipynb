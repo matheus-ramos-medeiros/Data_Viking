{
  "nbformat": 4,
  "nbformat_minor": 0,
  "metadata": {
    "colab": {
      "provenance": [],
      "authorship_tag": "ABX9TyNSjoZygy7IQ04qDjW7V8CB",
      "include_colab_link": true
    },
    "kernelspec": {
      "name": "python3",
      "display_name": "Python 3"
    },
    "language_info": {
      "name": "python"
    }
  },
  "cells": [
    {
      "cell_type": "markdown",
      "metadata": {
        "id": "view-in-github",
        "colab_type": "text"
      },
      "source": [
        "<a href=\"https://colab.research.google.com/github/matheus-ramos-medeiros/Data_Viking/blob/main/Analise_Petrobas_Data_Viking.ipynb\" target=\"_parent\"><img src=\"https://colab.research.google.com/assets/colab-badge.svg\" alt=\"Open In Colab\"/></a>"
      ]
    },
    {
      "cell_type": "markdown",
      "source": [
        "# **Vamos Analisar a Ação da Petrobas**\n",
        "\n",
        "\n",
        "\n",
        "\n"
      ],
      "metadata": {
        "id": "VRI9uwF_tROK"
      }
    },
    {
      "cell_type": "markdown",
      "source": [
        "## **API Yahoo Finance**"
      ],
      "metadata": {
        "id": "lYQZMzkYzEno"
      }
    },
    {
      "cell_type": "markdown",
      "source": [
        "Para isso vamos usar o API famoso do Mercado Financeiro, onde vamos pegar os dados de uma maneira fácil e rapida.\n",
        "\n",
        "O nome do nosso API é [yfinance](https://pypi.org/project/yfinance/) que oferece uma maneira segmentada e Pythonic de baixar dados de mercado do Yahoo!Ⓡ finanças."
      ],
      "metadata": {
        "id": "Ri48U-Lwy-uA"
      }
    },
    {
      "cell_type": "code",
      "execution_count": 25,
      "metadata": {
        "id": "x29nX2FnpQoJ",
        "colab": {
          "base_uri": "https://localhost:8080/"
        },
        "outputId": "00d9f71f-df73-4618-9092-9e4d5b34d8b4"
      },
      "outputs": [
        {
          "output_type": "stream",
          "name": "stdout",
          "text": [
            "Looking in indexes: https://pypi.org/simple, https://us-python.pkg.dev/colab-wheels/public/simple/\n",
            "Requirement already satisfied: yfinance in /usr/local/lib/python3.8/dist-packages (0.2.12)\n",
            "Requirement already satisfied: frozendict>=2.3.4 in /usr/local/lib/python3.8/dist-packages (from yfinance) (2.3.5)\n",
            "Requirement already satisfied: requests>=2.26 in /usr/local/lib/python3.8/dist-packages (from yfinance) (2.28.2)\n",
            "Requirement already satisfied: html5lib>=1.1 in /usr/local/lib/python3.8/dist-packages (from yfinance) (1.1)\n",
            "Requirement already satisfied: appdirs>=1.4.4 in /usr/local/lib/python3.8/dist-packages (from yfinance) (1.4.4)\n",
            "Requirement already satisfied: pandas>=1.3.0 in /usr/local/lib/python3.8/dist-packages (from yfinance) (1.3.5)\n",
            "Requirement already satisfied: beautifulsoup4>=4.11.1 in /usr/local/lib/python3.8/dist-packages (from yfinance) (4.11.2)\n",
            "Requirement already satisfied: lxml>=4.9.1 in /usr/local/lib/python3.8/dist-packages (from yfinance) (4.9.2)\n",
            "Requirement already satisfied: cryptography>=3.3.2 in /usr/local/lib/python3.8/dist-packages (from yfinance) (39.0.1)\n",
            "Requirement already satisfied: numpy>=1.16.5 in /usr/local/lib/python3.8/dist-packages (from yfinance) (1.22.4)\n",
            "Requirement already satisfied: multitasking>=0.0.7 in /usr/local/lib/python3.8/dist-packages (from yfinance) (0.0.11)\n",
            "Requirement already satisfied: pytz>=2022.5 in /usr/local/lib/python3.8/dist-packages (from yfinance) (2022.7.1)\n",
            "Requirement already satisfied: soupsieve>1.2 in /usr/local/lib/python3.8/dist-packages (from beautifulsoup4>=4.11.1->yfinance) (2.4)\n",
            "Requirement already satisfied: cffi>=1.12 in /usr/local/lib/python3.8/dist-packages (from cryptography>=3.3.2->yfinance) (1.15.1)\n",
            "Requirement already satisfied: six>=1.9 in /usr/local/lib/python3.8/dist-packages (from html5lib>=1.1->yfinance) (1.15.0)\n",
            "Requirement already satisfied: webencodings in /usr/local/lib/python3.8/dist-packages (from html5lib>=1.1->yfinance) (0.5.1)\n",
            "Requirement already satisfied: python-dateutil>=2.7.3 in /usr/local/lib/python3.8/dist-packages (from pandas>=1.3.0->yfinance) (2.8.2)\n",
            "Requirement already satisfied: certifi>=2017.4.17 in /usr/local/lib/python3.8/dist-packages (from requests>=2.26->yfinance) (2022.12.7)\n",
            "Requirement already satisfied: idna<4,>=2.5 in /usr/local/lib/python3.8/dist-packages (from requests>=2.26->yfinance) (2.10)\n",
            "Requirement already satisfied: urllib3<1.27,>=1.21.1 in /usr/local/lib/python3.8/dist-packages (from requests>=2.26->yfinance) (1.24.3)\n",
            "Requirement already satisfied: charset-normalizer<4,>=2 in /usr/local/lib/python3.8/dist-packages (from requests>=2.26->yfinance) (3.0.1)\n",
            "Requirement already satisfied: pycparser in /usr/local/lib/python3.8/dist-packages (from cffi>=1.12->cryptography>=3.3.2->yfinance) (2.21)\n"
          ]
        }
      ],
      "source": [
        "#instalar os pacotes\n",
        "\n",
        "!pip install yfinance --upgrade --no-cache-dir"
      ]
    },
    {
      "cell_type": "code",
      "source": [
        "#Pacotes analises de dados\n",
        "import pandas as pd\n",
        "import pandas_datareader.data as web\n",
        "import numpy as np\n",
        "\n",
        "#Pacotes analises graficas\n",
        "import matplotlib.pyplot as plt\n",
        "import seaborn as sns\n",
        "import plotly.graph_objects as go\n",
        "import plotly.express as px\n",
        "from plotly.subplots import make_subplots\n",
        "\n",
        "#Funcao para datas\n",
        "from datetime import datetime\n",
        "\n",
        "#YFinance\n",
        "import yfinance as yf\n",
        "yf.pdr_override()\n",
        "\n",
        "#Avisos\n",
        "import warnings\n",
        "warnings.filterwarnings('ignore')"
      ],
      "metadata": {
        "id": "rFQJMF_NqHrG"
      },
      "execution_count": 26,
      "outputs": []
    },
    {
      "cell_type": "code",
      "source": [
        "# Coletando os dados\n",
        "Dados = web.get_data_yahoo('PETR4.SA', period='1y')\n",
        "\n",
        "# Shape\n",
        "Dados.shape\n",
        "print('Os dados tem',Dados.shape[0],'linhas e',Dados.shape[1],'colunas.')"
      ],
      "metadata": {
        "colab": {
          "base_uri": "https://localhost:8080/"
        },
        "id": "njC2GMZ3sGmC",
        "outputId": "7d4a41d8-5d29-4bca-8dcc-c717fcc958a2"
      },
      "execution_count": 27,
      "outputs": [
        {
          "output_type": "stream",
          "name": "stdout",
          "text": [
            "\r[*********************100%***********************]  1 of 1 completed\n",
            "Os dados tem 250 linhas e 6 colunas.\n"
          ]
        }
      ]
    },
    {
      "cell_type": "code",
      "source": [
        "#verificando as 5 primeiras linhas no dataframe\n",
        "Dados.head()"
      ],
      "metadata": {
        "colab": {
          "base_uri": "https://localhost:8080/",
          "height": 238
        },
        "id": "Bm79D3D2sc2c",
        "outputId": "d8a042c1-bccf-4f17-9538-bc1f66151659"
      },
      "execution_count": 28,
      "outputs": [
        {
          "output_type": "execute_result",
          "data": {
            "text/plain": [
              "                 Open       High        Low      Close  Adj Close     Volume\n",
              "Date                                                                        \n",
              "2022-02-24  34.799999  35.290001  32.680000  33.389999  19.513243  139674100\n",
              "2022-02-25  33.450001  34.000000  32.900002  34.000000  19.869728   86189100\n",
              "2022-03-02  35.259998  35.290001  34.389999  34.669998  20.261278   58071800\n",
              "2022-03-03  34.820000  34.930000  34.160000  34.240002  20.009989   69237400\n",
              "2022-03-04  34.080002  34.680000  33.820000  34.230000  20.004143   55418000"
            ],
            "text/html": [
              "\n",
              "  <div id=\"df-e2b9c644-8825-4188-8204-b97bc635e18e\">\n",
              "    <div class=\"colab-df-container\">\n",
              "      <div>\n",
              "<style scoped>\n",
              "    .dataframe tbody tr th:only-of-type {\n",
              "        vertical-align: middle;\n",
              "    }\n",
              "\n",
              "    .dataframe tbody tr th {\n",
              "        vertical-align: top;\n",
              "    }\n",
              "\n",
              "    .dataframe thead th {\n",
              "        text-align: right;\n",
              "    }\n",
              "</style>\n",
              "<table border=\"1\" class=\"dataframe\">\n",
              "  <thead>\n",
              "    <tr style=\"text-align: right;\">\n",
              "      <th></th>\n",
              "      <th>Open</th>\n",
              "      <th>High</th>\n",
              "      <th>Low</th>\n",
              "      <th>Close</th>\n",
              "      <th>Adj Close</th>\n",
              "      <th>Volume</th>\n",
              "    </tr>\n",
              "    <tr>\n",
              "      <th>Date</th>\n",
              "      <th></th>\n",
              "      <th></th>\n",
              "      <th></th>\n",
              "      <th></th>\n",
              "      <th></th>\n",
              "      <th></th>\n",
              "    </tr>\n",
              "  </thead>\n",
              "  <tbody>\n",
              "    <tr>\n",
              "      <th>2022-02-24</th>\n",
              "      <td>34.799999</td>\n",
              "      <td>35.290001</td>\n",
              "      <td>32.680000</td>\n",
              "      <td>33.389999</td>\n",
              "      <td>19.513243</td>\n",
              "      <td>139674100</td>\n",
              "    </tr>\n",
              "    <tr>\n",
              "      <th>2022-02-25</th>\n",
              "      <td>33.450001</td>\n",
              "      <td>34.000000</td>\n",
              "      <td>32.900002</td>\n",
              "      <td>34.000000</td>\n",
              "      <td>19.869728</td>\n",
              "      <td>86189100</td>\n",
              "    </tr>\n",
              "    <tr>\n",
              "      <th>2022-03-02</th>\n",
              "      <td>35.259998</td>\n",
              "      <td>35.290001</td>\n",
              "      <td>34.389999</td>\n",
              "      <td>34.669998</td>\n",
              "      <td>20.261278</td>\n",
              "      <td>58071800</td>\n",
              "    </tr>\n",
              "    <tr>\n",
              "      <th>2022-03-03</th>\n",
              "      <td>34.820000</td>\n",
              "      <td>34.930000</td>\n",
              "      <td>34.160000</td>\n",
              "      <td>34.240002</td>\n",
              "      <td>20.009989</td>\n",
              "      <td>69237400</td>\n",
              "    </tr>\n",
              "    <tr>\n",
              "      <th>2022-03-04</th>\n",
              "      <td>34.080002</td>\n",
              "      <td>34.680000</td>\n",
              "      <td>33.820000</td>\n",
              "      <td>34.230000</td>\n",
              "      <td>20.004143</td>\n",
              "      <td>55418000</td>\n",
              "    </tr>\n",
              "  </tbody>\n",
              "</table>\n",
              "</div>\n",
              "      <button class=\"colab-df-convert\" onclick=\"convertToInteractive('df-e2b9c644-8825-4188-8204-b97bc635e18e')\"\n",
              "              title=\"Convert this dataframe to an interactive table.\"\n",
              "              style=\"display:none;\">\n",
              "        \n",
              "  <svg xmlns=\"http://www.w3.org/2000/svg\" height=\"24px\"viewBox=\"0 0 24 24\"\n",
              "       width=\"24px\">\n",
              "    <path d=\"M0 0h24v24H0V0z\" fill=\"none\"/>\n",
              "    <path d=\"M18.56 5.44l.94 2.06.94-2.06 2.06-.94-2.06-.94-.94-2.06-.94 2.06-2.06.94zm-11 1L8.5 8.5l.94-2.06 2.06-.94-2.06-.94L8.5 2.5l-.94 2.06-2.06.94zm10 10l.94 2.06.94-2.06 2.06-.94-2.06-.94-.94-2.06-.94 2.06-2.06.94z\"/><path d=\"M17.41 7.96l-1.37-1.37c-.4-.4-.92-.59-1.43-.59-.52 0-1.04.2-1.43.59L10.3 9.45l-7.72 7.72c-.78.78-.78 2.05 0 2.83L4 21.41c.39.39.9.59 1.41.59.51 0 1.02-.2 1.41-.59l7.78-7.78 2.81-2.81c.8-.78.8-2.07 0-2.86zM5.41 20L4 18.59l7.72-7.72 1.47 1.35L5.41 20z\"/>\n",
              "  </svg>\n",
              "      </button>\n",
              "      \n",
              "  <style>\n",
              "    .colab-df-container {\n",
              "      display:flex;\n",
              "      flex-wrap:wrap;\n",
              "      gap: 12px;\n",
              "    }\n",
              "\n",
              "    .colab-df-convert {\n",
              "      background-color: #E8F0FE;\n",
              "      border: none;\n",
              "      border-radius: 50%;\n",
              "      cursor: pointer;\n",
              "      display: none;\n",
              "      fill: #1967D2;\n",
              "      height: 32px;\n",
              "      padding: 0 0 0 0;\n",
              "      width: 32px;\n",
              "    }\n",
              "\n",
              "    .colab-df-convert:hover {\n",
              "      background-color: #E2EBFA;\n",
              "      box-shadow: 0px 1px 2px rgba(60, 64, 67, 0.3), 0px 1px 3px 1px rgba(60, 64, 67, 0.15);\n",
              "      fill: #174EA6;\n",
              "    }\n",
              "\n",
              "    [theme=dark] .colab-df-convert {\n",
              "      background-color: #3B4455;\n",
              "      fill: #D2E3FC;\n",
              "    }\n",
              "\n",
              "    [theme=dark] .colab-df-convert:hover {\n",
              "      background-color: #434B5C;\n",
              "      box-shadow: 0px 1px 3px 1px rgba(0, 0, 0, 0.15);\n",
              "      filter: drop-shadow(0px 1px 2px rgba(0, 0, 0, 0.3));\n",
              "      fill: #FFFFFF;\n",
              "    }\n",
              "  </style>\n",
              "\n",
              "      <script>\n",
              "        const buttonEl =\n",
              "          document.querySelector('#df-e2b9c644-8825-4188-8204-b97bc635e18e button.colab-df-convert');\n",
              "        buttonEl.style.display =\n",
              "          google.colab.kernel.accessAllowed ? 'block' : 'none';\n",
              "\n",
              "        async function convertToInteractive(key) {\n",
              "          const element = document.querySelector('#df-e2b9c644-8825-4188-8204-b97bc635e18e');\n",
              "          const dataTable =\n",
              "            await google.colab.kernel.invokeFunction('convertToInteractive',\n",
              "                                                     [key], {});\n",
              "          if (!dataTable) return;\n",
              "\n",
              "          const docLinkHtml = 'Like what you see? Visit the ' +\n",
              "            '<a target=\"_blank\" href=https://colab.research.google.com/notebooks/data_table.ipynb>data table notebook</a>'\n",
              "            + ' to learn more about interactive tables.';\n",
              "          element.innerHTML = '';\n",
              "          dataTable['output_type'] = 'display_data';\n",
              "          await google.colab.output.renderOutput(dataTable, element);\n",
              "          const docLink = document.createElement('div');\n",
              "          docLink.innerHTML = docLinkHtml;\n",
              "          element.appendChild(docLink);\n",
              "        }\n",
              "      </script>\n",
              "    </div>\n",
              "  </div>\n",
              "  "
            ]
          },
          "metadata": {},
          "execution_count": 28
        }
      ]
    },
    {
      "cell_type": "code",
      "source": [
        "#verificando as 5 ultimas linhas no dataframe\n",
        "Dados.tail()"
      ],
      "metadata": {
        "colab": {
          "base_uri": "https://localhost:8080/",
          "height": 238
        },
        "id": "mY8vtEI1FZ8Q",
        "outputId": "144dfcab-42a7-433e-a63d-d180760af7e5"
      },
      "execution_count": 29,
      "outputs": [
        {
          "output_type": "execute_result",
          "data": {
            "text/plain": [
              "             Open       High        Low      Close  Adj Close    Volume\n",
              "Date                                                                   \n",
              "2023-02-16  26.60  26.950001  26.490000  26.850000  26.850000  44115700\n",
              "2023-02-17  26.67  26.670000  26.370001  26.440001  26.440001  61085700\n",
              "2023-02-22  26.00  26.110001  25.690001  25.760000  25.760000  38608500\n",
              "2023-02-23  25.77  26.790001  25.770000  26.549999  26.549999  73913400\n",
              "2023-02-24  26.67  26.700001  25.870001  25.900000  25.900000  64409100"
            ],
            "text/html": [
              "\n",
              "  <div id=\"df-c48f3685-07d3-42f4-bb61-d265d6f0685b\">\n",
              "    <div class=\"colab-df-container\">\n",
              "      <div>\n",
              "<style scoped>\n",
              "    .dataframe tbody tr th:only-of-type {\n",
              "        vertical-align: middle;\n",
              "    }\n",
              "\n",
              "    .dataframe tbody tr th {\n",
              "        vertical-align: top;\n",
              "    }\n",
              "\n",
              "    .dataframe thead th {\n",
              "        text-align: right;\n",
              "    }\n",
              "</style>\n",
              "<table border=\"1\" class=\"dataframe\">\n",
              "  <thead>\n",
              "    <tr style=\"text-align: right;\">\n",
              "      <th></th>\n",
              "      <th>Open</th>\n",
              "      <th>High</th>\n",
              "      <th>Low</th>\n",
              "      <th>Close</th>\n",
              "      <th>Adj Close</th>\n",
              "      <th>Volume</th>\n",
              "    </tr>\n",
              "    <tr>\n",
              "      <th>Date</th>\n",
              "      <th></th>\n",
              "      <th></th>\n",
              "      <th></th>\n",
              "      <th></th>\n",
              "      <th></th>\n",
              "      <th></th>\n",
              "    </tr>\n",
              "  </thead>\n",
              "  <tbody>\n",
              "    <tr>\n",
              "      <th>2023-02-16</th>\n",
              "      <td>26.60</td>\n",
              "      <td>26.950001</td>\n",
              "      <td>26.490000</td>\n",
              "      <td>26.850000</td>\n",
              "      <td>26.850000</td>\n",
              "      <td>44115700</td>\n",
              "    </tr>\n",
              "    <tr>\n",
              "      <th>2023-02-17</th>\n",
              "      <td>26.67</td>\n",
              "      <td>26.670000</td>\n",
              "      <td>26.370001</td>\n",
              "      <td>26.440001</td>\n",
              "      <td>26.440001</td>\n",
              "      <td>61085700</td>\n",
              "    </tr>\n",
              "    <tr>\n",
              "      <th>2023-02-22</th>\n",
              "      <td>26.00</td>\n",
              "      <td>26.110001</td>\n",
              "      <td>25.690001</td>\n",
              "      <td>25.760000</td>\n",
              "      <td>25.760000</td>\n",
              "      <td>38608500</td>\n",
              "    </tr>\n",
              "    <tr>\n",
              "      <th>2023-02-23</th>\n",
              "      <td>25.77</td>\n",
              "      <td>26.790001</td>\n",
              "      <td>25.770000</td>\n",
              "      <td>26.549999</td>\n",
              "      <td>26.549999</td>\n",
              "      <td>73913400</td>\n",
              "    </tr>\n",
              "    <tr>\n",
              "      <th>2023-02-24</th>\n",
              "      <td>26.67</td>\n",
              "      <td>26.700001</td>\n",
              "      <td>25.870001</td>\n",
              "      <td>25.900000</td>\n",
              "      <td>25.900000</td>\n",
              "      <td>64409100</td>\n",
              "    </tr>\n",
              "  </tbody>\n",
              "</table>\n",
              "</div>\n",
              "      <button class=\"colab-df-convert\" onclick=\"convertToInteractive('df-c48f3685-07d3-42f4-bb61-d265d6f0685b')\"\n",
              "              title=\"Convert this dataframe to an interactive table.\"\n",
              "              style=\"display:none;\">\n",
              "        \n",
              "  <svg xmlns=\"http://www.w3.org/2000/svg\" height=\"24px\"viewBox=\"0 0 24 24\"\n",
              "       width=\"24px\">\n",
              "    <path d=\"M0 0h24v24H0V0z\" fill=\"none\"/>\n",
              "    <path d=\"M18.56 5.44l.94 2.06.94-2.06 2.06-.94-2.06-.94-.94-2.06-.94 2.06-2.06.94zm-11 1L8.5 8.5l.94-2.06 2.06-.94-2.06-.94L8.5 2.5l-.94 2.06-2.06.94zm10 10l.94 2.06.94-2.06 2.06-.94-2.06-.94-.94-2.06-.94 2.06-2.06.94z\"/><path d=\"M17.41 7.96l-1.37-1.37c-.4-.4-.92-.59-1.43-.59-.52 0-1.04.2-1.43.59L10.3 9.45l-7.72 7.72c-.78.78-.78 2.05 0 2.83L4 21.41c.39.39.9.59 1.41.59.51 0 1.02-.2 1.41-.59l7.78-7.78 2.81-2.81c.8-.78.8-2.07 0-2.86zM5.41 20L4 18.59l7.72-7.72 1.47 1.35L5.41 20z\"/>\n",
              "  </svg>\n",
              "      </button>\n",
              "      \n",
              "  <style>\n",
              "    .colab-df-container {\n",
              "      display:flex;\n",
              "      flex-wrap:wrap;\n",
              "      gap: 12px;\n",
              "    }\n",
              "\n",
              "    .colab-df-convert {\n",
              "      background-color: #E8F0FE;\n",
              "      border: none;\n",
              "      border-radius: 50%;\n",
              "      cursor: pointer;\n",
              "      display: none;\n",
              "      fill: #1967D2;\n",
              "      height: 32px;\n",
              "      padding: 0 0 0 0;\n",
              "      width: 32px;\n",
              "    }\n",
              "\n",
              "    .colab-df-convert:hover {\n",
              "      background-color: #E2EBFA;\n",
              "      box-shadow: 0px 1px 2px rgba(60, 64, 67, 0.3), 0px 1px 3px 1px rgba(60, 64, 67, 0.15);\n",
              "      fill: #174EA6;\n",
              "    }\n",
              "\n",
              "    [theme=dark] .colab-df-convert {\n",
              "      background-color: #3B4455;\n",
              "      fill: #D2E3FC;\n",
              "    }\n",
              "\n",
              "    [theme=dark] .colab-df-convert:hover {\n",
              "      background-color: #434B5C;\n",
              "      box-shadow: 0px 1px 3px 1px rgba(0, 0, 0, 0.15);\n",
              "      filter: drop-shadow(0px 1px 2px rgba(0, 0, 0, 0.3));\n",
              "      fill: #FFFFFF;\n",
              "    }\n",
              "  </style>\n",
              "\n",
              "      <script>\n",
              "        const buttonEl =\n",
              "          document.querySelector('#df-c48f3685-07d3-42f4-bb61-d265d6f0685b button.colab-df-convert');\n",
              "        buttonEl.style.display =\n",
              "          google.colab.kernel.accessAllowed ? 'block' : 'none';\n",
              "\n",
              "        async function convertToInteractive(key) {\n",
              "          const element = document.querySelector('#df-c48f3685-07d3-42f4-bb61-d265d6f0685b');\n",
              "          const dataTable =\n",
              "            await google.colab.kernel.invokeFunction('convertToInteractive',\n",
              "                                                     [key], {});\n",
              "          if (!dataTable) return;\n",
              "\n",
              "          const docLinkHtml = 'Like what you see? Visit the ' +\n",
              "            '<a target=\"_blank\" href=https://colab.research.google.com/notebooks/data_table.ipynb>data table notebook</a>'\n",
              "            + ' to learn more about interactive tables.';\n",
              "          element.innerHTML = '';\n",
              "          dataTable['output_type'] = 'display_data';\n",
              "          await google.colab.output.renderOutput(dataTable, element);\n",
              "          const docLink = document.createElement('div');\n",
              "          docLink.innerHTML = docLinkHtml;\n",
              "          element.appendChild(docLink);\n",
              "        }\n",
              "      </script>\n",
              "    </div>\n",
              "  </div>\n",
              "  "
            ]
          },
          "metadata": {},
          "execution_count": 29
        }
      ]
    },
    {
      "cell_type": "code",
      "source": [
        "# Estatistica descritiva\n",
        "Dados.describe()"
      ],
      "metadata": {
        "colab": {
          "base_uri": "https://localhost:8080/",
          "height": 300
        },
        "id": "8ZNpAqOwxTpQ",
        "outputId": "d5f555e9-aa76-49cf-de3e-a08b0417e78a"
      },
      "execution_count": 30,
      "outputs": [
        {
          "output_type": "execute_result",
          "data": {
            "text/plain": [
              "             Open        High         Low       Close   Adj Close  \\\n",
              "count  250.000000  250.000000  250.000000  250.000000  250.000000   \n",
              "mean    29.697840   30.229120   29.160440   29.709640   23.652381   \n",
              "std      3.665291    3.691001    3.612697    3.648733    3.489590   \n",
              "min     21.000000   22.110001   20.770000   21.469999   17.537958   \n",
              "25%     26.585000   27.065000   26.067500   26.700001   20.342243   \n",
              "50%     30.415000   30.710000   29.815000   30.090000   23.754831   \n",
              "75%     32.599998   33.105000   32.017501   32.557501   26.238671   \n",
              "max     37.650002   38.389999   36.849998   37.720001   33.003029   \n",
              "\n",
              "             Volume  \n",
              "count  2.500000e+02  \n",
              "mean   8.170353e+07  \n",
              "std    3.715291e+07  \n",
              "min    2.876520e+07  \n",
              "25%    5.610505e+07  \n",
              "50%    7.266990e+07  \n",
              "75%    9.660060e+07  \n",
              "max    3.195016e+08  "
            ],
            "text/html": [
              "\n",
              "  <div id=\"df-5f83ebe1-6270-4c7c-abd1-73057de24bfc\">\n",
              "    <div class=\"colab-df-container\">\n",
              "      <div>\n",
              "<style scoped>\n",
              "    .dataframe tbody tr th:only-of-type {\n",
              "        vertical-align: middle;\n",
              "    }\n",
              "\n",
              "    .dataframe tbody tr th {\n",
              "        vertical-align: top;\n",
              "    }\n",
              "\n",
              "    .dataframe thead th {\n",
              "        text-align: right;\n",
              "    }\n",
              "</style>\n",
              "<table border=\"1\" class=\"dataframe\">\n",
              "  <thead>\n",
              "    <tr style=\"text-align: right;\">\n",
              "      <th></th>\n",
              "      <th>Open</th>\n",
              "      <th>High</th>\n",
              "      <th>Low</th>\n",
              "      <th>Close</th>\n",
              "      <th>Adj Close</th>\n",
              "      <th>Volume</th>\n",
              "    </tr>\n",
              "  </thead>\n",
              "  <tbody>\n",
              "    <tr>\n",
              "      <th>count</th>\n",
              "      <td>250.000000</td>\n",
              "      <td>250.000000</td>\n",
              "      <td>250.000000</td>\n",
              "      <td>250.000000</td>\n",
              "      <td>250.000000</td>\n",
              "      <td>2.500000e+02</td>\n",
              "    </tr>\n",
              "    <tr>\n",
              "      <th>mean</th>\n",
              "      <td>29.697840</td>\n",
              "      <td>30.229120</td>\n",
              "      <td>29.160440</td>\n",
              "      <td>29.709640</td>\n",
              "      <td>23.652381</td>\n",
              "      <td>8.170353e+07</td>\n",
              "    </tr>\n",
              "    <tr>\n",
              "      <th>std</th>\n",
              "      <td>3.665291</td>\n",
              "      <td>3.691001</td>\n",
              "      <td>3.612697</td>\n",
              "      <td>3.648733</td>\n",
              "      <td>3.489590</td>\n",
              "      <td>3.715291e+07</td>\n",
              "    </tr>\n",
              "    <tr>\n",
              "      <th>min</th>\n",
              "      <td>21.000000</td>\n",
              "      <td>22.110001</td>\n",
              "      <td>20.770000</td>\n",
              "      <td>21.469999</td>\n",
              "      <td>17.537958</td>\n",
              "      <td>2.876520e+07</td>\n",
              "    </tr>\n",
              "    <tr>\n",
              "      <th>25%</th>\n",
              "      <td>26.585000</td>\n",
              "      <td>27.065000</td>\n",
              "      <td>26.067500</td>\n",
              "      <td>26.700001</td>\n",
              "      <td>20.342243</td>\n",
              "      <td>5.610505e+07</td>\n",
              "    </tr>\n",
              "    <tr>\n",
              "      <th>50%</th>\n",
              "      <td>30.415000</td>\n",
              "      <td>30.710000</td>\n",
              "      <td>29.815000</td>\n",
              "      <td>30.090000</td>\n",
              "      <td>23.754831</td>\n",
              "      <td>7.266990e+07</td>\n",
              "    </tr>\n",
              "    <tr>\n",
              "      <th>75%</th>\n",
              "      <td>32.599998</td>\n",
              "      <td>33.105000</td>\n",
              "      <td>32.017501</td>\n",
              "      <td>32.557501</td>\n",
              "      <td>26.238671</td>\n",
              "      <td>9.660060e+07</td>\n",
              "    </tr>\n",
              "    <tr>\n",
              "      <th>max</th>\n",
              "      <td>37.650002</td>\n",
              "      <td>38.389999</td>\n",
              "      <td>36.849998</td>\n",
              "      <td>37.720001</td>\n",
              "      <td>33.003029</td>\n",
              "      <td>3.195016e+08</td>\n",
              "    </tr>\n",
              "  </tbody>\n",
              "</table>\n",
              "</div>\n",
              "      <button class=\"colab-df-convert\" onclick=\"convertToInteractive('df-5f83ebe1-6270-4c7c-abd1-73057de24bfc')\"\n",
              "              title=\"Convert this dataframe to an interactive table.\"\n",
              "              style=\"display:none;\">\n",
              "        \n",
              "  <svg xmlns=\"http://www.w3.org/2000/svg\" height=\"24px\"viewBox=\"0 0 24 24\"\n",
              "       width=\"24px\">\n",
              "    <path d=\"M0 0h24v24H0V0z\" fill=\"none\"/>\n",
              "    <path d=\"M18.56 5.44l.94 2.06.94-2.06 2.06-.94-2.06-.94-.94-2.06-.94 2.06-2.06.94zm-11 1L8.5 8.5l.94-2.06 2.06-.94-2.06-.94L8.5 2.5l-.94 2.06-2.06.94zm10 10l.94 2.06.94-2.06 2.06-.94-2.06-.94-.94-2.06-.94 2.06-2.06.94z\"/><path d=\"M17.41 7.96l-1.37-1.37c-.4-.4-.92-.59-1.43-.59-.52 0-1.04.2-1.43.59L10.3 9.45l-7.72 7.72c-.78.78-.78 2.05 0 2.83L4 21.41c.39.39.9.59 1.41.59.51 0 1.02-.2 1.41-.59l7.78-7.78 2.81-2.81c.8-.78.8-2.07 0-2.86zM5.41 20L4 18.59l7.72-7.72 1.47 1.35L5.41 20z\"/>\n",
              "  </svg>\n",
              "      </button>\n",
              "      \n",
              "  <style>\n",
              "    .colab-df-container {\n",
              "      display:flex;\n",
              "      flex-wrap:wrap;\n",
              "      gap: 12px;\n",
              "    }\n",
              "\n",
              "    .colab-df-convert {\n",
              "      background-color: #E8F0FE;\n",
              "      border: none;\n",
              "      border-radius: 50%;\n",
              "      cursor: pointer;\n",
              "      display: none;\n",
              "      fill: #1967D2;\n",
              "      height: 32px;\n",
              "      padding: 0 0 0 0;\n",
              "      width: 32px;\n",
              "    }\n",
              "\n",
              "    .colab-df-convert:hover {\n",
              "      background-color: #E2EBFA;\n",
              "      box-shadow: 0px 1px 2px rgba(60, 64, 67, 0.3), 0px 1px 3px 1px rgba(60, 64, 67, 0.15);\n",
              "      fill: #174EA6;\n",
              "    }\n",
              "\n",
              "    [theme=dark] .colab-df-convert {\n",
              "      background-color: #3B4455;\n",
              "      fill: #D2E3FC;\n",
              "    }\n",
              "\n",
              "    [theme=dark] .colab-df-convert:hover {\n",
              "      background-color: #434B5C;\n",
              "      box-shadow: 0px 1px 3px 1px rgba(0, 0, 0, 0.15);\n",
              "      filter: drop-shadow(0px 1px 2px rgba(0, 0, 0, 0.3));\n",
              "      fill: #FFFFFF;\n",
              "    }\n",
              "  </style>\n",
              "\n",
              "      <script>\n",
              "        const buttonEl =\n",
              "          document.querySelector('#df-5f83ebe1-6270-4c7c-abd1-73057de24bfc button.colab-df-convert');\n",
              "        buttonEl.style.display =\n",
              "          google.colab.kernel.accessAllowed ? 'block' : 'none';\n",
              "\n",
              "        async function convertToInteractive(key) {\n",
              "          const element = document.querySelector('#df-5f83ebe1-6270-4c7c-abd1-73057de24bfc');\n",
              "          const dataTable =\n",
              "            await google.colab.kernel.invokeFunction('convertToInteractive',\n",
              "                                                     [key], {});\n",
              "          if (!dataTable) return;\n",
              "\n",
              "          const docLinkHtml = 'Like what you see? Visit the ' +\n",
              "            '<a target=\"_blank\" href=https://colab.research.google.com/notebooks/data_table.ipynb>data table notebook</a>'\n",
              "            + ' to learn more about interactive tables.';\n",
              "          element.innerHTML = '';\n",
              "          dataTable['output_type'] = 'display_data';\n",
              "          await google.colab.output.renderOutput(dataTable, element);\n",
              "          const docLink = document.createElement('div');\n",
              "          docLink.innerHTML = docLinkHtml;\n",
              "          element.appendChild(docLink);\n",
              "        }\n",
              "      </script>\n",
              "    </div>\n",
              "  </div>\n",
              "  "
            ]
          },
          "metadata": {},
          "execution_count": 30
        }
      ]
    },
    {
      "cell_type": "code",
      "source": [
        "# Informações\n",
        "Dados.info()"
      ],
      "metadata": {
        "colab": {
          "base_uri": "https://localhost:8080/"
        },
        "id": "Y5siOxSgFm3h",
        "outputId": "a8e32132-2ecd-4517-aad5-c13c0352acee"
      },
      "execution_count": 31,
      "outputs": [
        {
          "output_type": "stream",
          "name": "stdout",
          "text": [
            "<class 'pandas.core.frame.DataFrame'>\n",
            "DatetimeIndex: 250 entries, 2022-02-24 to 2023-02-24\n",
            "Data columns (total 6 columns):\n",
            " #   Column     Non-Null Count  Dtype  \n",
            "---  ------     --------------  -----  \n",
            " 0   Open       250 non-null    float64\n",
            " 1   High       250 non-null    float64\n",
            " 2   Low        250 non-null    float64\n",
            " 3   Close      250 non-null    float64\n",
            " 4   Adj Close  250 non-null    float64\n",
            " 5   Volume     250 non-null    int64  \n",
            "dtypes: float64(5), int64(1)\n",
            "memory usage: 13.7 KB\n"
          ]
        }
      ]
    },
    {
      "cell_type": "code",
      "source": [
        "#Plotando um gráfico simples\n",
        "plt.plot(Dados['Close'])\n",
        "plt.title('Preço Fechamento');"
      ],
      "metadata": {
        "colab": {
          "base_uri": "https://localhost:8080/",
          "height": 281
        },
        "id": "amNtkmUJt9VY",
        "outputId": "3471ebff-f162-4b0d-aaf7-f68a62ec957e"
      },
      "execution_count": 32,
      "outputs": [
        {
          "output_type": "display_data",
          "data": {
            "text/plain": [
              "<Figure size 432x288 with 1 Axes>"
            ],
            "image/png": "[encoded data removed]"
          },
          "metadata": {
            "needs_background": "light"
          }
        }
      ]
    },
    {
      "cell_type": "markdown",
      "source": [
        "## Media Móvel"
      ],
      "metadata": {
        "id": "k2NNcB3DyrPY"
      }
    },
    {
      "cell_type": "markdown",
      "source": [
        "A média móvel é um indicador que faz parte da Análise Técnica de ações. Com ela, é possível identificar o equilíbrio dos preços no mercado, observando tendências de alta, neutra ou baixa. A representação gráfica das médias móveis é normalmente feita por uma linha, que se movimenta conforme os dados novos recebidos para o cálculo.\n",
        "\n",
        "A média móvel é um indicador importante que suaviza os dados dos preços das ações para formar um indicador que segue a tendência.\n",
        "\n",
        "E como fazer esse cálculo?\n",
        "<br>\n",
        "Basta utilizar a fórmula:\n",
        "MMA = Soma dos preços de fechamento ÷ Número de dias "
      ],
      "metadata": {
        "id": "MK0rXQ6SxmFc"
      }
    },
    {
      "cell_type": "markdown",
      "source": [
        "**Função rolling**\n",
        "\n",
        "A função rolling() é uma função do pandas que permite calcular estatísticas em janelas deslizantes de dados. <br>\n",
        "Ela é muito útil para calcular médias móveis, desvios padrão, somatórios, mínimos e máximos, entre outras estatísticas."
      ],
      "metadata": {
        "id": "552lJaRbx15r"
      }
    },
    {
      "cell_type": "code",
      "source": [
        "#Media Movel\n",
        "from pandas.core import window\n",
        "periodo = 5\n",
        "Dados['Close'].rolling(window= periodo).mean()"
      ],
      "metadata": {
        "colab": {
          "base_uri": "https://localhost:8080/"
        },
        "id": "g-wB1GvLuMk-",
        "outputId": "bf854857-ca17-4067-dcd7-964003fcb5f8"
      },
      "execution_count": 33,
      "outputs": [
        {
          "output_type": "execute_result",
          "data": {
            "text/plain": [
              "Date\n",
              "2022-02-24       NaN\n",
              "2022-02-25       NaN\n",
              "2022-03-02       NaN\n",
              "2022-03-03       NaN\n",
              "2022-03-04    34.106\n",
              "               ...  \n",
              "2023-02-16    26.762\n",
              "2023-02-17    26.706\n",
              "2023-02-22    26.498\n",
              "2023-02-23    26.468\n",
              "2023-02-24    26.300\n",
              "Name: Close, Length: 250, dtype: float64"
            ]
          },
          "metadata": {},
          "execution_count": 33
        }
      ]
    },
    {
      "cell_type": "code",
      "source": [
        "# Grafico Simples com Média Movel\n",
        "plt.figure(figsize=(12,6))\n",
        "plt.plot(Dados['Close'])\n",
        "plt.plot(Dados['Close'].rolling(window = periodo).mean())\n",
        "plt.plot(Dados['Close'].rolling(window = periodo + 25).mean())\n",
        "plt.title(\"Preço de Fechamento\")\n",
        "plt.xlabel('Período')\n",
        "plt.ylabel('Valor Fechamento')\n",
        "plt.legend(['Close','Média de 5 dias','Média de 25 dias'])\n",
        "plt.show()"
      ],
      "metadata": {
        "colab": {
          "base_uri": "https://localhost:8080/",
          "height": 404
        },
        "id": "aSZQkLwCu6LM",
        "outputId": "46487113-296b-4634-d20a-4ab13692dc87"
      },
      "execution_count": 34,
      "outputs": [
        {
          "output_type": "display_data",
          "data": {
            "text/plain": [
              "<Figure size 864x432 with 1 Axes>"
            ],
            "image/png": "[encoded data removed]"
          },
          "metadata": {
            "needs_background": "light"
          }
        }
      ]
    },
    {
      "cell_type": "code",
      "source": [
        "# adicinando a media movel na base de dados\n",
        "\n",
        "Dados['Media_Movel'] = Dados['Close'].rolling( window = periodo).mean()\n",
        "Dados"
      ],
      "metadata": {
        "colab": {
          "base_uri": "https://localhost:8080/",
          "height": 455
        },
        "id": "J8OWnXV8-bNr",
        "outputId": "c6dfeabc-cabd-4255-cbde-824bf3ad4689"
      },
      "execution_count": 35,
      "outputs": [
        {
          "output_type": "execute_result",
          "data": {
            "text/plain": [
              "                 Open       High        Low      Close  Adj Close     Volume  \\\n",
              "Date                                                                           \n",
              "2022-02-24  34.799999  35.290001  32.680000  33.389999  19.513243  139674100   \n",
              "2022-02-25  33.450001  34.000000  32.900002  34.000000  19.869728   86189100   \n",
              "2022-03-02  35.259998  35.290001  34.389999  34.669998  20.261278   58071800   \n",
              "2022-03-03  34.820000  34.930000  34.160000  34.240002  20.009989   69237400   \n",
              "2022-03-04  34.080002  34.680000  33.820000  34.230000  20.004143   55418000   \n",
              "...               ...        ...        ...        ...        ...        ...   \n",
              "2023-02-16  26.600000  26.950001  26.490000  26.850000  26.850000   44115700   \n",
              "2023-02-17  26.670000  26.670000  26.370001  26.440001  26.440001   61085700   \n",
              "2023-02-22  26.000000  26.110001  25.690001  25.760000  25.760000   38608500   \n",
              "2023-02-23  25.770000  26.790001  25.770000  26.549999  26.549999   73913400   \n",
              "2023-02-24  26.670000  26.700001  25.870001  25.900000  25.900000   64409100   \n",
              "\n",
              "            Media_Movel  \n",
              "Date                     \n",
              "2022-02-24          NaN  \n",
              "2022-02-25          NaN  \n",
              "2022-03-02          NaN  \n",
              "2022-03-03          NaN  \n",
              "2022-03-04       34.106  \n",
              "...                 ...  \n",
              "2023-02-16       26.762  \n",
              "2023-02-17       26.706  \n",
              "2023-02-22       26.498  \n",
              "2023-02-23       26.468  \n",
              "2023-02-24       26.300  \n",
              "\n",
              "[250 rows x 7 columns]"
            ],
            "text/html": [
              "\n",
              "  <div id=\"df-8e9d51bd-c95d-4b18-ad8d-33f92e8302fd\">\n",
              "    <div class=\"colab-df-container\">\n",
              "      <div>\n",
              "<style scoped>\n",
              "    .dataframe tbody tr th:only-of-type {\n",
              "        vertical-align: middle;\n",
              "    }\n",
              "\n",
              "    .dataframe tbody tr th {\n",
              "        vertical-align: top;\n",
              "    }\n",
              "\n",
              "    .dataframe thead th {\n",
              "        text-align: right;\n",
              "    }\n",
              "</style>\n",
              "<table border=\"1\" class=\"dataframe\">\n",
              "  <thead>\n",
              "    <tr style=\"text-align: right;\">\n",
              "      <th></th>\n",
              "      <th>Open</th>\n",
              "      <th>High</th>\n",
              "      <th>Low</th>\n",
              "      <th>Close</th>\n",
              "      <th>Adj Close</th>\n",
              "      <th>Volume</th>\n",
              "      <th>Media_Movel</th>\n",
              "    </tr>\n",
              "    <tr>\n",
              "      <th>Date</th>\n",
              "      <th></th>\n",
              "      <th></th>\n",
              "      <th></th>\n",
              "      <th></th>\n",
              "      <th></th>\n",
              "      <th></th>\n",
              "      <th></th>\n",
              "    </tr>\n",
              "  </thead>\n",
              "  <tbody>\n",
              "    <tr>\n",
              "      <th>2022-02-24</th>\n",
              "      <td>34.799999</td>\n",
              "      <td>35.290001</td>\n",
              "      <td>32.680000</td>\n",
              "      <td>33.389999</td>\n",
              "      <td>19.513243</td>\n",
              "      <td>139674100</td>\n",
              "      <td>NaN</td>\n",
              "    </tr>\n",
              "    <tr>\n",
              "      <th>2022-02-25</th>\n",
              "      <td>33.450001</td>\n",
              "      <td>34.000000</td>\n",
              "      <td>32.900002</td>\n",
              "      <td>34.000000</td>\n",
              "      <td>19.869728</td>\n",
              "      <td>86189100</td>\n",
              "      <td>NaN</td>\n",
              "    </tr>\n",
              "    <tr>\n",
              "      <th>2022-03-02</th>\n",
              "      <td>35.259998</td>\n",
              "      <td>35.290001</td>\n",
              "      <td>34.389999</td>\n",
              "      <td>34.669998</td>\n",
              "      <td>20.261278</td>\n",
              "      <td>58071800</td>\n",
              "      <td>NaN</td>\n",
              "    </tr>\n",
              "    <tr>\n",
              "      <th>2022-03-03</th>\n",
              "      <td>34.820000</td>\n",
              "      <td>34.930000</td>\n",
              "      <td>34.160000</td>\n",
              "      <td>34.240002</td>\n",
              "      <td>20.009989</td>\n",
              "      <td>69237400</td>\n",
              "      <td>NaN</td>\n",
              "    </tr>\n",
              "    <tr>\n",
              "      <th>2022-03-04</th>\n",
              "      <td>34.080002</td>\n",
              "      <td>34.680000</td>\n",
              "      <td>33.820000</td>\n",
              "      <td>34.230000</td>\n",
              "      <td>20.004143</td>\n",
              "      <td>55418000</td>\n",
              "      <td>34.106</td>\n",
              "    </tr>\n",
              "    <tr>\n",
              "      <th>...</th>\n",
              "      <td>...</td>\n",
              "      <td>...</td>\n",
              "      <td>...</td>\n",
              "      <td>...</td>\n",
              "      <td>...</td>\n",
              "      <td>...</td>\n",
              "      <td>...</td>\n",
              "    </tr>\n",
              "    <tr>\n",
              "      <th>2023-02-16</th>\n",
              "      <td>26.600000</td>\n",
              "      <td>26.950001</td>\n",
              "      <td>26.490000</td>\n",
              "      <td>26.850000</td>\n",
              "      <td>26.850000</td>\n",
              "      <td>44115700</td>\n",
              "      <td>26.762</td>\n",
              "    </tr>\n",
              "    <tr>\n",
              "      <th>2023-02-17</th>\n",
              "      <td>26.670000</td>\n",
              "      <td>26.670000</td>\n",
              "      <td>26.370001</td>\n",
              "      <td>26.440001</td>\n",
              "      <td>26.440001</td>\n",
              "      <td>61085700</td>\n",
              "      <td>26.706</td>\n",
              "    </tr>\n",
              "    <tr>\n",
              "      <th>2023-02-22</th>\n",
              "      <td>26.000000</td>\n",
              "      <td>26.110001</td>\n",
              "      <td>25.690001</td>\n",
              "      <td>25.760000</td>\n",
              "      <td>25.760000</td>\n",
              "      <td>38608500</td>\n",
              "      <td>26.498</td>\n",
              "    </tr>\n",
              "    <tr>\n",
              "      <th>2023-02-23</th>\n",
              "      <td>25.770000</td>\n",
              "      <td>26.790001</td>\n",
              "      <td>25.770000</td>\n",
              "      <td>26.549999</td>\n",
              "      <td>26.549999</td>\n",
              "      <td>73913400</td>\n",
              "      <td>26.468</td>\n",
              "    </tr>\n",
              "    <tr>\n",
              "      <th>2023-02-24</th>\n",
              "      <td>26.670000</td>\n",
              "      <td>26.700001</td>\n",
              "      <td>25.870001</td>\n",
              "      <td>25.900000</td>\n",
              "      <td>25.900000</td>\n",
              "      <td>64409100</td>\n",
              "      <td>26.300</td>\n",
              "    </tr>\n",
              "  </tbody>\n",
              "</table>\n",
              "<p>250 rows × 7 columns</p>\n",
              "</div>\n",
              "      <button class=\"colab-df-convert\" onclick=\"convertToInteractive('df-8e9d51bd-c95d-4b18-ad8d-33f92e8302fd')\"\n",
              "              title=\"Convert this dataframe to an interactive table.\"\n",
              "              style=\"display:none;\">\n",
              "        \n",
              "  <svg xmlns=\"http://www.w3.org/2000/svg\" height=\"24px\"viewBox=\"0 0 24 24\"\n",
              "       width=\"24px\">\n",
              "    <path d=\"M0 0h24v24H0V0z\" fill=\"none\"/>\n",
              "    <path d=\"M18.56 5.44l.94 2.06.94-2.06 2.06-.94-2.06-.94-.94-2.06-.94 2.06-2.06.94zm-11 1L8.5 8.5l.94-2.06 2.06-.94-2.06-.94L8.5 2.5l-.94 2.06-2.06.94zm10 10l.94 2.06.94-2.06 2.06-.94-2.06-.94-.94-2.06-.94 2.06-2.06.94z\"/><path d=\"M17.41 7.96l-1.37-1.37c-.4-.4-.92-.59-1.43-.59-.52 0-1.04.2-1.43.59L10.3 9.45l-7.72 7.72c-.78.78-.78 2.05 0 2.83L4 21.41c.39.39.9.59 1.41.59.51 0 1.02-.2 1.41-.59l7.78-7.78 2.81-2.81c.8-.78.8-2.07 0-2.86zM5.41 20L4 18.59l7.72-7.72 1.47 1.35L5.41 20z\"/>\n",
              "  </svg>\n",
              "      </button>\n",
              "      \n",
              "  <style>\n",
              "    .colab-df-container {\n",
              "      display:flex;\n",
              "      flex-wrap:wrap;\n",
              "      gap: 12px;\n",
              "    }\n",
              "\n",
              "    .colab-df-convert {\n",
              "      background-color: #E8F0FE;\n",
              "      border: none;\n",
              "      border-radius: 50%;\n",
              "      cursor: pointer;\n",
              "      display: none;\n",
              "      fill: #1967D2;\n",
              "      height: 32px;\n",
              "      padding: 0 0 0 0;\n",
              "      width: 32px;\n",
              "    }\n",
              "\n",
              "    .colab-df-convert:hover {\n",
              "      background-color: #E2EBFA;\n",
              "      box-shadow: 0px 1px 2px rgba(60, 64, 67, 0.3), 0px 1px 3px 1px rgba(60, 64, 67, 0.15);\n",
              "      fill: #174EA6;\n",
              "    }\n",
              "\n",
              "    [theme=dark] .colab-df-convert {\n",
              "      background-color: #3B4455;\n",
              "      fill: #D2E3FC;\n",
              "    }\n",
              "\n",
              "    [theme=dark] .colab-df-convert:hover {\n",
              "      background-color: #434B5C;\n",
              "      box-shadow: 0px 1px 3px 1px rgba(0, 0, 0, 0.15);\n",
              "      filter: drop-shadow(0px 1px 2px rgba(0, 0, 0, 0.3));\n",
              "      fill: #FFFFFF;\n",
              "    }\n",
              "  </style>\n",
              "\n",
              "      <script>\n",
              "        const buttonEl =\n",
              "          document.querySelector('#df-8e9d51bd-c95d-4b18-ad8d-33f92e8302fd button.colab-df-convert');\n",
              "        buttonEl.style.display =\n",
              "          google.colab.kernel.accessAllowed ? 'block' : 'none';\n",
              "\n",
              "        async function convertToInteractive(key) {\n",
              "          const element = document.querySelector('#df-8e9d51bd-c95d-4b18-ad8d-33f92e8302fd');\n",
              "          const dataTable =\n",
              "            await google.colab.kernel.invokeFunction('convertToInteractive',\n",
              "                                                     [key], {});\n",
              "          if (!dataTable) return;\n",
              "\n",
              "          const docLinkHtml = 'Like what you see? Visit the ' +\n",
              "            '<a target=\"_blank\" href=https://colab.research.google.com/notebooks/data_table.ipynb>data table notebook</a>'\n",
              "            + ' to learn more about interactive tables.';\n",
              "          element.innerHTML = '';\n",
              "          dataTable['output_type'] = 'display_data';\n",
              "          await google.colab.output.renderOutput(dataTable, element);\n",
              "          const docLink = document.createElement('div');\n",
              "          docLink.innerHTML = docLinkHtml;\n",
              "          element.appendChild(docLink);\n",
              "        }\n",
              "      </script>\n",
              "    </div>\n",
              "  </div>\n",
              "  "
            ]
          },
          "metadata": {},
          "execution_count": 35
        }
      ]
    },
    {
      "cell_type": "markdown",
      "source": [
        "## **Plotly**"
      ],
      "metadata": {
        "id": "fq0eMG4byX8T"
      }
    },
    {
      "cell_type": "markdown",
      "source": [
        "O PLOTLY é uma biblioteca Python de plotagem \n",
        "interativa e de código aberto que oferece suporte a \n",
        "mais de 40 tipos de gráficos exclusivos, abrangendo \n",
        "uma ampla variedade de casos de uso estatísticos, \n",
        "financeiros, geográficos, científicos e \n",
        "tridimensionais."
      ],
      "metadata": {
        "id": "KTrjxDh8yY30"
      }
    },
    {
      "cell_type": "markdown",
      "source": [
        "**plotly.express : (px)** é uma maneira rápida e fácil de criar visualizações dinâmicas de dados.<br>\n",
        "**plotly.graph_objects : (go)** é a API de nível inferior que concede mais controle sobre suas visualizações, mas é mais intensiva em código."
      ],
      "metadata": {
        "id": "2LqNM0fayd7F"
      }
    },
    {
      "cell_type": "code",
      "source": [
        "#Grafico interativo Simples\n",
        "Figure = px.line(\n",
        "    Dados,\n",
        "    y=\"Close\",\n",
        "    title = 'Fechamento'\n",
        "    )\n",
        "Figure.show()"
      ],
      "metadata": {
        "colab": {
          "base_uri": "https://localhost:8080/",
          "height": 542
        },
        "id": "cl7030a1IBb2",
        "outputId": "5e8f159c-eb55-4164-f444-68500e75a7e3"
      },
      "execution_count": 36,
      "outputs": [
        {
          "output_type": "display_data",
          "data": {
            "text/html": [
              "<html>\n",
              "<head><meta charset=\"utf-8\" /></head>\n",
              "<body>\n",
              "    <div>            <script src=\"https://cdnjs.cloudflare.com/ajax/libs/mathjax/2.7.5/MathJax.js?config=TeX-AMS-MML_SVG\"></script><script type=\"text/javascript\">if (window.MathJax) {MathJax.Hub.Config({SVG: {font: \"STIX-Web\"}});}</script>                <script type=\"text/javascript\">window.PlotlyConfig = {MathJaxConfig: 'local'};</script>\n",
              "        <script src=\"https://cdn.plot.ly/plotly-2.8.3.min.js\"></script>                <div id=\"f552813b-758c-4641-ac03-11e630bf2209\" class=\"plotly-graph-div\" style=\"height:525px; width:100%;\"></div>            <script type=\"text/javascript\">                                    window.PLOTLYENV=window.PLOTLYENV || {};                                    if (document.getElementById(\"f552813b-758c-4641-ac03-11e630bf2209\")) {                    Plotly.newPlot(                        \"f552813b-758c-4641-ac03-11e630bf2209\",                        [{\"hovertemplate\":\"Date=%{x}<br>Close=%{y}<extra></extra>\",\"legendgroup\":\"\",\"line\":{\"color\":\"#636efa\",\"dash\":\"solid\"},\"marker\":{\"symbol\":\"circle\"},\"mode\":\"lines\",\"name\":\"\",\"orientation\":\"v\",\"showlegend\":false,\"x\":[\"2022-02-24T00:00:00\",\"2022-02-25T00:00:00\",\"2022-03-02T00:00:00\",\"2022-03-03T00:00:00\",\"2022-03-04T00:00:00\",\"2022-03-07T00:00:00\",\"2022-03-08T00:00:00\",\"2022-03-09T00:00:00\",\"2022-03-10T00:00:00\",\"2022-03-11T00:00:00\",\"2022-03-14T00:00:00\",\"2022-03-15T00:00:00\",\"2022-03-16T00:00:00\",\"2022-03-17T00:00:00\",\"2022-03-18T00:00:00\",\"2022-03-21T00:00:00\",\"2022-03-22T00:00:00\",\"2022-03-23T00:00:00\",\"2022-03-24T00:00:00\",\"2022-03-25T00:00:00\",\"2022-03-28T00:00:00\",\"2022-03-29T00:00:00\",\"2022-03-30T00:00:00\",\"2022-03-31T00:00:00\",\"2022-04-01T00:00:00\",\"2022-04-04T00:00:00\",\"2022-04-05T00:00:00\",\"2022-04-06T00:00:00\",\"2022-04-07T00:00:00\",\"2022-04-08T00:00:00\",\"2022-04-11T00:00:00\",\"2022-04-12T00:00:00\",\"2022-04-13T00:00:00\",\"2022-04-14T00:00:00\",\"2022-04-18T00:00:00\",\"2022-04-19T00:00:00\",\"2022-04-20T00:00:00\",\"2022-04-22T00:00:00\",\"2022-04-25T00:00:00\",\"2022-04-26T00:00:00\",\"2022-04-27T00:00:00\",\"2022-04-28T00:00:00\",\"2022-04-29T00:00:00\",\"2022-05-02T00:00:00\",\"2022-05-03T00:00:00\",\"2022-05-04T00:00:00\",\"2022-05-05T00:00:00\",\"2022-05-06T00:00:00\",\"2022-05-09T00:00:00\",\"2022-05-10T00:00:00\",\"2022-05-11T00:00:00\",\"2022-05-12T00:00:00\",\"2022-05-13T00:00:00\",\"2022-05-16T00:00:00\",\"2022-05-17T00:00:00\",\"2022-05-18T00:00:00\",\"2022-05-19T00:00:00\",\"2022-05-20T00:00:00\",\"2022-05-23T00:00:00\",\"2022-05-24T00:00:00\",\"2022-05-25T00:00:00\",\"2022-05-26T00:00:00\",\"2022-05-27T00:00:00\",\"2022-05-30T00:00:00\",\"2022-05-31T00:00:00\",\"2022-06-01T00:00:00\",\"2022-06-02T00:00:00\",\"2022-06-03T00:00:00\",\"2022-06-06T00:00:00\",\"2022-06-07T00:00:00\",\"2022-06-08T00:00:00\",\"2022-06-09T00:00:00\",\"2022-06-10T00:00:00\",\"2022-06-13T00:00:00\",\"2022-06-14T00:00:00\",\"2022-06-15T00:00:00\",\"2022-06-17T00:00:00\",\"2022-06-20T00:00:00\",\"2022-06-21T00:00:00\",\"2022-06-22T00:00:00\",\"2022-06-23T00:00:00\",\"2022-06-24T00:00:00\",\"2022-06-27T00:00:00\",\"2022-06-28T00:00:00\",\"2022-06-29T00:00:00\",\"2022-06-30T00:00:00\",\"2022-07-01T00:00:00\",\"2022-07-04T00:00:00\",\"2022-07-05T00:00:00\",\"2022-07-06T00:00:00\",\"2022-07-07T00:00:00\",\"2022-07-08T00:00:00\",\"2022-07-11T00:00:00\",\"2022-07-12T00:00:00\",\"2022-07-13T00:00:00\",\"2022-07-14T00:00:00\",\"2022-07-15T00:00:00\",\"2022-07-18T00:00:00\",\"2022-07-19T00:00:00\",\"2022-07-20T00:00:00\",\"2022-07-21T00:00:00\",\"2022-07-22T00:00:00\",\"2022-07-25T00:00:00\",\"2022-07-26T00:00:00\",\"2022-07-27T00:00:00\",\"2022-07-28T00:00:00\",\"2022-07-29T00:00:00\",\"2022-08-01T00:00:00\",\"2022-08-02T00:00:00\",\"2022-08-03T00:00:00\",\"2022-08-04T00:00:00\",\"2022-08-05T00:00:00\",\"2022-08-08T00:00:00\",\"2022-08-09T00:00:00\",\"2022-08-10T00:00:00\",\"2022-08-11T00:00:00\",\"2022-08-12T00:00:00\",\"2022-08-15T00:00:00\",\"2022-08-16T00:00:00\",\"2022-08-17T00:00:00\",\"2022-08-18T00:00:00\",\"2022-08-19T00:00:00\",\"2022-08-22T00:00:00\",\"2022-08-23T00:00:00\",\"2022-08-24T00:00:00\",\"2022-08-25T00:00:00\",\"2022-08-26T00:00:00\",\"2022-08-29T00:00:00\",\"2022-08-30T00:00:00\",\"2022-08-31T00:00:00\",\"2022-09-01T00:00:00\",\"2022-09-02T00:00:00\",\"2022-09-05T00:00:00\",\"2022-09-06T00:00:00\",\"2022-09-08T00:00:00\",\"2022-09-09T00:00:00\",\"2022-09-12T00:00:00\",\"2022-09-13T00:00:00\",\"2022-09-14T00:00:00\",\"2022-09-15T00:00:00\",\"2022-09-16T00:00:00\",\"2022-09-19T00:00:00\",\"2022-09-20T00:00:00\",\"2022-09-21T00:00:00\",\"2022-09-22T00:00:00\",\"2022-09-23T00:00:00\",\"2022-09-26T00:00:00\",\"2022-09-27T00:00:00\",\"2022-09-28T00:00:00\",\"2022-09-29T00:00:00\",\"2022-09-30T00:00:00\",\"2022-10-03T00:00:00\",\"2022-10-04T00:00:00\",\"2022-10-05T00:00:00\",\"2022-10-06T00:00:00\",\"2022-10-07T00:00:00\",\"2022-10-10T00:00:00\",\"2022-10-11T00:00:00\",\"2022-10-13T00:00:00\",\"2022-10-14T00:00:00\",\"2022-10-17T00:00:00\",\"2022-10-18T00:00:00\",\"2022-10-19T00:00:00\",\"2022-10-20T00:00:00\",\"2022-10-21T00:00:00\",\"2022-10-24T00:00:00\",\"2022-10-25T00:00:00\",\"2022-10-26T00:00:00\",\"2022-10-27T00:00:00\",\"2022-10-28T00:00:00\",\"2022-10-31T00:00:00\",\"2022-11-01T00:00:00\",\"2022-11-03T00:00:00\",\"2022-11-04T00:00:00\",\"2022-11-07T00:00:00\",\"2022-11-08T00:00:00\",\"2022-11-09T00:00:00\",\"2022-11-10T00:00:00\",\"2022-11-11T00:00:00\",\"2022-11-14T00:00:00\",\"2022-11-16T00:00:00\",\"2022-11-17T00:00:00\",\"2022-11-18T00:00:00\",\"2022-11-21T00:00:00\",\"2022-11-22T00:00:00\",\"2022-11-23T00:00:00\",\"2022-11-24T00:00:00\",\"2022-11-25T00:00:00\",\"2022-11-28T00:00:00\",\"2022-11-29T00:00:00\",\"2022-11-30T00:00:00\",\"2022-12-01T00:00:00\",\"2022-12-02T00:00:00\",\"2022-12-05T00:00:00\",\"2022-12-06T00:00:00\",\"2022-12-07T00:00:00\",\"2022-12-08T00:00:00\",\"2022-12-09T00:00:00\",\"2022-12-12T00:00:00\",\"2022-12-13T00:00:00\",\"2022-12-14T00:00:00\",\"2022-12-15T00:00:00\",\"2022-12-16T00:00:00\",\"2022-12-19T00:00:00\",\"2022-12-20T00:00:00\",\"2022-12-21T00:00:00\",\"2022-12-22T00:00:00\",\"2022-12-23T00:00:00\",\"2022-12-26T00:00:00\",\"2022-12-27T00:00:00\",\"2022-12-28T00:00:00\",\"2022-12-29T00:00:00\",\"2023-01-02T00:00:00\",\"2023-01-03T00:00:00\",\"2023-01-04T00:00:00\",\"2023-01-05T00:00:00\",\"2023-01-06T00:00:00\",\"2023-01-09T00:00:00\",\"2023-01-10T00:00:00\",\"2023-01-11T00:00:00\",\"2023-01-12T00:00:00\",\"2023-01-13T00:00:00\",\"2023-01-16T00:00:00\",\"2023-01-17T00:00:00\",\"2023-01-18T00:00:00\",\"2023-01-19T00:00:00\",\"2023-01-20T00:00:00\",\"2023-01-23T00:00:00\",\"2023-01-24T00:00:00\",\"2023-01-25T00:00:00\",\"2023-01-26T00:00:00\",\"2023-01-27T00:00:00\",\"2023-01-30T00:00:00\",\"2023-01-31T00:00:00\",\"2023-02-01T00:00:00\",\"2023-02-02T00:00:00\",\"2023-02-03T00:00:00\",\"2023-02-06T00:00:00\",\"2023-02-07T00:00:00\",\"2023-02-08T00:00:00\",\"2023-02-09T00:00:00\",\"2023-02-10T00:00:00\",\"2023-02-13T00:00:00\",\"2023-02-14T00:00:00\",\"2023-02-15T00:00:00\",\"2023-02-16T00:00:00\",\"2023-02-17T00:00:00\",\"2023-02-22T00:00:00\",\"2023-02-23T00:00:00\",\"2023-02-24T00:00:00\"],\"xaxis\":\"x\",\"y\":[33.38999938964844,34.0,34.66999816894531,34.2400016784668,34.22999954223633,31.799999237060547,32.459999084472656,32.560001373291016,33.70000076293945,32.4900016784668,31.8700008392334,31.100000381469727,30.829999923706055,30.010000228881836,30.610000610351562,31.760000228881836,31.6200008392334,32.04999923706055,32.41999816894531,32.29999923706055,31.600000381469727,32.29999923706055,32.9900016784668,33.45000076293945,33.0099983215332,32.70000076293945,32.38999938964844,32.36000061035156,34.040000915527344,34.209999084472656,33.95000076293945,33.849998474121094,34.56999969482422,31.270000457763672,30.719999313354492,31.649999618530273,31.799999237060547,30.559999465942383,30.110000610351562,30.059999465942383,30.059999465942383,30.260000228881836,30.280000686645508,29.979999542236328,30.25,32.06999969482422,32.0099983215332,33.060001373291016,32.15999984741211,32.439998626708984,33.56999969482422,33.83000183105469,34.27000045776367,34.61000061035156,34.15999984741211,33.599998474121094,34.16999816894531,34.83000183105469,36.20000076293945,31.600000381469727,32.04999923706055,32.130001068115234,30.600000381469727,29.989999771118164,30.059999465942383,30.020000457763672,29.760000228881836,30.280000686645508,30.299999237060547,30.65999984741211,30.510000228881836,30.06999969482422,29.649999618530273,29.270000457763672,29.600000381469727,29.079999923706055,27.309999465942383,27.6200008392334,27.06999969482422,26.989999771118164,26.489999771118164,26.290000915527344,27.979999542236328,28.329999923706055,28.079999923706055,27.93000030517578,28.530000686645508,29.139999389648438,28.030000686645508,27.670000076293945,28.479999542236328,28.799999237060547,28.65999984741211,28.229999542236328,28.25,27.489999771118164,27.959999084472656,28.600000381469727,29.18000030517578,29.170000076293945,29.020000457763672,29.329999923706055,30.700000762939453,31.010000228881836,31.350000381469727,32.290000915527344,34.150001525878906,33.68000030517578,33.83000183105469,33.849998474121094,34.209999084472656,34.869998931884766,36.630001068115234,37.22999954223633,37.11000061035156,36.25,31.709999084472656,31.719999313354492,32.0099983215332,32.7599983215332,33.41999816894531,31.729999542236328,32.40999984741211,33.439998626708984,33.63999938964844,33.279998779296875,33.63999938964844,34.47999954223633,32.43000030517578,33.22999954223633,33.849998474121094,33.41999816894531,33.34000015258789,32.099998474121094,31.799999237060547,31.790000915527344,31.479999542236328,30.649999618530273,31.1200008392334,31.059999465942383,30.780000686645508,31.270000457763672,31.09000015258789,31.170000076293945,31.940000534057617,29.940000534057617,29.290000915527344,29.670000076293945,29.270000457763672,29.309999465942383,29.799999237060547,32.18000030517578,31.3700008392334,32.54999923706055,33.65999984741211,33.630001068115234,33.25,33.0,33.939998626708984,33.41999816894531,33.38999938964844,34.209999084472656,35.41999816894531,36.470001220703125,37.720001220703125,34.25,33.529998779296875,32.709999084472656,32.959999084472656,32.56999969482422,29.809999465942383,29.860000610351562,29.950000762939453,28.299999237060547,27.149999618530273,27.350000381469727,26.899999618530273,26.1200008392334,26.989999771118164,27.700000762939453,27.149999618530273,27.15999984741211,26.700000762939453,26.780000686645508,23.329999923706055,23.440000534057617,24.25,23.860000610351562,24.360000610351562,25.3799991607666,26.65999984741211,25.59000015258789,25.90999984741211,25.6200008392334,25.639999389648438,25.350000381469727,24.780000686645508,24.709999084472656,23.90999984741211,23.31999969482422,21.469999313354492,22.040000915527344,22.049999237060547,22.3799991607666,23.06999969482422,23.56999969482422,23.989999771118164,25.1200008392334,24.940000534057617,25.110000610351562,24.799999237060547,24.5,22.920000076293945,22.34000015258789,23.049999237060547,23.8799991607666,23.739999771118164,23.8700008392334,24.09000015258789,24.280000686645508,24.6299991607666,24.56999969482422,24.040000915527344,25.520000457763672,25.06999969482422,25.889999389648438,26.3700008392334,26.790000915527344,26.600000381469727,26.940000534057617,26.25,25.6200008392334,25.75,26.06999969482422,25.709999084472656,24.520000457763672,24.790000915527344,25.780000686645508,25.6200008392334,26.049999237060547,25.93000030517578,26.719999313354492,26.799999237060547,26.700000762939453,26.739999771118164,26.850000381469727,26.440000534057617,25.760000228881836,26.549999237060547,25.899999618530273],\"yaxis\":\"y\",\"type\":\"scatter\"}],                        {\"template\":{\"data\":{\"bar\":[{\"error_x\":{\"color\":\"#2a3f5f\"},\"error_y\":{\"color\":\"#2a3f5f\"},\"marker\":{\"line\":{\"color\":\"#E5ECF6\",\"width\":0.5},\"pattern\":{\"fillmode\":\"overlay\",\"size\":10,\"solidity\":0.2}},\"type\":\"bar\"}],\"barpolar\":[{\"marker\":{\"line\":{\"color\":\"#E5ECF6\",\"width\":0.5},\"pattern\":{\"fillmode\":\"overlay\",\"size\":10,\"solidity\":0.2}},\"type\":\"barpolar\"}],\"carpet\":[{\"aaxis\":{\"endlinecolor\":\"#2a3f5f\",\"gridcolor\":\"white\",\"linecolor\":\"white\",\"minorgridcolor\":\"white\",\"startlinecolor\":\"#2a3f5f\"},\"baxis\":{\"endlinecolor\":\"#2a3f5f\",\"gridcolor\":\"white\",\"linecolor\":\"white\",\"minorgridcolor\":\"white\",\"startlinecolor\":\"#2a3f5f\"},\"type\":\"carpet\"}],\"choropleth\":[{\"colorbar\":{\"outlinewidth\":0,\"ticks\":\"\"},\"type\":\"choropleth\"}],\"contour\":[{\"colorbar\":{\"outlinewidth\":0,\"ticks\":\"\"},\"colorscale\":[[0.0,\"#0d0887\"],[0.1111111111111111,\"#46039f\"],[0.2222222222222222,\"#7201a8\"],[0.3333333333333333,\"#9c179e\"],[0.4444444444444444,\"#bd3786\"],[0.5555555555555556,\"#d8576b\"],[0.6666666666666666,\"#ed7953\"],[0.7777777777777778,\"#fb9f3a\"],[0.8888888888888888,\"#fdca26\"],[1.0,\"#f0f921\"]],\"type\":\"contour\"}],\"contourcarpet\":[{\"colorbar\":{\"outlinewidth\":0,\"ticks\":\"\"},\"type\":\"contourcarpet\"}],\"heatmap\":[{\"colorbar\":{\"outlinewidth\":0,\"ticks\":\"\"},\"colorscale\":[[0.0,\"#0d0887\"],[0.1111111111111111,\"#46039f\"],[0.2222222222222222,\"#7201a8\"],[0.3333333333333333,\"#9c179e\"],[0.4444444444444444,\"#bd3786\"],[0.5555555555555556,\"#d8576b\"],[0.6666666666666666,\"#ed7953\"],[0.7777777777777778,\"#fb9f3a\"],[0.8888888888888888,\"#fdca26\"],[1.0,\"#f0f921\"]],\"type\":\"heatmap\"}],\"heatmapgl\":[{\"colorbar\":{\"outlinewidth\":0,\"ticks\":\"\"},\"colorscale\":[[0.0,\"#0d0887\"],[0.1111111111111111,\"#46039f\"],[0.2222222222222222,\"#7201a8\"],[0.3333333333333333,\"#9c179e\"],[0.4444444444444444,\"#bd3786\"],[0.5555555555555556,\"#d8576b\"],[0.6666666666666666,\"#ed7953\"],[0.7777777777777778,\"#fb9f3a\"],[0.8888888888888888,\"#fdca26\"],[1.0,\"#f0f921\"]],\"type\":\"heatmapgl\"}],\"histogram\":[{\"marker\":{\"pattern\":{\"fillmode\":\"overlay\",\"size\":10,\"solidity\":0.2}},\"type\":\"histogram\"}],\"histogram2d\":[{\"colorbar\":{\"outlinewidth\":0,\"ticks\":\"\"},\"colorscale\":[[0.0,\"#0d0887\"],[0.1111111111111111,\"#46039f\"],[0.2222222222222222,\"#7201a8\"],[0.3333333333333333,\"#9c179e\"],[0.4444444444444444,\"#bd3786\"],[0.5555555555555556,\"#d8576b\"],[0.6666666666666666,\"#ed7953\"],[0.7777777777777778,\"#fb9f3a\"],[0.8888888888888888,\"#fdca26\"],[1.0,\"#f0f921\"]],\"type\":\"histogram2d\"}],\"histogram2dcontour\":[{\"colorbar\":{\"outlinewidth\":0,\"ticks\":\"\"},\"colorscale\":[[0.0,\"#0d0887\"],[0.1111111111111111,\"#46039f\"],[0.2222222222222222,\"#7201a8\"],[0.3333333333333333,\"#9c179e\"],[0.4444444444444444,\"#bd3786\"],[0.5555555555555556,\"#d8576b\"],[0.6666666666666666,\"#ed7953\"],[0.7777777777777778,\"#fb9f3a\"],[0.8888888888888888,\"#fdca26\"],[1.0,\"#f0f921\"]],\"type\":\"histogram2dcontour\"}],\"mesh3d\":[{\"colorbar\":{\"outlinewidth\":0,\"ticks\":\"\"},\"type\":\"mesh3d\"}],\"parcoords\":[{\"line\":{\"colorbar\":{\"outlinewidth\":0,\"ticks\":\"\"}},\"type\":\"parcoords\"}],\"pie\":[{\"automargin\":true,\"type\":\"pie\"}],\"scatter\":[{\"marker\":{\"colorbar\":{\"outlinewidth\":0,\"ticks\":\"\"}},\"type\":\"scatter\"}],\"scatter3d\":[{\"line\":{\"colorbar\":{\"outlinewidth\":0,\"ticks\":\"\"}},\"marker\":{\"colorbar\":{\"outlinewidth\":0,\"ticks\":\"\"}},\"type\":\"scatter3d\"}],\"scattercarpet\":[{\"marker\":{\"colorbar\":{\"outlinewidth\":0,\"ticks\":\"\"}},\"type\":\"scattercarpet\"}],\"scattergeo\":[{\"marker\":{\"colorbar\":{\"outlinewidth\":0,\"ticks\":\"\"}},\"type\":\"scattergeo\"}],\"scattergl\":[{\"marker\":{\"colorbar\":{\"outlinewidth\":0,\"ticks\":\"\"}},\"type\":\"scattergl\"}],\"scattermapbox\":[{\"marker\":{\"colorbar\":{\"outlinewidth\":0,\"ticks\":\"\"}},\"type\":\"scattermapbox\"}],\"scatterpolar\":[{\"marker\":{\"colorbar\":{\"outlinewidth\":0,\"ticks\":\"\"}},\"type\":\"scatterpolar\"}],\"scatterpolargl\":[{\"marker\":{\"colorbar\":{\"outlinewidth\":0,\"ticks\":\"\"}},\"type\":\"scatterpolargl\"}],\"scatterternary\":[{\"marker\":{\"colorbar\":{\"outlinewidth\":0,\"ticks\":\"\"}},\"type\":\"scatterternary\"}],\"surface\":[{\"colorbar\":{\"outlinewidth\":0,\"ticks\":\"\"},\"colorscale\":[[0.0,\"#0d0887\"],[0.1111111111111111,\"#46039f\"],[0.2222222222222222,\"#7201a8\"],[0.3333333333333333,\"#9c179e\"],[0.4444444444444444,\"#bd3786\"],[0.5555555555555556,\"#d8576b\"],[0.6666666666666666,\"#ed7953\"],[0.7777777777777778,\"#fb9f3a\"],[0.8888888888888888,\"#fdca26\"],[1.0,\"#f0f921\"]],\"type\":\"surface\"}],\"table\":[{\"cells\":{\"fill\":{\"color\":\"#EBF0F8\"},\"line\":{\"color\":\"white\"}},\"header\":{\"fill\":{\"color\":\"#C8D4E3\"},\"line\":{\"color\":\"white\"}},\"type\":\"table\"}]},\"layout\":{\"annotationdefaults\":{\"arrowcolor\":\"#2a3f5f\",\"arrowhead\":0,\"arrowwidth\":1},\"autotypenumbers\":\"strict\",\"coloraxis\":{\"colorbar\":{\"outlinewidth\":0,\"ticks\":\"\"}},\"colorscale\":{\"diverging\":[[0,\"#8e0152\"],[0.1,\"#c51b7d\"],[0.2,\"#de77ae\"],[0.3,\"#f1b6da\"],[0.4,\"#fde0ef\"],[0.5,\"#f7f7f7\"],[0.6,\"#e6f5d0\"],[0.7,\"#b8e186\"],[0.8,\"#7fbc41\"],[0.9,\"#4d9221\"],[1,\"#276419\"]],\"sequential\":[[0.0,\"#0d0887\"],[0.1111111111111111,\"#46039f\"],[0.2222222222222222,\"#7201a8\"],[0.3333333333333333,\"#9c179e\"],[0.4444444444444444,\"#bd3786\"],[0.5555555555555556,\"#d8576b\"],[0.6666666666666666,\"#ed7953\"],[0.7777777777777778,\"#fb9f3a\"],[0.8888888888888888,\"#fdca26\"],[1.0,\"#f0f921\"]],\"sequentialminus\":[[0.0,\"#0d0887\"],[0.1111111111111111,\"#46039f\"],[0.2222222222222222,\"#7201a8\"],[0.3333333333333333,\"#9c179e\"],[0.4444444444444444,\"#bd3786\"],[0.5555555555555556,\"#d8576b\"],[0.6666666666666666,\"#ed7953\"],[0.7777777777777778,\"#fb9f3a\"],[0.8888888888888888,\"#fdca26\"],[1.0,\"#f0f921\"]]},\"colorway\":[\"#636efa\",\"#EF553B\",\"#00cc96\",\"#ab63fa\",\"#FFA15A\",\"#19d3f3\",\"#FF6692\",\"#B6E880\",\"#FF97FF\",\"#FECB52\"],\"font\":{\"color\":\"#2a3f5f\"},\"geo\":{\"bgcolor\":\"white\",\"lakecolor\":\"white\",\"landcolor\":\"#E5ECF6\",\"showlakes\":true,\"showland\":true,\"subunitcolor\":\"white\"},\"hoverlabel\":{\"align\":\"left\"},\"hovermode\":\"closest\",\"mapbox\":{\"style\":\"light\"},\"paper_bgcolor\":\"white\",\"plot_bgcolor\":\"#E5ECF6\",\"polar\":{\"angularaxis\":{\"gridcolor\":\"white\",\"linecolor\":\"white\",\"ticks\":\"\"},\"bgcolor\":\"#E5ECF6\",\"radialaxis\":{\"gridcolor\":\"white\",\"linecolor\":\"white\",\"ticks\":\"\"}},\"scene\":{\"xaxis\":{\"backgroundcolor\":\"#E5ECF6\",\"gridcolor\":\"white\",\"gridwidth\":2,\"linecolor\":\"white\",\"showbackground\":true,\"ticks\":\"\",\"zerolinecolor\":\"white\"},\"yaxis\":{\"backgroundcolor\":\"#E5ECF6\",\"gridcolor\":\"white\",\"gridwidth\":2,\"linecolor\":\"white\",\"showbackground\":true,\"ticks\":\"\",\"zerolinecolor\":\"white\"},\"zaxis\":{\"backgroundcolor\":\"#E5ECF6\",\"gridcolor\":\"white\",\"gridwidth\":2,\"linecolor\":\"white\",\"showbackground\":true,\"ticks\":\"\",\"zerolinecolor\":\"white\"}},\"shapedefaults\":{\"line\":{\"color\":\"#2a3f5f\"}},\"ternary\":{\"aaxis\":{\"gridcolor\":\"white\",\"linecolor\":\"white\",\"ticks\":\"\"},\"baxis\":{\"gridcolor\":\"white\",\"linecolor\":\"white\",\"ticks\":\"\"},\"bgcolor\":\"#E5ECF6\",\"caxis\":{\"gridcolor\":\"white\",\"linecolor\":\"white\",\"ticks\":\"\"}},\"title\":{\"x\":0.05},\"xaxis\":{\"automargin\":true,\"gridcolor\":\"white\",\"linecolor\":\"white\",\"ticks\":\"\",\"title\":{\"standoff\":15},\"zerolinecolor\":\"white\",\"zerolinewidth\":2},\"yaxis\":{\"automargin\":true,\"gridcolor\":\"white\",\"linecolor\":\"white\",\"ticks\":\"\",\"title\":{\"standoff\":15},\"zerolinecolor\":\"white\",\"zerolinewidth\":2}}},\"xaxis\":{\"anchor\":\"y\",\"domain\":[0.0,1.0],\"title\":{\"text\":\"Date\"}},\"yaxis\":{\"anchor\":\"x\",\"domain\":[0.0,1.0],\"title\":{\"text\":\"Close\"}},\"legend\":{\"tracegroupgap\":0},\"title\":{\"text\":\"Fechamento\"}},                        {\"responsive\": true}                    ).then(function(){\n",
              "                            \n",
              "var gd = document.getElementById('f552813b-758c-4641-ac03-11e630bf2209');\n",
              "var x = new MutationObserver(function (mutations, observer) {{\n",
              "        var display = window.getComputedStyle(gd).display;\n",
              "        if (!display || display === 'none') {{\n",
              "            console.log([gd, 'removed!']);\n",
              "            Plotly.purge(gd);\n",
              "            observer.disconnect();\n",
              "        }}\n",
              "}});\n",
              "\n",
              "// Listen for the removal of the full notebook cells\n",
              "var notebookContainer = gd.closest('#notebook-container');\n",
              "if (notebookContainer) {{\n",
              "    x.observe(notebookContainer, {childList: true});\n",
              "}}\n",
              "\n",
              "// Listen for the clearing of the current output cell\n",
              "var outputEl = gd.closest('.output');\n",
              "if (outputEl) {{\n",
              "    x.observe(outputEl, {childList: true});\n",
              "}}\n",
              "\n",
              "                        })                };                            </script>        </div>\n",
              "</body>\n",
              "</html>"
            ]
          },
          "metadata": {}
        }
      ]
    },
    {
      "cell_type": "markdown",
      "source": [
        "## **Candlestick Charts**\n",
        "<br>\n",
        "É um estilo de gráfico financeiro que descreve abertura, alta, baixa e fechamento para uma determinada xcoordenada (tempo mais provável). As caixas representam a dispersão entre os valores opene closee as linhas representam a dispersão entre os valores lowe high. Pontos de amostragem onde o valor de fechamento é maior (inferior) do que o valor de abertura são chamados de crescentes (decrescentes). Por padrão, as velas crescentes são desenhadas em verde, enquanto as decrescentes são desenhadas em vermelho."
      ],
      "metadata": {
        "id": "sd1WgXlszh-M"
      }
    },
    {
      "cell_type": "code",
      "source": [
        "# Grafico clandestik\n",
        "Grafico_Candlestick = go.Figure(\n",
        "    data=[\n",
        "        go.Candlestick(\n",
        "            x=Dados.index,\n",
        "            open=Dados['Open'],\n",
        "            high=Dados['High'],\n",
        "            low=Dados['Low'],\n",
        "            close=Dados['Close'],\n",
        "            increasing_line_color='green',\n",
        "            decreasing_line_color='red'\n",
        "        )\n",
        "    ]\n",
        ")\n",
        "\n",
        "\n",
        "Grafico_Candlestick.update_layout(\n",
        "    xaxis_rangeslider_visible=False,\n",
        "    title='Análise Fechamento',\n",
        "    xaxis_title='Periodo',\n",
        "    yaxis_title='Preço de Fechamento'\n",
        ")\n",
        "\n",
        "\n",
        "Grafico_Candlestick.show()"
      ],
      "metadata": {
        "colab": {
          "base_uri": "https://localhost:8080/",
          "height": 542
        },
        "id": "3-FdJpdOzm9a",
        "outputId": "16a73c51-ffd3-4ef1-e712-368b71825e9b"
      },
      "execution_count": 37,
      "outputs": [
        {
          "output_type": "display_data",
          "data": {
            "text/html": [
              "<html>\n",
              "<head><meta charset=\"utf-8\" /></head>\n",
              "<body>\n",
              "    <div>            <script src=\"https://cdnjs.cloudflare.com/ajax/libs/mathjax/2.7.5/MathJax.js?config=TeX-AMS-MML_SVG\"></script><script type=\"text/javascript\">if (window.MathJax) {MathJax.Hub.Config({SVG: {font: \"STIX-Web\"}});}</script>                <script type=\"text/javascript\">window.PlotlyConfig = {MathJaxConfig: 'local'};</script>\n",
              "        <script src=\"https://cdn.plot.ly/plotly-2.8.3.min.js\"></script>                <div id=\"4cf74724-090a-415c-8085-39309800b836\" class=\"plotly-graph-div\" style=\"height:525px; width:100%;\"></div>            <script type=\"text/javascript\">                                    window.PLOTLYENV=window.PLOTLYENV || {};                                    if (document.getElementById(\"4cf74724-090a-415c-8085-39309800b836\")) {                    Plotly.newPlot(                        \"4cf74724-090a-415c-8085-39309800b836\",                        [{\"close\":[33.38999938964844,34.0,34.66999816894531,34.2400016784668,34.22999954223633,31.799999237060547,32.459999084472656,32.560001373291016,33.70000076293945,32.4900016784668,31.8700008392334,31.100000381469727,30.829999923706055,30.010000228881836,30.610000610351562,31.760000228881836,31.6200008392334,32.04999923706055,32.41999816894531,32.29999923706055,31.600000381469727,32.29999923706055,32.9900016784668,33.45000076293945,33.0099983215332,32.70000076293945,32.38999938964844,32.36000061035156,34.040000915527344,34.209999084472656,33.95000076293945,33.849998474121094,34.56999969482422,31.270000457763672,30.719999313354492,31.649999618530273,31.799999237060547,30.559999465942383,30.110000610351562,30.059999465942383,30.059999465942383,30.260000228881836,30.280000686645508,29.979999542236328,30.25,32.06999969482422,32.0099983215332,33.060001373291016,32.15999984741211,32.439998626708984,33.56999969482422,33.83000183105469,34.27000045776367,34.61000061035156,34.15999984741211,33.599998474121094,34.16999816894531,34.83000183105469,36.20000076293945,31.600000381469727,32.04999923706055,32.130001068115234,30.600000381469727,29.989999771118164,30.059999465942383,30.020000457763672,29.760000228881836,30.280000686645508,30.299999237060547,30.65999984741211,30.510000228881836,30.06999969482422,29.649999618530273,29.270000457763672,29.600000381469727,29.079999923706055,27.309999465942383,27.6200008392334,27.06999969482422,26.989999771118164,26.489999771118164,26.290000915527344,27.979999542236328,28.329999923706055,28.079999923706055,27.93000030517578,28.530000686645508,29.139999389648438,28.030000686645508,27.670000076293945,28.479999542236328,28.799999237060547,28.65999984741211,28.229999542236328,28.25,27.489999771118164,27.959999084472656,28.600000381469727,29.18000030517578,29.170000076293945,29.020000457763672,29.329999923706055,30.700000762939453,31.010000228881836,31.350000381469727,32.290000915527344,34.150001525878906,33.68000030517578,33.83000183105469,33.849998474121094,34.209999084472656,34.869998931884766,36.630001068115234,37.22999954223633,37.11000061035156,36.25,31.709999084472656,31.719999313354492,32.0099983215332,32.7599983215332,33.41999816894531,31.729999542236328,32.40999984741211,33.439998626708984,33.63999938964844,33.279998779296875,33.63999938964844,34.47999954223633,32.43000030517578,33.22999954223633,33.849998474121094,33.41999816894531,33.34000015258789,32.099998474121094,31.799999237060547,31.790000915527344,31.479999542236328,30.649999618530273,31.1200008392334,31.059999465942383,30.780000686645508,31.270000457763672,31.09000015258789,31.170000076293945,31.940000534057617,29.940000534057617,29.290000915527344,29.670000076293945,29.270000457763672,29.309999465942383,29.799999237060547,32.18000030517578,31.3700008392334,32.54999923706055,33.65999984741211,33.630001068115234,33.25,33.0,33.939998626708984,33.41999816894531,33.38999938964844,34.209999084472656,35.41999816894531,36.470001220703125,37.720001220703125,34.25,33.529998779296875,32.709999084472656,32.959999084472656,32.56999969482422,29.809999465942383,29.860000610351562,29.950000762939453,28.299999237060547,27.149999618530273,27.350000381469727,26.899999618530273,26.1200008392334,26.989999771118164,27.700000762939453,27.149999618530273,27.15999984741211,26.700000762939453,26.780000686645508,23.329999923706055,23.440000534057617,24.25,23.860000610351562,24.360000610351562,25.3799991607666,26.65999984741211,25.59000015258789,25.90999984741211,25.6200008392334,25.639999389648438,25.350000381469727,24.780000686645508,24.709999084472656,23.90999984741211,23.31999969482422,21.469999313354492,22.040000915527344,22.049999237060547,22.3799991607666,23.06999969482422,23.56999969482422,23.989999771118164,25.1200008392334,24.940000534057617,25.110000610351562,24.799999237060547,24.5,22.920000076293945,22.34000015258789,23.049999237060547,23.8799991607666,23.739999771118164,23.8700008392334,24.09000015258789,24.280000686645508,24.6299991607666,24.56999969482422,24.040000915527344,25.520000457763672,25.06999969482422,25.889999389648438,26.3700008392334,26.790000915527344,26.600000381469727,26.940000534057617,26.25,25.6200008392334,25.75,26.06999969482422,25.709999084472656,24.520000457763672,24.790000915527344,25.780000686645508,25.6200008392334,26.049999237060547,25.93000030517578,26.719999313354492,26.799999237060547,26.700000762939453,26.739999771118164,26.850000381469727,26.440000534057617,25.760000228881836,26.549999237060547,25.899999618530273],\"decreasing\":{\"line\":{\"color\":\"red\"}},\"high\":[35.290000915527344,34.0,35.290000915527344,34.93000030517578,34.68000030517578,34.599998474121094,32.970001220703125,32.81999969482422,34.599998474121094,34.380001068115234,32.88999938964844,31.540000915527344,31.540000915527344,31.399999618530273,30.81999969482422,32.09000015258789,32.099998474121094,32.470001220703125,32.599998474121094,32.54999923706055,32.08000183105469,32.7599983215332,32.9900016784668,33.56999969482422,33.790000915527344,32.900001525878906,33.060001373291016,32.779998779296875,34.060001373291016,34.40999984741211,34.099998474121094,34.68000030517578,34.79999923706055,32.06999969482422,31.389999389648438,32.0,31.950000762939453,31.299999237060547,30.440000534057617,30.579999923706055,30.559999465942383,30.6200008392334,31.59000015258789,30.329999923706055,30.389999389648438,32.16999816894531,32.5,33.119998931884766,33.040000915527344,32.849998474121094,33.90999984741211,34.08000183105469,34.439998626708984,34.880001068115234,35.13999938964844,34.560001373291016,34.290000915527344,34.83000183105469,36.310001373291016,32.09000015258789,32.279998779296875,32.560001373291016,32.150001525878906,30.8700008392334,30.6200008392334,30.329999923706055,30.049999237060547,30.440000534057617,30.530000686645508,31.299999237060547,31.149999618530273,30.65999984741211,30.010000228881836,29.579999923706055,30.25,30.020000457763672,28.450000762939453,28.25,28.15999984741211,27.549999237060547,27.3799991607666,27.09000015258789,28.06999969482422,28.829999923706055,28.81999969482422,28.059999465942383,28.850000381469727,29.280000686645508,28.950000762939453,28.479999542236328,28.920000076293945,28.969999313354492,28.790000915527344,28.43000030517578,28.479999542236328,28.0,28.049999237060547,28.690000534057617,29.239999771118164,29.219999313354492,29.1299991607666,29.469999313354492,30.75,31.6200008392334,31.469999313354492,32.630001068115234,34.65999984741211,34.150001525878906,34.5,34.15999984741211,34.400001525878906,35.060001373291016,36.77000045776367,37.459999084472656,37.650001525878906,37.86000061035156,31.829999923706055,32.22999954223633,32.06999969482422,32.81999969482422,33.65999984741211,33.150001525878906,32.58000183105469,33.5,34.119998931884766,34.36000061035156,33.66999816894531,35.08000183105469,34.220001220703125,33.439998626708984,33.95000076293945,34.56999969482422,34.11000061035156,32.59000015258789,32.779998779296875,32.66999816894531,32.72999954223633,31.440000534057617,31.43000030517578,31.229999542236328,30.950000762939453,31.3799991607666,31.600000381469727,31.469999313354492,32.08000183105469,31.389999389648438,30.079999923706055,29.8799991607666,29.81999969482422,29.399999618530273,30.489999771118164,32.63999938964844,32.97999954223633,32.81999969482422,33.790000915527344,34.31999969482422,33.88999938964844,33.33000183105469,34.4900016784668,34.13999938964844,34.150001525878906,34.22999954223633,35.560001373291016,36.54999923706055,38.38999938964844,36.81999969482422,34.5,33.529998779296875,33.540000915527344,33.119998931884766,31.600000381469727,30.670000076293945,30.389999389648438,30.899999618530273,28.299999237060547,27.530000686645508,27.950000762939453,26.889999389648438,27.360000610351562,28.18000030517578,28.110000610351562,27.299999237060547,27.600000381469727,27.56999969482422,23.43000030517578,23.649999618530273,24.6299991607666,24.329999923706055,24.549999237060547,25.8799991607666,26.65999984741211,26.790000915527344,26.450000762939453,26.579999923706055,26.389999389648438,26.06999969482422,25.790000915527344,25.049999237060547,24.65999984741211,24.200000762939453,22.600000381469727,22.3700008392334,22.110000610351562,22.510000228881836,23.239999771118164,23.719999313354492,24.559999465942383,25.219999313354492,25.299999237060547,25.309999465942383,25.31999969482422,25.049999237060547,23.809999465942383,23.100000381469727,23.59000015258789,24.040000915527344,24.31999969482422,24.0,24.110000610351562,24.6200008392334,24.649999618530273,24.65999984741211,24.5,25.6200008392334,26.030000686645508,25.950000762939453,26.600000381469727,27.600000381469727,27.530000686645508,27.079999923706055,27.200000762939453,26.229999542236328,26.06999969482422,26.209999084472656,26.479999542236328,25.809999465942383,25.3799991607666,25.8700008392334,26.139999389648438,26.149999618530273,26.31999969482422,26.790000915527344,26.889999389648438,27.059999465942383,26.799999237060547,26.950000762939453,26.670000076293945,26.110000610351562,26.790000915527344,26.700000762939453],\"increasing\":{\"line\":{\"color\":\"green\"}},\"low\":[32.68000030517578,32.900001525878906,34.38999938964844,34.15999984741211,33.81999969482422,31.6299991607666,31.510000228881836,31.739999771118164,32.52000045776367,32.06999969482422,31.520000457763672,30.469999313354492,30.3700008392334,29.5,29.860000610351562,30.639999389648438,31.350000381469727,31.690000534057617,31.670000076293945,31.920000076293945,30.979999542236328,31.920000076293945,32.380001068115234,32.5,32.90999984741211,32.25,32.38999938964844,32.040000915527344,32.5,33.849998474121094,33.779998779296875,33.79999923706055,34.099998474121094,31.15999984741211,30.469999313354492,31.1200008392334,31.329999923706055,30.31999969482422,29.540000915527344,29.889999389648438,29.950000762939453,30.25,30.280000686645508,29.329999923706055,29.81999969482422,30.399999618530273,31.020000457763672,31.899999618530273,32.060001373291016,32.20000076293945,32.689998626708984,33.2599983215332,33.900001525878906,34.0099983215332,34.13999938964844,33.43000030517578,33.33000183105469,34.25,35.150001525878906,30.709999084472656,31.260000228881836,31.950000762939453,30.56999969482422,29.1200008392334,29.809999465942383,29.850000381469727,29.549999237060547,29.530000686645508,29.90999984741211,30.15999984741211,30.329999923706055,29.979999542236328,29.059999465942383,28.670000076293945,29.239999771118164,28.84000015258789,26.1299991607666,25.90999984741211,26.690000534057617,26.389999389648438,26.1200008392334,26.18000030517578,26.65999984741211,28.020000457763672,27.84000015258789,27.399999618530273,27.520000457763672,28.540000915527344,27.549999237060547,26.90999984741211,28.0,28.3700008392334,28.25,27.969999313354492,27.979999542236328,27.239999771118164,27.489999771118164,28.299999237060547,28.399999618530273,28.829999923706055,28.200000762939453,28.850000381469727,29.610000610351562,30.59000015258789,30.6200008392334,31.43000030517578,32.83000183105469,33.220001220703125,33.47999954223633,33.560001373291016,33.58000183105469,34.119998931884766,35.130001068115234,36.849998474121094,36.61000061035156,36.25,29.079999923706055,30.549999237060547,31.5,31.600000381469727,32.869998931884766,31.329999923706055,30.479999542236328,32.619998931884766,33.25,32.66999816894531,32.56999969482422,33.45000076293945,32.27000045776367,31.81999969482422,32.7599983215332,33.2599983215332,33.150001525878906,31.510000228881836,31.399999618530273,31.700000762939453,31.459999084472656,30.520000457763672,30.6299991607666,30.799999237060547,30.34000015258789,29.8799991607666,30.84000015258789,30.889999389648438,31.030000686645508,29.770000457763672,29.270000457763672,29.579999923706055,28.579999923706055,28.600000381469727,29.0,31.65999984741211,31.06999969482422,31.200000762939453,32.439998626708984,33.220001220703125,33.0,32.61000061035156,32.40999984741211,33.29999923706055,32.84000015258789,33.15999984741211,34.02000045776367,35.77000045776367,36.38999938964844,34.22999954223633,33.209999084472656,31.899999618530273,32.66999816894531,31.860000610351562,29.15999984741211,29.559999465942383,29.440000534057617,28.18000030517578,27.06999969482422,26.75,26.639999389648438,25.610000610351562,25.700000762939453,27.09000015258789,26.93000030517578,26.549999237060547,26.219999313354492,26.049999237060547,22.299999237060547,22.799999237060547,23.25,23.600000381469727,23.540000915527344,24.479999542236328,25.5,25.559999465942383,25.309999465942383,25.549999237060547,25.420000076293945,25.270000457763672,24.639999389648438,24.489999771118164,23.1299991607666,23.309999465942383,20.770000457763672,20.829999923706055,21.510000228881836,21.639999389648438,22.209999084472656,22.850000381469727,23.700000762939453,24.1299991607666,24.81999969482422,24.549999237060547,24.75,24.43000030517578,22.799999237060547,22.1299991607666,21.829999923706055,23.149999618530273,23.549999237060547,23.25,23.3700008392334,24.049999237060547,24.110000610351562,24.25,23.829999923706055,24.110000610351562,25.0,24.790000915527344,25.420000076293945,26.1299991607666,26.3700008392334,26.010000228881836,25.799999237060547,25.440000534057617,25.510000228881836,25.520000457763672,25.450000762939453,24.420000076293945,24.420000076293945,24.75,25.459999084472656,25.559999465942383,25.790000915527344,25.93000030517578,26.3700008392334,26.600000381469727,26.299999237060547,26.489999771118164,26.3700008392334,25.690000534057617,25.770000457763672,25.8700008392334],\"open\":[34.79999923706055,33.45000076293945,35.2599983215332,34.81999969482422,34.08000183105469,34.5,32.0,32.599998474121094,32.599998474121094,33.90999984741211,32.43000030517578,31.139999389648438,31.5,31.25,30.09000015258789,30.90999984741211,31.989999771118164,31.93000030517578,32.04999923706055,32.150001525878906,32.060001373291016,32.130001068115234,32.5,32.56999969482422,33.54999923706055,32.900001525878906,32.65999984741211,32.599998474121094,32.63999938964844,34.06999969482422,33.900001525878906,34.400001525878906,34.369998931884766,31.600000381469727,31.15999984741211,31.15999984741211,31.649999618530273,31.049999237060547,29.969999313354492,30.110000610351562,30.3700008392334,30.450000762939453,30.75,30.170000076293945,30.1200008392334,30.600000381469727,31.809999465942383,32.689998626708984,32.70000076293945,32.36000061035156,32.779998779296875,33.2599983215332,34.099998474121094,34.25,35.0,34.18000030517578,33.52000045776367,34.59000015258789,35.18000030517578,31.200000762939453,31.700000762939453,32.02000045776367,32.150001525878906,30.84000015258789,30.40999984741211,29.899999618530273,29.969999313354492,29.709999084472656,30.5,30.190000534057617,30.420000076293945,30.510000228881836,30.010000228881836,29.020000457763672,29.65999984741211,30.0,28.170000076293945,26.020000457763672,27.799999237060547,26.579999923706055,26.979999542236328,26.760000228881836,26.81999969482422,28.579999923706055,28.479999542236328,27.649999618530273,28.079999923706055,28.540000915527344,28.899999618530273,28.15999984741211,28.0,28.530000686645508,28.31999969482422,28.299999237060547,28.1299991607666,28.0,27.700000762939453,28.389999389648438,28.549999237060547,29.06999969482422,28.979999542236328,29.040000915527344,29.610000610351562,31.200000762939453,31.299999237060547,31.59000015258789,33.599998474121094,34.0,33.77000045776367,34.0099983215332,34.08000183105469,34.150001525878906,35.13999938964844,37.0099983215332,37.650001525878906,37.45000076293945,29.100000381469727,30.8799991607666,31.719999313354492,31.649999618530273,33.099998474121094,32.91999816894531,31.739999771118164,32.630001068115234,33.540000915527344,34.099998474121094,33.279998779296875,33.54999923706055,34.0,32.06999969482422,33.36000061035156,34.439998626708984,33.849998474121094,32.27000045776367,32.310001373291016,32.4900016784668,32.150001525878906,30.940000534057617,30.75,30.920000076293945,30.860000610351562,30.5,31.420000076293945,31.350000381469727,31.479999542236328,31.31999969482422,29.719999313354492,29.65999984741211,29.670000076293945,28.989999771118164,29.219999313354492,31.90999984741211,32.900001525878906,31.40999984741211,33.0,33.58000183105469,33.650001525878906,32.88999938964844,32.5,33.970001220703125,33.2400016784668,33.900001525878906,34.130001068115234,36.099998474121094,36.45000076293945,36.5,34.040000915527344,32.599998474121094,32.810001373291016,32.70000076293945,30.610000610351562,30.56999969482422,29.799999237060547,30.799999237060547,27.959999084472656,27.059999465942383,27.149999618530273,26.079999923706055,25.799999237060547,27.260000228881836,27.809999465942383,27.0,27.399999618530273,27.1200008392334,23.0,23.0,23.520000457763672,24.260000228881836,23.649999618530273,24.600000381469727,25.600000381469727,26.579999923706055,25.690000534057617,26.0,25.81999969482422,25.34000015258789,25.549999237060547,24.989999771118164,24.579999923706055,24.100000381469727,22.5,21.0,21.959999084472656,22.100000381469727,22.389999389648438,23.5,23.899999618530273,24.1299991607666,25.1200008392334,25.25,25.100000381469727,24.989999771118164,23.540000915527344,22.940000534057617,21.959999084472656,23.34000015258789,23.940000534057617,23.5,23.950000762939453,24.149999618530273,24.290000915527344,24.440000534057617,24.40999984741211,24.110000610351562,25.84000015258789,25.0,25.889999389648438,26.270000457763672,27.469999313354492,26.549999237060547,27.09000015258789,26.18000030517578,25.850000381469727,25.6299991607666,26.06999969482422,25.510000228881836,24.540000915527344,24.8700008392334,25.90999984741211,25.799999237060547,26.049999237060547,25.979999542236328,26.690000534057617,26.850000381469727,26.579999923706055,26.600000381469727,26.670000076293945,26.0,25.770000457763672,26.670000076293945],\"x\":[\"2022-02-24T00:00:00\",\"2022-02-25T00:00:00\",\"2022-03-02T00:00:00\",\"2022-03-03T00:00:00\",\"2022-03-04T00:00:00\",\"2022-03-07T00:00:00\",\"2022-03-08T00:00:00\",\"2022-03-09T00:00:00\",\"2022-03-10T00:00:00\",\"2022-03-11T00:00:00\",\"2022-03-14T00:00:00\",\"2022-03-15T00:00:00\",\"2022-03-16T00:00:00\",\"2022-03-17T00:00:00\",\"2022-03-18T00:00:00\",\"2022-03-21T00:00:00\",\"2022-03-22T00:00:00\",\"2022-03-23T00:00:00\",\"2022-03-24T00:00:00\",\"2022-03-25T00:00:00\",\"2022-03-28T00:00:00\",\"2022-03-29T00:00:00\",\"2022-03-30T00:00:00\",\"2022-03-31T00:00:00\",\"2022-04-01T00:00:00\",\"2022-04-04T00:00:00\",\"2022-04-05T00:00:00\",\"2022-04-06T00:00:00\",\"2022-04-07T00:00:00\",\"2022-04-08T00:00:00\",\"2022-04-11T00:00:00\",\"2022-04-12T00:00:00\",\"2022-04-13T00:00:00\",\"2022-04-14T00:00:00\",\"2022-04-18T00:00:00\",\"2022-04-19T00:00:00\",\"2022-04-20T00:00:00\",\"2022-04-22T00:00:00\",\"2022-04-25T00:00:00\",\"2022-04-26T00:00:00\",\"2022-04-27T00:00:00\",\"2022-04-28T00:00:00\",\"2022-04-29T00:00:00\",\"2022-05-02T00:00:00\",\"2022-05-03T00:00:00\",\"2022-05-04T00:00:00\",\"2022-05-05T00:00:00\",\"2022-05-06T00:00:00\",\"2022-05-09T00:00:00\",\"2022-05-10T00:00:00\",\"2022-05-11T00:00:00\",\"2022-05-12T00:00:00\",\"2022-05-13T00:00:00\",\"2022-05-16T00:00:00\",\"2022-05-17T00:00:00\",\"2022-05-18T00:00:00\",\"2022-05-19T00:00:00\",\"2022-05-20T00:00:00\",\"2022-05-23T00:00:00\",\"2022-05-24T00:00:00\",\"2022-05-25T00:00:00\",\"2022-05-26T00:00:00\",\"2022-05-27T00:00:00\",\"2022-05-30T00:00:00\",\"2022-05-31T00:00:00\",\"2022-06-01T00:00:00\",\"2022-06-02T00:00:00\",\"2022-06-03T00:00:00\",\"2022-06-06T00:00:00\",\"2022-06-07T00:00:00\",\"2022-06-08T00:00:00\",\"2022-06-09T00:00:00\",\"2022-06-10T00:00:00\",\"2022-06-13T00:00:00\",\"2022-06-14T00:00:00\",\"2022-06-15T00:00:00\",\"2022-06-17T00:00:00\",\"2022-06-20T00:00:00\",\"2022-06-21T00:00:00\",\"2022-06-22T00:00:00\",\"2022-06-23T00:00:00\",\"2022-06-24T00:00:00\",\"2022-06-27T00:00:00\",\"2022-06-28T00:00:00\",\"2022-06-29T00:00:00\",\"2022-06-30T00:00:00\",\"2022-07-01T00:00:00\",\"2022-07-04T00:00:00\",\"2022-07-05T00:00:00\",\"2022-07-06T00:00:00\",\"2022-07-07T00:00:00\",\"2022-07-08T00:00:00\",\"2022-07-11T00:00:00\",\"2022-07-12T00:00:00\",\"2022-07-13T00:00:00\",\"2022-07-14T00:00:00\",\"2022-07-15T00:00:00\",\"2022-07-18T00:00:00\",\"2022-07-19T00:00:00\",\"2022-07-20T00:00:00\",\"2022-07-21T00:00:00\",\"2022-07-22T00:00:00\",\"2022-07-25T00:00:00\",\"2022-07-26T00:00:00\",\"2022-07-27T00:00:00\",\"2022-07-28T00:00:00\",\"2022-07-29T00:00:00\",\"2022-08-01T00:00:00\",\"2022-08-02T00:00:00\",\"2022-08-03T00:00:00\",\"2022-08-04T00:00:00\",\"2022-08-05T00:00:00\",\"2022-08-08T00:00:00\",\"2022-08-09T00:00:00\",\"2022-08-10T00:00:00\",\"2022-08-11T00:00:00\",\"2022-08-12T00:00:00\",\"2022-08-15T00:00:00\",\"2022-08-16T00:00:00\",\"2022-08-17T00:00:00\",\"2022-08-18T00:00:00\",\"2022-08-19T00:00:00\",\"2022-08-22T00:00:00\",\"2022-08-23T00:00:00\",\"2022-08-24T00:00:00\",\"2022-08-25T00:00:00\",\"2022-08-26T00:00:00\",\"2022-08-29T00:00:00\",\"2022-08-30T00:00:00\",\"2022-08-31T00:00:00\",\"2022-09-01T00:00:00\",\"2022-09-02T00:00:00\",\"2022-09-05T00:00:00\",\"2022-09-06T00:00:00\",\"2022-09-08T00:00:00\",\"2022-09-09T00:00:00\",\"2022-09-12T00:00:00\",\"2022-09-13T00:00:00\",\"2022-09-14T00:00:00\",\"2022-09-15T00:00:00\",\"2022-09-16T00:00:00\",\"2022-09-19T00:00:00\",\"2022-09-20T00:00:00\",\"2022-09-21T00:00:00\",\"2022-09-22T00:00:00\",\"2022-09-23T00:00:00\",\"2022-09-26T00:00:00\",\"2022-09-27T00:00:00\",\"2022-09-28T00:00:00\",\"2022-09-29T00:00:00\",\"2022-09-30T00:00:00\",\"2022-10-03T00:00:00\",\"2022-10-04T00:00:00\",\"2022-10-05T00:00:00\",\"2022-10-06T00:00:00\",\"2022-10-07T00:00:00\",\"2022-10-10T00:00:00\",\"2022-10-11T00:00:00\",\"2022-10-13T00:00:00\",\"2022-10-14T00:00:00\",\"2022-10-17T00:00:00\",\"2022-10-18T00:00:00\",\"2022-10-19T00:00:00\",\"2022-10-20T00:00:00\",\"2022-10-21T00:00:00\",\"2022-10-24T00:00:00\",\"2022-10-25T00:00:00\",\"2022-10-26T00:00:00\",\"2022-10-27T00:00:00\",\"2022-10-28T00:00:00\",\"2022-10-31T00:00:00\",\"2022-11-01T00:00:00\",\"2022-11-03T00:00:00\",\"2022-11-04T00:00:00\",\"2022-11-07T00:00:00\",\"2022-11-08T00:00:00\",\"2022-11-09T00:00:00\",\"2022-11-10T00:00:00\",\"2022-11-11T00:00:00\",\"2022-11-14T00:00:00\",\"2022-11-16T00:00:00\",\"2022-11-17T00:00:00\",\"2022-11-18T00:00:00\",\"2022-11-21T00:00:00\",\"2022-11-22T00:00:00\",\"2022-11-23T00:00:00\",\"2022-11-24T00:00:00\",\"2022-11-25T00:00:00\",\"2022-11-28T00:00:00\",\"2022-11-29T00:00:00\",\"2022-11-30T00:00:00\",\"2022-12-01T00:00:00\",\"2022-12-02T00:00:00\",\"2022-12-05T00:00:00\",\"2022-12-06T00:00:00\",\"2022-12-07T00:00:00\",\"2022-12-08T00:00:00\",\"2022-12-09T00:00:00\",\"2022-12-12T00:00:00\",\"2022-12-13T00:00:00\",\"2022-12-14T00:00:00\",\"2022-12-15T00:00:00\",\"2022-12-16T00:00:00\",\"2022-12-19T00:00:00\",\"2022-12-20T00:00:00\",\"2022-12-21T00:00:00\",\"2022-12-22T00:00:00\",\"2022-12-23T00:00:00\",\"2022-12-26T00:00:00\",\"2022-12-27T00:00:00\",\"2022-12-28T00:00:00\",\"2022-12-29T00:00:00\",\"2023-01-02T00:00:00\",\"2023-01-03T00:00:00\",\"2023-01-04T00:00:00\",\"2023-01-05T00:00:00\",\"2023-01-06T00:00:00\",\"2023-01-09T00:00:00\",\"2023-01-10T00:00:00\",\"2023-01-11T00:00:00\",\"2023-01-12T00:00:00\",\"2023-01-13T00:00:00\",\"2023-01-16T00:00:00\",\"2023-01-17T00:00:00\",\"2023-01-18T00:00:00\",\"2023-01-19T00:00:00\",\"2023-01-20T00:00:00\",\"2023-01-23T00:00:00\",\"2023-01-24T00:00:00\",\"2023-01-25T00:00:00\",\"2023-01-26T00:00:00\",\"2023-01-27T00:00:00\",\"2023-01-30T00:00:00\",\"2023-01-31T00:00:00\",\"2023-02-01T00:00:00\",\"2023-02-02T00:00:00\",\"2023-02-03T00:00:00\",\"2023-02-06T00:00:00\",\"2023-02-07T00:00:00\",\"2023-02-08T00:00:00\",\"2023-02-09T00:00:00\",\"2023-02-10T00:00:00\",\"2023-02-13T00:00:00\",\"2023-02-14T00:00:00\",\"2023-02-15T00:00:00\",\"2023-02-16T00:00:00\",\"2023-02-17T00:00:00\",\"2023-02-22T00:00:00\",\"2023-02-23T00:00:00\",\"2023-02-24T00:00:00\"],\"type\":\"candlestick\"}],                        {\"template\":{\"data\":{\"bar\":[{\"error_x\":{\"color\":\"#2a3f5f\"},\"error_y\":{\"color\":\"#2a3f5f\"},\"marker\":{\"line\":{\"color\":\"#E5ECF6\",\"width\":0.5},\"pattern\":{\"fillmode\":\"overlay\",\"size\":10,\"solidity\":0.2}},\"type\":\"bar\"}],\"barpolar\":[{\"marker\":{\"line\":{\"color\":\"#E5ECF6\",\"width\":0.5},\"pattern\":{\"fillmode\":\"overlay\",\"size\":10,\"solidity\":0.2}},\"type\":\"barpolar\"}],\"carpet\":[{\"aaxis\":{\"endlinecolor\":\"#2a3f5f\",\"gridcolor\":\"white\",\"linecolor\":\"white\",\"minorgridcolor\":\"white\",\"startlinecolor\":\"#2a3f5f\"},\"baxis\":{\"endlinecolor\":\"#2a3f5f\",\"gridcolor\":\"white\",\"linecolor\":\"white\",\"minorgridcolor\":\"white\",\"startlinecolor\":\"#2a3f5f\"},\"type\":\"carpet\"}],\"choropleth\":[{\"colorbar\":{\"outlinewidth\":0,\"ticks\":\"\"},\"type\":\"choropleth\"}],\"contour\":[{\"colorbar\":{\"outlinewidth\":0,\"ticks\":\"\"},\"colorscale\":[[0.0,\"#0d0887\"],[0.1111111111111111,\"#46039f\"],[0.2222222222222222,\"#7201a8\"],[0.3333333333333333,\"#9c179e\"],[0.4444444444444444,\"#bd3786\"],[0.5555555555555556,\"#d8576b\"],[0.6666666666666666,\"#ed7953\"],[0.7777777777777778,\"#fb9f3a\"],[0.8888888888888888,\"#fdca26\"],[1.0,\"#f0f921\"]],\"type\":\"contour\"}],\"contourcarpet\":[{\"colorbar\":{\"outlinewidth\":0,\"ticks\":\"\"},\"type\":\"contourcarpet\"}],\"heatmap\":[{\"colorbar\":{\"outlinewidth\":0,\"ticks\":\"\"},\"colorscale\":[[0.0,\"#0d0887\"],[0.1111111111111111,\"#46039f\"],[0.2222222222222222,\"#7201a8\"],[0.3333333333333333,\"#9c179e\"],[0.4444444444444444,\"#bd3786\"],[0.5555555555555556,\"#d8576b\"],[0.6666666666666666,\"#ed7953\"],[0.7777777777777778,\"#fb9f3a\"],[0.8888888888888888,\"#fdca26\"],[1.0,\"#f0f921\"]],\"type\":\"heatmap\"}],\"heatmapgl\":[{\"colorbar\":{\"outlinewidth\":0,\"ticks\":\"\"},\"colorscale\":[[0.0,\"#0d0887\"],[0.1111111111111111,\"#46039f\"],[0.2222222222222222,\"#7201a8\"],[0.3333333333333333,\"#9c179e\"],[0.4444444444444444,\"#bd3786\"],[0.5555555555555556,\"#d8576b\"],[0.6666666666666666,\"#ed7953\"],[0.7777777777777778,\"#fb9f3a\"],[0.8888888888888888,\"#fdca26\"],[1.0,\"#f0f921\"]],\"type\":\"heatmapgl\"}],\"histogram\":[{\"marker\":{\"pattern\":{\"fillmode\":\"overlay\",\"size\":10,\"solidity\":0.2}},\"type\":\"histogram\"}],\"histogram2d\":[{\"colorbar\":{\"outlinewidth\":0,\"ticks\":\"\"},\"colorscale\":[[0.0,\"#0d0887\"],[0.1111111111111111,\"#46039f\"],[0.2222222222222222,\"#7201a8\"],[0.3333333333333333,\"#9c179e\"],[0.4444444444444444,\"#bd3786\"],[0.5555555555555556,\"#d8576b\"],[0.6666666666666666,\"#ed7953\"],[0.7777777777777778,\"#fb9f3a\"],[0.8888888888888888,\"#fdca26\"],[1.0,\"#f0f921\"]],\"type\":\"histogram2d\"}],\"histogram2dcontour\":[{\"colorbar\":{\"outlinewidth\":0,\"ticks\":\"\"},\"colorscale\":[[0.0,\"#0d0887\"],[0.1111111111111111,\"#46039f\"],[0.2222222222222222,\"#7201a8\"],[0.3333333333333333,\"#9c179e\"],[0.4444444444444444,\"#bd3786\"],[0.5555555555555556,\"#d8576b\"],[0.6666666666666666,\"#ed7953\"],[0.7777777777777778,\"#fb9f3a\"],[0.8888888888888888,\"#fdca26\"],[1.0,\"#f0f921\"]],\"type\":\"histogram2dcontour\"}],\"mesh3d\":[{\"colorbar\":{\"outlinewidth\":0,\"ticks\":\"\"},\"type\":\"mesh3d\"}],\"parcoords\":[{\"line\":{\"colorbar\":{\"outlinewidth\":0,\"ticks\":\"\"}},\"type\":\"parcoords\"}],\"pie\":[{\"automargin\":true,\"type\":\"pie\"}],\"scatter\":[{\"marker\":{\"colorbar\":{\"outlinewidth\":0,\"ticks\":\"\"}},\"type\":\"scatter\"}],\"scatter3d\":[{\"line\":{\"colorbar\":{\"outlinewidth\":0,\"ticks\":\"\"}},\"marker\":{\"colorbar\":{\"outlinewidth\":0,\"ticks\":\"\"}},\"type\":\"scatter3d\"}],\"scattercarpet\":[{\"marker\":{\"colorbar\":{\"outlinewidth\":0,\"ticks\":\"\"}},\"type\":\"scattercarpet\"}],\"scattergeo\":[{\"marker\":{\"colorbar\":{\"outlinewidth\":0,\"ticks\":\"\"}},\"type\":\"scattergeo\"}],\"scattergl\":[{\"marker\":{\"colorbar\":{\"outlinewidth\":0,\"ticks\":\"\"}},\"type\":\"scattergl\"}],\"scattermapbox\":[{\"marker\":{\"colorbar\":{\"outlinewidth\":0,\"ticks\":\"\"}},\"type\":\"scattermapbox\"}],\"scatterpolar\":[{\"marker\":{\"colorbar\":{\"outlinewidth\":0,\"ticks\":\"\"}},\"type\":\"scatterpolar\"}],\"scatterpolargl\":[{\"marker\":{\"colorbar\":{\"outlinewidth\":0,\"ticks\":\"\"}},\"type\":\"scatterpolargl\"}],\"scatterternary\":[{\"marker\":{\"colorbar\":{\"outlinewidth\":0,\"ticks\":\"\"}},\"type\":\"scatterternary\"}],\"surface\":[{\"colorbar\":{\"outlinewidth\":0,\"ticks\":\"\"},\"colorscale\":[[0.0,\"#0d0887\"],[0.1111111111111111,\"#46039f\"],[0.2222222222222222,\"#7201a8\"],[0.3333333333333333,\"#9c179e\"],[0.4444444444444444,\"#bd3786\"],[0.5555555555555556,\"#d8576b\"],[0.6666666666666666,\"#ed7953\"],[0.7777777777777778,\"#fb9f3a\"],[0.8888888888888888,\"#fdca26\"],[1.0,\"#f0f921\"]],\"type\":\"surface\"}],\"table\":[{\"cells\":{\"fill\":{\"color\":\"#EBF0F8\"},\"line\":{\"color\":\"white\"}},\"header\":{\"fill\":{\"color\":\"#C8D4E3\"},\"line\":{\"color\":\"white\"}},\"type\":\"table\"}]},\"layout\":{\"annotationdefaults\":{\"arrowcolor\":\"#2a3f5f\",\"arrowhead\":0,\"arrowwidth\":1},\"autotypenumbers\":\"strict\",\"coloraxis\":{\"colorbar\":{\"outlinewidth\":0,\"ticks\":\"\"}},\"colorscale\":{\"diverging\":[[0,\"#8e0152\"],[0.1,\"#c51b7d\"],[0.2,\"#de77ae\"],[0.3,\"#f1b6da\"],[0.4,\"#fde0ef\"],[0.5,\"#f7f7f7\"],[0.6,\"#e6f5d0\"],[0.7,\"#b8e186\"],[0.8,\"#7fbc41\"],[0.9,\"#4d9221\"],[1,\"#276419\"]],\"sequential\":[[0.0,\"#0d0887\"],[0.1111111111111111,\"#46039f\"],[0.2222222222222222,\"#7201a8\"],[0.3333333333333333,\"#9c179e\"],[0.4444444444444444,\"#bd3786\"],[0.5555555555555556,\"#d8576b\"],[0.6666666666666666,\"#ed7953\"],[0.7777777777777778,\"#fb9f3a\"],[0.8888888888888888,\"#fdca26\"],[1.0,\"#f0f921\"]],\"sequentialminus\":[[0.0,\"#0d0887\"],[0.1111111111111111,\"#46039f\"],[0.2222222222222222,\"#7201a8\"],[0.3333333333333333,\"#9c179e\"],[0.4444444444444444,\"#bd3786\"],[0.5555555555555556,\"#d8576b\"],[0.6666666666666666,\"#ed7953\"],[0.7777777777777778,\"#fb9f3a\"],[0.8888888888888888,\"#fdca26\"],[1.0,\"#f0f921\"]]},\"colorway\":[\"#636efa\",\"#EF553B\",\"#00cc96\",\"#ab63fa\",\"#FFA15A\",\"#19d3f3\",\"#FF6692\",\"#B6E880\",\"#FF97FF\",\"#FECB52\"],\"font\":{\"color\":\"#2a3f5f\"},\"geo\":{\"bgcolor\":\"white\",\"lakecolor\":\"white\",\"landcolor\":\"#E5ECF6\",\"showlakes\":true,\"showland\":true,\"subunitcolor\":\"white\"},\"hoverlabel\":{\"align\":\"left\"},\"hovermode\":\"closest\",\"mapbox\":{\"style\":\"light\"},\"paper_bgcolor\":\"white\",\"plot_bgcolor\":\"#E5ECF6\",\"polar\":{\"angularaxis\":{\"gridcolor\":\"white\",\"linecolor\":\"white\",\"ticks\":\"\"},\"bgcolor\":\"#E5ECF6\",\"radialaxis\":{\"gridcolor\":\"white\",\"linecolor\":\"white\",\"ticks\":\"\"}},\"scene\":{\"xaxis\":{\"backgroundcolor\":\"#E5ECF6\",\"gridcolor\":\"white\",\"gridwidth\":2,\"linecolor\":\"white\",\"showbackground\":true,\"ticks\":\"\",\"zerolinecolor\":\"white\"},\"yaxis\":{\"backgroundcolor\":\"#E5ECF6\",\"gridcolor\":\"white\",\"gridwidth\":2,\"linecolor\":\"white\",\"showbackground\":true,\"ticks\":\"\",\"zerolinecolor\":\"white\"},\"zaxis\":{\"backgroundcolor\":\"#E5ECF6\",\"gridcolor\":\"white\",\"gridwidth\":2,\"linecolor\":\"white\",\"showbackground\":true,\"ticks\":\"\",\"zerolinecolor\":\"white\"}},\"shapedefaults\":{\"line\":{\"color\":\"#2a3f5f\"}},\"ternary\":{\"aaxis\":{\"gridcolor\":\"white\",\"linecolor\":\"white\",\"ticks\":\"\"},\"baxis\":{\"gridcolor\":\"white\",\"linecolor\":\"white\",\"ticks\":\"\"},\"bgcolor\":\"#E5ECF6\",\"caxis\":{\"gridcolor\":\"white\",\"linecolor\":\"white\",\"ticks\":\"\"}},\"title\":{\"x\":0.05},\"xaxis\":{\"automargin\":true,\"gridcolor\":\"white\",\"linecolor\":\"white\",\"ticks\":\"\",\"title\":{\"standoff\":15},\"zerolinecolor\":\"white\",\"zerolinewidth\":2},\"yaxis\":{\"automargin\":true,\"gridcolor\":\"white\",\"linecolor\":\"white\",\"ticks\":\"\",\"title\":{\"standoff\":15},\"zerolinecolor\":\"white\",\"zerolinewidth\":2}}},\"xaxis\":{\"rangeslider\":{\"visible\":false},\"title\":{\"text\":\"Periodo\"}},\"title\":{\"text\":\"An\\u00e1lise Fechamento\"},\"yaxis\":{\"title\":{\"text\":\"Pre\\u00e7o de Fechamento\"}}},                        {\"responsive\": true}                    ).then(function(){\n",
              "                            \n",
              "var gd = document.getElementById('4cf74724-090a-415c-8085-39309800b836');\n",
              "var x = new MutationObserver(function (mutations, observer) {{\n",
              "        var display = window.getComputedStyle(gd).display;\n",
              "        if (!display || display === 'none') {{\n",
              "            console.log([gd, 'removed!']);\n",
              "            Plotly.purge(gd);\n",
              "            observer.disconnect();\n",
              "        }}\n",
              "}});\n",
              "\n",
              "// Listen for the removal of the full notebook cells\n",
              "var notebookContainer = gd.closest('#notebook-container');\n",
              "if (notebookContainer) {{\n",
              "    x.observe(notebookContainer, {childList: true});\n",
              "}}\n",
              "\n",
              "// Listen for the clearing of the current output cell\n",
              "var outputEl = gd.closest('.output');\n",
              "if (outputEl) {{\n",
              "    x.observe(outputEl, {childList: true});\n",
              "}}\n",
              "\n",
              "                        })                };                            </script>        </div>\n",
              "</body>\n",
              "</html>"
            ]
          },
          "metadata": {}
        }
      ]
    },
    {
      "cell_type": "markdown",
      "source": [
        "## **Criando Relátorio**"
      ],
      "metadata": {
        "id": "7TQYu9sEzyH8"
      }
    },
    {
      "cell_type": "code",
      "source": [
        "#Criando a figura\n",
        "Figura = make_subplots(\n",
        "    rows=2,\n",
        "    cols=1,\n",
        "    specs=[\n",
        "          [{'type':'scatter'}],\n",
        "          [{'type':'scatter'}] \n",
        "    ],\n",
        "    vertical_spacing = 0.075,\n",
        "    shared_xaxes = True,\n",
        "    subplot_titles = ('Cotação', 'Fechamento')\n",
        "\n",
        ")\n",
        "\n",
        "# Layout e Dimensão\n",
        "Figura.update_layout(\n",
        "    width=1000,\n",
        "    height=800,\n",
        "    title_text='<b>Advanced Analytics</b> <br>Follow-up Petrobras'\n",
        ")\n",
        "\n",
        "# Adicionado um gráfico na 1º Posição\n",
        "Figura.add_trace(\n",
        "        go.Candlestick(\n",
        "        x = Dados.index,\n",
        "        open = Dados['Open'],\n",
        "        high = Dados['High'],\n",
        "        low = Dados['Low'],\n",
        "        close = Dados['Close'],\n",
        "        increasing_line_color = 'green',\n",
        "        decreasing_line_color = 'red'\n",
        "        ),\n",
        "    row=1, col=1\n",
        ")\n",
        "Figura.add_trace(\n",
        "    go.Scatter(\n",
        "        x=Dados.index,\n",
        "        y=Dados['Media_Movel'],\n",
        "        mode= 'lines',\n",
        "        name=\" Média Movel\",\n",
        "        line=dict(color = 'yellow')\n",
        "    )\n",
        ")\n",
        "Figura.update_layout(\n",
        "xaxis_rangeslider_visible=False\n",
        ")\n",
        "\n",
        "\n",
        "# Adicionado um gráfico na 2º Posição\n",
        "Figura.add_trace(\n",
        "    go.Scatter(\n",
        "        x=Dados.index,\n",
        "        y=Dados['Close'],\n",
        "        mode='lines',\n",
        "        name='Fechamento',\n",
        "        line=dict(color='green')\n",
        "    ),\n",
        "    row=2, col=1\n",
        ")\n",
        "\n",
        "Figura.add_trace(\n",
        "    go.Scatter(\n",
        "        x=Dados.index,\n",
        "        y=Dados['Media_Movel'],\n",
        "        mode='lines',\n",
        "        name='Média Móvel',\n",
        "        line=dict(color='red')\n",
        "    ),\n",
        "    row=2, col=1\n",
        ")\n",
        "\n",
        "#configurando a legenda\n",
        "Figura.update_layout(\n",
        "    legend=dict(\n",
        "        orientation='h',\n",
        "        yanchor='bottom',\n",
        "        y=1.05,\n",
        "        xanchor='right',\n",
        "        x=1,\n",
        "        font=dict( size=10) \n",
        "    )\n",
        ")\n",
        "\n",
        "# colocando o rodape\n",
        "Figura.add_annotation(\n",
        "    showarrow=False,\n",
        "    text='Análise feita no evento de Python',\n",
        "    font=dict(size=14),\n",
        "    xref='x domain',\n",
        "    x=1,\n",
        "    yref='y domain',\n",
        "    y=-1.4\n",
        ")\n",
        "\n",
        "Figura.add_annotation(\n",
        "    showarrow=False,\n",
        "    text='By: Matheus Medeiros',\n",
        "    font=dict(size=14),\n",
        "    xref='x domain',\n",
        "    x=0,\n",
        "    yref='y domain',\n",
        "    y=-1.4\n",
        ")\n",
        "\n",
        "\n",
        "\n",
        "Figura.show()"
      ],
      "metadata": {
        "colab": {
          "base_uri": "https://localhost:8080/",
          "height": 817
        },
        "id": "a4CImot0Sau-",
        "outputId": "25a878f0-9100-475c-909a-576c291ad4cb"
      },
      "execution_count": 38,
      "outputs": [
        {
          "output_type": "display_data",
          "data": {
            "text/html": [
              "<html>\n",
              "<head><meta charset=\"utf-8\" /></head>\n",
              "<body>\n",
              "    <div>            <script src=\"https://cdnjs.cloudflare.com/ajax/libs/mathjax/2.7.5/MathJax.js?config=TeX-AMS-MML_SVG\"></script><script type=\"text/javascript\">if (window.MathJax) {MathJax.Hub.Config({SVG: {font: \"STIX-Web\"}});}</script>                <script type=\"text/javascript\">window.PlotlyConfig = {MathJaxConfig: 'local'};</script>\n",
              "        <script src=\"https://cdn.plot.ly/plotly-2.8.3.min.js\"></script>                <div id=\"ef70c832-86ec-4f6b-a5b2-c06438a83c07\" class=\"plotly-graph-div\" style=\"height:800px; width:1000px;\"></div>            <script type=\"text/javascript\">                                    window.PLOTLYENV=window.PLOTLYENV || {};                                    if (document.getElementById(\"ef70c832-86ec-4f6b-a5b2-c06438a83c07\")) {                    Plotly.newPlot(                        \"ef70c832-86ec-4f6b-a5b2-c06438a83c07\",                        [{\"close\":[33.38999938964844,34.0,34.66999816894531,34.2400016784668,34.22999954223633,31.799999237060547,32.459999084472656,32.560001373291016,33.70000076293945,32.4900016784668,31.8700008392334,31.100000381469727,30.829999923706055,30.010000228881836,30.610000610351562,31.760000228881836,31.6200008392334,32.04999923706055,32.41999816894531,32.29999923706055,31.600000381469727,32.29999923706055,32.9900016784668,33.45000076293945,33.0099983215332,32.70000076293945,32.38999938964844,32.36000061035156,34.040000915527344,34.209999084472656,33.95000076293945,33.849998474121094,34.56999969482422,31.270000457763672,30.719999313354492,31.649999618530273,31.799999237060547,30.559999465942383,30.110000610351562,30.059999465942383,30.059999465942383,30.260000228881836,30.280000686645508,29.979999542236328,30.25,32.06999969482422,32.0099983215332,33.060001373291016,32.15999984741211,32.439998626708984,33.56999969482422,33.83000183105469,34.27000045776367,34.61000061035156,34.15999984741211,33.599998474121094,34.16999816894531,34.83000183105469,36.20000076293945,31.600000381469727,32.04999923706055,32.130001068115234,30.600000381469727,29.989999771118164,30.059999465942383,30.020000457763672,29.760000228881836,30.280000686645508,30.299999237060547,30.65999984741211,30.510000228881836,30.06999969482422,29.649999618530273,29.270000457763672,29.600000381469727,29.079999923706055,27.309999465942383,27.6200008392334,27.06999969482422,26.989999771118164,26.489999771118164,26.290000915527344,27.979999542236328,28.329999923706055,28.079999923706055,27.93000030517578,28.530000686645508,29.139999389648438,28.030000686645508,27.670000076293945,28.479999542236328,28.799999237060547,28.65999984741211,28.229999542236328,28.25,27.489999771118164,27.959999084472656,28.600000381469727,29.18000030517578,29.170000076293945,29.020000457763672,29.329999923706055,30.700000762939453,31.010000228881836,31.350000381469727,32.290000915527344,34.150001525878906,33.68000030517578,33.83000183105469,33.849998474121094,34.209999084472656,34.869998931884766,36.630001068115234,37.22999954223633,37.11000061035156,36.25,31.709999084472656,31.719999313354492,32.0099983215332,32.7599983215332,33.41999816894531,31.729999542236328,32.40999984741211,33.439998626708984,33.63999938964844,33.279998779296875,33.63999938964844,34.47999954223633,32.43000030517578,33.22999954223633,33.849998474121094,33.41999816894531,33.34000015258789,32.099998474121094,31.799999237060547,31.790000915527344,31.479999542236328,30.649999618530273,31.1200008392334,31.059999465942383,30.780000686645508,31.270000457763672,31.09000015258789,31.170000076293945,31.940000534057617,29.940000534057617,29.290000915527344,29.670000076293945,29.270000457763672,29.309999465942383,29.799999237060547,32.18000030517578,31.3700008392334,32.54999923706055,33.65999984741211,33.630001068115234,33.25,33.0,33.939998626708984,33.41999816894531,33.38999938964844,34.209999084472656,35.41999816894531,36.470001220703125,37.720001220703125,34.25,33.529998779296875,32.709999084472656,32.959999084472656,32.56999969482422,29.809999465942383,29.860000610351562,29.950000762939453,28.299999237060547,27.149999618530273,27.350000381469727,26.899999618530273,26.1200008392334,26.989999771118164,27.700000762939453,27.149999618530273,27.15999984741211,26.700000762939453,26.780000686645508,23.329999923706055,23.440000534057617,24.25,23.860000610351562,24.360000610351562,25.3799991607666,26.65999984741211,25.59000015258789,25.90999984741211,25.6200008392334,25.639999389648438,25.350000381469727,24.780000686645508,24.709999084472656,23.90999984741211,23.31999969482422,21.469999313354492,22.040000915527344,22.049999237060547,22.3799991607666,23.06999969482422,23.56999969482422,23.989999771118164,25.1200008392334,24.940000534057617,25.110000610351562,24.799999237060547,24.5,22.920000076293945,22.34000015258789,23.049999237060547,23.8799991607666,23.739999771118164,23.8700008392334,24.09000015258789,24.280000686645508,24.6299991607666,24.56999969482422,24.040000915527344,25.520000457763672,25.06999969482422,25.889999389648438,26.3700008392334,26.790000915527344,26.600000381469727,26.940000534057617,26.25,25.6200008392334,25.75,26.06999969482422,25.709999084472656,24.520000457763672,24.790000915527344,25.780000686645508,25.6200008392334,26.049999237060547,25.93000030517578,26.719999313354492,26.799999237060547,26.700000762939453,26.739999771118164,26.850000381469727,26.440000534057617,25.760000228881836,26.549999237060547,25.899999618530273],\"decreasing\":{\"line\":{\"color\":\"red\"}},\"high\":[35.290000915527344,34.0,35.290000915527344,34.93000030517578,34.68000030517578,34.599998474121094,32.970001220703125,32.81999969482422,34.599998474121094,34.380001068115234,32.88999938964844,31.540000915527344,31.540000915527344,31.399999618530273,30.81999969482422,32.09000015258789,32.099998474121094,32.470001220703125,32.599998474121094,32.54999923706055,32.08000183105469,32.7599983215332,32.9900016784668,33.56999969482422,33.790000915527344,32.900001525878906,33.060001373291016,32.779998779296875,34.060001373291016,34.40999984741211,34.099998474121094,34.68000030517578,34.79999923706055,32.06999969482422,31.389999389648438,32.0,31.950000762939453,31.299999237060547,30.440000534057617,30.579999923706055,30.559999465942383,30.6200008392334,31.59000015258789,30.329999923706055,30.389999389648438,32.16999816894531,32.5,33.119998931884766,33.040000915527344,32.849998474121094,33.90999984741211,34.08000183105469,34.439998626708984,34.880001068115234,35.13999938964844,34.560001373291016,34.290000915527344,34.83000183105469,36.310001373291016,32.09000015258789,32.279998779296875,32.560001373291016,32.150001525878906,30.8700008392334,30.6200008392334,30.329999923706055,30.049999237060547,30.440000534057617,30.530000686645508,31.299999237060547,31.149999618530273,30.65999984741211,30.010000228881836,29.579999923706055,30.25,30.020000457763672,28.450000762939453,28.25,28.15999984741211,27.549999237060547,27.3799991607666,27.09000015258789,28.06999969482422,28.829999923706055,28.81999969482422,28.059999465942383,28.850000381469727,29.280000686645508,28.950000762939453,28.479999542236328,28.920000076293945,28.969999313354492,28.790000915527344,28.43000030517578,28.479999542236328,28.0,28.049999237060547,28.690000534057617,29.239999771118164,29.219999313354492,29.1299991607666,29.469999313354492,30.75,31.6200008392334,31.469999313354492,32.630001068115234,34.65999984741211,34.150001525878906,34.5,34.15999984741211,34.400001525878906,35.060001373291016,36.77000045776367,37.459999084472656,37.650001525878906,37.86000061035156,31.829999923706055,32.22999954223633,32.06999969482422,32.81999969482422,33.65999984741211,33.150001525878906,32.58000183105469,33.5,34.119998931884766,34.36000061035156,33.66999816894531,35.08000183105469,34.220001220703125,33.439998626708984,33.95000076293945,34.56999969482422,34.11000061035156,32.59000015258789,32.779998779296875,32.66999816894531,32.72999954223633,31.440000534057617,31.43000030517578,31.229999542236328,30.950000762939453,31.3799991607666,31.600000381469727,31.469999313354492,32.08000183105469,31.389999389648438,30.079999923706055,29.8799991607666,29.81999969482422,29.399999618530273,30.489999771118164,32.63999938964844,32.97999954223633,32.81999969482422,33.790000915527344,34.31999969482422,33.88999938964844,33.33000183105469,34.4900016784668,34.13999938964844,34.150001525878906,34.22999954223633,35.560001373291016,36.54999923706055,38.38999938964844,36.81999969482422,34.5,33.529998779296875,33.540000915527344,33.119998931884766,31.600000381469727,30.670000076293945,30.389999389648438,30.899999618530273,28.299999237060547,27.530000686645508,27.950000762939453,26.889999389648438,27.360000610351562,28.18000030517578,28.110000610351562,27.299999237060547,27.600000381469727,27.56999969482422,23.43000030517578,23.649999618530273,24.6299991607666,24.329999923706055,24.549999237060547,25.8799991607666,26.65999984741211,26.790000915527344,26.450000762939453,26.579999923706055,26.389999389648438,26.06999969482422,25.790000915527344,25.049999237060547,24.65999984741211,24.200000762939453,22.600000381469727,22.3700008392334,22.110000610351562,22.510000228881836,23.239999771118164,23.719999313354492,24.559999465942383,25.219999313354492,25.299999237060547,25.309999465942383,25.31999969482422,25.049999237060547,23.809999465942383,23.100000381469727,23.59000015258789,24.040000915527344,24.31999969482422,24.0,24.110000610351562,24.6200008392334,24.649999618530273,24.65999984741211,24.5,25.6200008392334,26.030000686645508,25.950000762939453,26.600000381469727,27.600000381469727,27.530000686645508,27.079999923706055,27.200000762939453,26.229999542236328,26.06999969482422,26.209999084472656,26.479999542236328,25.809999465942383,25.3799991607666,25.8700008392334,26.139999389648438,26.149999618530273,26.31999969482422,26.790000915527344,26.889999389648438,27.059999465942383,26.799999237060547,26.950000762939453,26.670000076293945,26.110000610351562,26.790000915527344,26.700000762939453],\"increasing\":{\"line\":{\"color\":\"green\"}},\"low\":[32.68000030517578,32.900001525878906,34.38999938964844,34.15999984741211,33.81999969482422,31.6299991607666,31.510000228881836,31.739999771118164,32.52000045776367,32.06999969482422,31.520000457763672,30.469999313354492,30.3700008392334,29.5,29.860000610351562,30.639999389648438,31.350000381469727,31.690000534057617,31.670000076293945,31.920000076293945,30.979999542236328,31.920000076293945,32.380001068115234,32.5,32.90999984741211,32.25,32.38999938964844,32.040000915527344,32.5,33.849998474121094,33.779998779296875,33.79999923706055,34.099998474121094,31.15999984741211,30.469999313354492,31.1200008392334,31.329999923706055,30.31999969482422,29.540000915527344,29.889999389648438,29.950000762939453,30.25,30.280000686645508,29.329999923706055,29.81999969482422,30.399999618530273,31.020000457763672,31.899999618530273,32.060001373291016,32.20000076293945,32.689998626708984,33.2599983215332,33.900001525878906,34.0099983215332,34.13999938964844,33.43000030517578,33.33000183105469,34.25,35.150001525878906,30.709999084472656,31.260000228881836,31.950000762939453,30.56999969482422,29.1200008392334,29.809999465942383,29.850000381469727,29.549999237060547,29.530000686645508,29.90999984741211,30.15999984741211,30.329999923706055,29.979999542236328,29.059999465942383,28.670000076293945,29.239999771118164,28.84000015258789,26.1299991607666,25.90999984741211,26.690000534057617,26.389999389648438,26.1200008392334,26.18000030517578,26.65999984741211,28.020000457763672,27.84000015258789,27.399999618530273,27.520000457763672,28.540000915527344,27.549999237060547,26.90999984741211,28.0,28.3700008392334,28.25,27.969999313354492,27.979999542236328,27.239999771118164,27.489999771118164,28.299999237060547,28.399999618530273,28.829999923706055,28.200000762939453,28.850000381469727,29.610000610351562,30.59000015258789,30.6200008392334,31.43000030517578,32.83000183105469,33.220001220703125,33.47999954223633,33.560001373291016,33.58000183105469,34.119998931884766,35.130001068115234,36.849998474121094,36.61000061035156,36.25,29.079999923706055,30.549999237060547,31.5,31.600000381469727,32.869998931884766,31.329999923706055,30.479999542236328,32.619998931884766,33.25,32.66999816894531,32.56999969482422,33.45000076293945,32.27000045776367,31.81999969482422,32.7599983215332,33.2599983215332,33.150001525878906,31.510000228881836,31.399999618530273,31.700000762939453,31.459999084472656,30.520000457763672,30.6299991607666,30.799999237060547,30.34000015258789,29.8799991607666,30.84000015258789,30.889999389648438,31.030000686645508,29.770000457763672,29.270000457763672,29.579999923706055,28.579999923706055,28.600000381469727,29.0,31.65999984741211,31.06999969482422,31.200000762939453,32.439998626708984,33.220001220703125,33.0,32.61000061035156,32.40999984741211,33.29999923706055,32.84000015258789,33.15999984741211,34.02000045776367,35.77000045776367,36.38999938964844,34.22999954223633,33.209999084472656,31.899999618530273,32.66999816894531,31.860000610351562,29.15999984741211,29.559999465942383,29.440000534057617,28.18000030517578,27.06999969482422,26.75,26.639999389648438,25.610000610351562,25.700000762939453,27.09000015258789,26.93000030517578,26.549999237060547,26.219999313354492,26.049999237060547,22.299999237060547,22.799999237060547,23.25,23.600000381469727,23.540000915527344,24.479999542236328,25.5,25.559999465942383,25.309999465942383,25.549999237060547,25.420000076293945,25.270000457763672,24.639999389648438,24.489999771118164,23.1299991607666,23.309999465942383,20.770000457763672,20.829999923706055,21.510000228881836,21.639999389648438,22.209999084472656,22.850000381469727,23.700000762939453,24.1299991607666,24.81999969482422,24.549999237060547,24.75,24.43000030517578,22.799999237060547,22.1299991607666,21.829999923706055,23.149999618530273,23.549999237060547,23.25,23.3700008392334,24.049999237060547,24.110000610351562,24.25,23.829999923706055,24.110000610351562,25.0,24.790000915527344,25.420000076293945,26.1299991607666,26.3700008392334,26.010000228881836,25.799999237060547,25.440000534057617,25.510000228881836,25.520000457763672,25.450000762939453,24.420000076293945,24.420000076293945,24.75,25.459999084472656,25.559999465942383,25.790000915527344,25.93000030517578,26.3700008392334,26.600000381469727,26.299999237060547,26.489999771118164,26.3700008392334,25.690000534057617,25.770000457763672,25.8700008392334],\"open\":[34.79999923706055,33.45000076293945,35.2599983215332,34.81999969482422,34.08000183105469,34.5,32.0,32.599998474121094,32.599998474121094,33.90999984741211,32.43000030517578,31.139999389648438,31.5,31.25,30.09000015258789,30.90999984741211,31.989999771118164,31.93000030517578,32.04999923706055,32.150001525878906,32.060001373291016,32.130001068115234,32.5,32.56999969482422,33.54999923706055,32.900001525878906,32.65999984741211,32.599998474121094,32.63999938964844,34.06999969482422,33.900001525878906,34.400001525878906,34.369998931884766,31.600000381469727,31.15999984741211,31.15999984741211,31.649999618530273,31.049999237060547,29.969999313354492,30.110000610351562,30.3700008392334,30.450000762939453,30.75,30.170000076293945,30.1200008392334,30.600000381469727,31.809999465942383,32.689998626708984,32.70000076293945,32.36000061035156,32.779998779296875,33.2599983215332,34.099998474121094,34.25,35.0,34.18000030517578,33.52000045776367,34.59000015258789,35.18000030517578,31.200000762939453,31.700000762939453,32.02000045776367,32.150001525878906,30.84000015258789,30.40999984741211,29.899999618530273,29.969999313354492,29.709999084472656,30.5,30.190000534057617,30.420000076293945,30.510000228881836,30.010000228881836,29.020000457763672,29.65999984741211,30.0,28.170000076293945,26.020000457763672,27.799999237060547,26.579999923706055,26.979999542236328,26.760000228881836,26.81999969482422,28.579999923706055,28.479999542236328,27.649999618530273,28.079999923706055,28.540000915527344,28.899999618530273,28.15999984741211,28.0,28.530000686645508,28.31999969482422,28.299999237060547,28.1299991607666,28.0,27.700000762939453,28.389999389648438,28.549999237060547,29.06999969482422,28.979999542236328,29.040000915527344,29.610000610351562,31.200000762939453,31.299999237060547,31.59000015258789,33.599998474121094,34.0,33.77000045776367,34.0099983215332,34.08000183105469,34.150001525878906,35.13999938964844,37.0099983215332,37.650001525878906,37.45000076293945,29.100000381469727,30.8799991607666,31.719999313354492,31.649999618530273,33.099998474121094,32.91999816894531,31.739999771118164,32.630001068115234,33.540000915527344,34.099998474121094,33.279998779296875,33.54999923706055,34.0,32.06999969482422,33.36000061035156,34.439998626708984,33.849998474121094,32.27000045776367,32.310001373291016,32.4900016784668,32.150001525878906,30.940000534057617,30.75,30.920000076293945,30.860000610351562,30.5,31.420000076293945,31.350000381469727,31.479999542236328,31.31999969482422,29.719999313354492,29.65999984741211,29.670000076293945,28.989999771118164,29.219999313354492,31.90999984741211,32.900001525878906,31.40999984741211,33.0,33.58000183105469,33.650001525878906,32.88999938964844,32.5,33.970001220703125,33.2400016784668,33.900001525878906,34.130001068115234,36.099998474121094,36.45000076293945,36.5,34.040000915527344,32.599998474121094,32.810001373291016,32.70000076293945,30.610000610351562,30.56999969482422,29.799999237060547,30.799999237060547,27.959999084472656,27.059999465942383,27.149999618530273,26.079999923706055,25.799999237060547,27.260000228881836,27.809999465942383,27.0,27.399999618530273,27.1200008392334,23.0,23.0,23.520000457763672,24.260000228881836,23.649999618530273,24.600000381469727,25.600000381469727,26.579999923706055,25.690000534057617,26.0,25.81999969482422,25.34000015258789,25.549999237060547,24.989999771118164,24.579999923706055,24.100000381469727,22.5,21.0,21.959999084472656,22.100000381469727,22.389999389648438,23.5,23.899999618530273,24.1299991607666,25.1200008392334,25.25,25.100000381469727,24.989999771118164,23.540000915527344,22.940000534057617,21.959999084472656,23.34000015258789,23.940000534057617,23.5,23.950000762939453,24.149999618530273,24.290000915527344,24.440000534057617,24.40999984741211,24.110000610351562,25.84000015258789,25.0,25.889999389648438,26.270000457763672,27.469999313354492,26.549999237060547,27.09000015258789,26.18000030517578,25.850000381469727,25.6299991607666,26.06999969482422,25.510000228881836,24.540000915527344,24.8700008392334,25.90999984741211,25.799999237060547,26.049999237060547,25.979999542236328,26.690000534057617,26.850000381469727,26.579999923706055,26.600000381469727,26.670000076293945,26.0,25.770000457763672,26.670000076293945],\"x\":[\"2022-02-24T00:00:00\",\"2022-02-25T00:00:00\",\"2022-03-02T00:00:00\",\"2022-03-03T00:00:00\",\"2022-03-04T00:00:00\",\"2022-03-07T00:00:00\",\"2022-03-08T00:00:00\",\"2022-03-09T00:00:00\",\"2022-03-10T00:00:00\",\"2022-03-11T00:00:00\",\"2022-03-14T00:00:00\",\"2022-03-15T00:00:00\",\"2022-03-16T00:00:00\",\"2022-03-17T00:00:00\",\"2022-03-18T00:00:00\",\"2022-03-21T00:00:00\",\"2022-03-22T00:00:00\",\"2022-03-23T00:00:00\",\"2022-03-24T00:00:00\",\"2022-03-25T00:00:00\",\"2022-03-28T00:00:00\",\"2022-03-29T00:00:00\",\"2022-03-30T00:00:00\",\"2022-03-31T00:00:00\",\"2022-04-01T00:00:00\",\"2022-04-04T00:00:00\",\"2022-04-05T00:00:00\",\"2022-04-06T00:00:00\",\"2022-04-07T00:00:00\",\"2022-04-08T00:00:00\",\"2022-04-11T00:00:00\",\"2022-04-12T00:00:00\",\"2022-04-13T00:00:00\",\"2022-04-14T00:00:00\",\"2022-04-18T00:00:00\",\"2022-04-19T00:00:00\",\"2022-04-20T00:00:00\",\"2022-04-22T00:00:00\",\"2022-04-25T00:00:00\",\"2022-04-26T00:00:00\",\"2022-04-27T00:00:00\",\"2022-04-28T00:00:00\",\"2022-04-29T00:00:00\",\"2022-05-02T00:00:00\",\"2022-05-03T00:00:00\",\"2022-05-04T00:00:00\",\"2022-05-05T00:00:00\",\"2022-05-06T00:00:00\",\"2022-05-09T00:00:00\",\"2022-05-10T00:00:00\",\"2022-05-11T00:00:00\",\"2022-05-12T00:00:00\",\"2022-05-13T00:00:00\",\"2022-05-16T00:00:00\",\"2022-05-17T00:00:00\",\"2022-05-18T00:00:00\",\"2022-05-19T00:00:00\",\"2022-05-20T00:00:00\",\"2022-05-23T00:00:00\",\"2022-05-24T00:00:00\",\"2022-05-25T00:00:00\",\"2022-05-26T00:00:00\",\"2022-05-27T00:00:00\",\"2022-05-30T00:00:00\",\"2022-05-31T00:00:00\",\"2022-06-01T00:00:00\",\"2022-06-02T00:00:00\",\"2022-06-03T00:00:00\",\"2022-06-06T00:00:00\",\"2022-06-07T00:00:00\",\"2022-06-08T00:00:00\",\"2022-06-09T00:00:00\",\"2022-06-10T00:00:00\",\"2022-06-13T00:00:00\",\"2022-06-14T00:00:00\",\"2022-06-15T00:00:00\",\"2022-06-17T00:00:00\",\"2022-06-20T00:00:00\",\"2022-06-21T00:00:00\",\"2022-06-22T00:00:00\",\"2022-06-23T00:00:00\",\"2022-06-24T00:00:00\",\"2022-06-27T00:00:00\",\"2022-06-28T00:00:00\",\"2022-06-29T00:00:00\",\"2022-06-30T00:00:00\",\"2022-07-01T00:00:00\",\"2022-07-04T00:00:00\",\"2022-07-05T00:00:00\",\"2022-07-06T00:00:00\",\"2022-07-07T00:00:00\",\"2022-07-08T00:00:00\",\"2022-07-11T00:00:00\",\"2022-07-12T00:00:00\",\"2022-07-13T00:00:00\",\"2022-07-14T00:00:00\",\"2022-07-15T00:00:00\",\"2022-07-18T00:00:00\",\"2022-07-19T00:00:00\",\"2022-07-20T00:00:00\",\"2022-07-21T00:00:00\",\"2022-07-22T00:00:00\",\"2022-07-25T00:00:00\",\"2022-07-26T00:00:00\",\"2022-07-27T00:00:00\",\"2022-07-28T00:00:00\",\"2022-07-29T00:00:00\",\"2022-08-01T00:00:00\",\"2022-08-02T00:00:00\",\"2022-08-03T00:00:00\",\"2022-08-04T00:00:00\",\"2022-08-05T00:00:00\",\"2022-08-08T00:00:00\",\"2022-08-09T00:00:00\",\"2022-08-10T00:00:00\",\"2022-08-11T00:00:00\",\"2022-08-12T00:00:00\",\"2022-08-15T00:00:00\",\"2022-08-16T00:00:00\",\"2022-08-17T00:00:00\",\"2022-08-18T00:00:00\",\"2022-08-19T00:00:00\",\"2022-08-22T00:00:00\",\"2022-08-23T00:00:00\",\"2022-08-24T00:00:00\",\"2022-08-25T00:00:00\",\"2022-08-26T00:00:00\",\"2022-08-29T00:00:00\",\"2022-08-30T00:00:00\",\"2022-08-31T00:00:00\",\"2022-09-01T00:00:00\",\"2022-09-02T00:00:00\",\"2022-09-05T00:00:00\",\"2022-09-06T00:00:00\",\"2022-09-08T00:00:00\",\"2022-09-09T00:00:00\",\"2022-09-12T00:00:00\",\"2022-09-13T00:00:00\",\"2022-09-14T00:00:00\",\"2022-09-15T00:00:00\",\"2022-09-16T00:00:00\",\"2022-09-19T00:00:00\",\"2022-09-20T00:00:00\",\"2022-09-21T00:00:00\",\"2022-09-22T00:00:00\",\"2022-09-23T00:00:00\",\"2022-09-26T00:00:00\",\"2022-09-27T00:00:00\",\"2022-09-28T00:00:00\",\"2022-09-29T00:00:00\",\"2022-09-30T00:00:00\",\"2022-10-03T00:00:00\",\"2022-10-04T00:00:00\",\"2022-10-05T00:00:00\",\"2022-10-06T00:00:00\",\"2022-10-07T00:00:00\",\"2022-10-10T00:00:00\",\"2022-10-11T00:00:00\",\"2022-10-13T00:00:00\",\"2022-10-14T00:00:00\",\"2022-10-17T00:00:00\",\"2022-10-18T00:00:00\",\"2022-10-19T00:00:00\",\"2022-10-20T00:00:00\",\"2022-10-21T00:00:00\",\"2022-10-24T00:00:00\",\"2022-10-25T00:00:00\",\"2022-10-26T00:00:00\",\"2022-10-27T00:00:00\",\"2022-10-28T00:00:00\",\"2022-10-31T00:00:00\",\"2022-11-01T00:00:00\",\"2022-11-03T00:00:00\",\"2022-11-04T00:00:00\",\"2022-11-07T00:00:00\",\"2022-11-08T00:00:00\",\"2022-11-09T00:00:00\",\"2022-11-10T00:00:00\",\"2022-11-11T00:00:00\",\"2022-11-14T00:00:00\",\"2022-11-16T00:00:00\",\"2022-11-17T00:00:00\",\"2022-11-18T00:00:00\",\"2022-11-21T00:00:00\",\"2022-11-22T00:00:00\",\"2022-11-23T00:00:00\",\"2022-11-24T00:00:00\",\"2022-11-25T00:00:00\",\"2022-11-28T00:00:00\",\"2022-11-29T00:00:00\",\"2022-11-30T00:00:00\",\"2022-12-01T00:00:00\",\"2022-12-02T00:00:00\",\"2022-12-05T00:00:00\",\"2022-12-06T00:00:00\",\"2022-12-07T00:00:00\",\"2022-12-08T00:00:00\",\"2022-12-09T00:00:00\",\"2022-12-12T00:00:00\",\"2022-12-13T00:00:00\",\"2022-12-14T00:00:00\",\"2022-12-15T00:00:00\",\"2022-12-16T00:00:00\",\"2022-12-19T00:00:00\",\"2022-12-20T00:00:00\",\"2022-12-21T00:00:00\",\"2022-12-22T00:00:00\",\"2022-12-23T00:00:00\",\"2022-12-26T00:00:00\",\"2022-12-27T00:00:00\",\"2022-12-28T00:00:00\",\"2022-12-29T00:00:00\",\"2023-01-02T00:00:00\",\"2023-01-03T00:00:00\",\"2023-01-04T00:00:00\",\"2023-01-05T00:00:00\",\"2023-01-06T00:00:00\",\"2023-01-09T00:00:00\",\"2023-01-10T00:00:00\",\"2023-01-11T00:00:00\",\"2023-01-12T00:00:00\",\"2023-01-13T00:00:00\",\"2023-01-16T00:00:00\",\"2023-01-17T00:00:00\",\"2023-01-18T00:00:00\",\"2023-01-19T00:00:00\",\"2023-01-20T00:00:00\",\"2023-01-23T00:00:00\",\"2023-01-24T00:00:00\",\"2023-01-25T00:00:00\",\"2023-01-26T00:00:00\",\"2023-01-27T00:00:00\",\"2023-01-30T00:00:00\",\"2023-01-31T00:00:00\",\"2023-02-01T00:00:00\",\"2023-02-02T00:00:00\",\"2023-02-03T00:00:00\",\"2023-02-06T00:00:00\",\"2023-02-07T00:00:00\",\"2023-02-08T00:00:00\",\"2023-02-09T00:00:00\",\"2023-02-10T00:00:00\",\"2023-02-13T00:00:00\",\"2023-02-14T00:00:00\",\"2023-02-15T00:00:00\",\"2023-02-16T00:00:00\",\"2023-02-17T00:00:00\",\"2023-02-22T00:00:00\",\"2023-02-23T00:00:00\",\"2023-02-24T00:00:00\"],\"type\":\"candlestick\",\"xaxis\":\"x\",\"yaxis\":\"y\"},{\"line\":{\"color\":\"yellow\"},\"mode\":\"lines\",\"name\":\" M\\u00e9dia Movel\",\"x\":[\"2022-02-24T00:00:00\",\"2022-02-25T00:00:00\",\"2022-03-02T00:00:00\",\"2022-03-03T00:00:00\",\"2022-03-04T00:00:00\",\"2022-03-07T00:00:00\",\"2022-03-08T00:00:00\",\"2022-03-09T00:00:00\",\"2022-03-10T00:00:00\",\"2022-03-11T00:00:00\",\"2022-03-14T00:00:00\",\"2022-03-15T00:00:00\",\"2022-03-16T00:00:00\",\"2022-03-17T00:00:00\",\"2022-03-18T00:00:00\",\"2022-03-21T00:00:00\",\"2022-03-22T00:00:00\",\"2022-03-23T00:00:00\",\"2022-03-24T00:00:00\",\"2022-03-25T00:00:00\",\"2022-03-28T00:00:00\",\"2022-03-29T00:00:00\",\"2022-03-30T00:00:00\",\"2022-03-31T00:00:00\",\"2022-04-01T00:00:00\",\"2022-04-04T00:00:00\",\"2022-04-05T00:00:00\",\"2022-04-06T00:00:00\",\"2022-04-07T00:00:00\",\"2022-04-08T00:00:00\",\"2022-04-11T00:00:00\",\"2022-04-12T00:00:00\",\"2022-04-13T00:00:00\",\"2022-04-14T00:00:00\",\"2022-04-18T00:00:00\",\"2022-04-19T00:00:00\",\"2022-04-20T00:00:00\",\"2022-04-22T00:00:00\",\"2022-04-25T00:00:00\",\"2022-04-26T00:00:00\",\"2022-04-27T00:00:00\",\"2022-04-28T00:00:00\",\"2022-04-29T00:00:00\",\"2022-05-02T00:00:00\",\"2022-05-03T00:00:00\",\"2022-05-04T00:00:00\",\"2022-05-05T00:00:00\",\"2022-05-06T00:00:00\",\"2022-05-09T00:00:00\",\"2022-05-10T00:00:00\",\"2022-05-11T00:00:00\",\"2022-05-12T00:00:00\",\"2022-05-13T00:00:00\",\"2022-05-16T00:00:00\",\"2022-05-17T00:00:00\",\"2022-05-18T00:00:00\",\"2022-05-19T00:00:00\",\"2022-05-20T00:00:00\",\"2022-05-23T00:00:00\",\"2022-05-24T00:00:00\",\"2022-05-25T00:00:00\",\"2022-05-26T00:00:00\",\"2022-05-27T00:00:00\",\"2022-05-30T00:00:00\",\"2022-05-31T00:00:00\",\"2022-06-01T00:00:00\",\"2022-06-02T00:00:00\",\"2022-06-03T00:00:00\",\"2022-06-06T00:00:00\",\"2022-06-07T00:00:00\",\"2022-06-08T00:00:00\",\"2022-06-09T00:00:00\",\"2022-06-10T00:00:00\",\"2022-06-13T00:00:00\",\"2022-06-14T00:00:00\",\"2022-06-15T00:00:00\",\"2022-06-17T00:00:00\",\"2022-06-20T00:00:00\",\"2022-06-21T00:00:00\",\"2022-06-22T00:00:00\",\"2022-06-23T00:00:00\",\"2022-06-24T00:00:00\",\"2022-06-27T00:00:00\",\"2022-06-28T00:00:00\",\"2022-06-29T00:00:00\",\"2022-06-30T00:00:00\",\"2022-07-01T00:00:00\",\"2022-07-04T00:00:00\",\"2022-07-05T00:00:00\",\"2022-07-06T00:00:00\",\"2022-07-07T00:00:00\",\"2022-07-08T00:00:00\",\"2022-07-11T00:00:00\",\"2022-07-12T00:00:00\",\"2022-07-13T00:00:00\",\"2022-07-14T00:00:00\",\"2022-07-15T00:00:00\",\"2022-07-18T00:00:00\",\"2022-07-19T00:00:00\",\"2022-07-20T00:00:00\",\"2022-07-21T00:00:00\",\"2022-07-22T00:00:00\",\"2022-07-25T00:00:00\",\"2022-07-26T00:00:00\",\"2022-07-27T00:00:00\",\"2022-07-28T00:00:00\",\"2022-07-29T00:00:00\",\"2022-08-01T00:00:00\",\"2022-08-02T00:00:00\",\"2022-08-03T00:00:00\",\"2022-08-04T00:00:00\",\"2022-08-05T00:00:00\",\"2022-08-08T00:00:00\",\"2022-08-09T00:00:00\",\"2022-08-10T00:00:00\",\"2022-08-11T00:00:00\",\"2022-08-12T00:00:00\",\"2022-08-15T00:00:00\",\"2022-08-16T00:00:00\",\"2022-08-17T00:00:00\",\"2022-08-18T00:00:00\",\"2022-08-19T00:00:00\",\"2022-08-22T00:00:00\",\"2022-08-23T00:00:00\",\"2022-08-24T00:00:00\",\"2022-08-25T00:00:00\",\"2022-08-26T00:00:00\",\"2022-08-29T00:00:00\",\"2022-08-30T00:00:00\",\"2022-08-31T00:00:00\",\"2022-09-01T00:00:00\",\"2022-09-02T00:00:00\",\"2022-09-05T00:00:00\",\"2022-09-06T00:00:00\",\"2022-09-08T00:00:00\",\"2022-09-09T00:00:00\",\"2022-09-12T00:00:00\",\"2022-09-13T00:00:00\",\"2022-09-14T00:00:00\",\"2022-09-15T00:00:00\",\"2022-09-16T00:00:00\",\"2022-09-19T00:00:00\",\"2022-09-20T00:00:00\",\"2022-09-21T00:00:00\",\"2022-09-22T00:00:00\",\"2022-09-23T00:00:00\",\"2022-09-26T00:00:00\",\"2022-09-27T00:00:00\",\"2022-09-28T00:00:00\",\"2022-09-29T00:00:00\",\"2022-09-30T00:00:00\",\"2022-10-03T00:00:00\",\"2022-10-04T00:00:00\",\"2022-10-05T00:00:00\",\"2022-10-06T00:00:00\",\"2022-10-07T00:00:00\",\"2022-10-10T00:00:00\",\"2022-10-11T00:00:00\",\"2022-10-13T00:00:00\",\"2022-10-14T00:00:00\",\"2022-10-17T00:00:00\",\"2022-10-18T00:00:00\",\"2022-10-19T00:00:00\",\"2022-10-20T00:00:00\",\"2022-10-21T00:00:00\",\"2022-10-24T00:00:00\",\"2022-10-25T00:00:00\",\"2022-10-26T00:00:00\",\"2022-10-27T00:00:00\",\"2022-10-28T00:00:00\",\"2022-10-31T00:00:00\",\"2022-11-01T00:00:00\",\"2022-11-03T00:00:00\",\"2022-11-04T00:00:00\",\"2022-11-07T00:00:00\",\"2022-11-08T00:00:00\",\"2022-11-09T00:00:00\",\"2022-11-10T00:00:00\",\"2022-11-11T00:00:00\",\"2022-11-14T00:00:00\",\"2022-11-16T00:00:00\",\"2022-11-17T00:00:00\",\"2022-11-18T00:00:00\",\"2022-11-21T00:00:00\",\"2022-11-22T00:00:00\",\"2022-11-23T00:00:00\",\"2022-11-24T00:00:00\",\"2022-11-25T00:00:00\",\"2022-11-28T00:00:00\",\"2022-11-29T00:00:00\",\"2022-11-30T00:00:00\",\"2022-12-01T00:00:00\",\"2022-12-02T00:00:00\",\"2022-12-05T00:00:00\",\"2022-12-06T00:00:00\",\"2022-12-07T00:00:00\",\"2022-12-08T00:00:00\",\"2022-12-09T00:00:00\",\"2022-12-12T00:00:00\",\"2022-12-13T00:00:00\",\"2022-12-14T00:00:00\",\"2022-12-15T00:00:00\",\"2022-12-16T00:00:00\",\"2022-12-19T00:00:00\",\"2022-12-20T00:00:00\",\"2022-12-21T00:00:00\",\"2022-12-22T00:00:00\",\"2022-12-23T00:00:00\",\"2022-12-26T00:00:00\",\"2022-12-27T00:00:00\",\"2022-12-28T00:00:00\",\"2022-12-29T00:00:00\",\"2023-01-02T00:00:00\",\"2023-01-03T00:00:00\",\"2023-01-04T00:00:00\",\"2023-01-05T00:00:00\",\"2023-01-06T00:00:00\",\"2023-01-09T00:00:00\",\"2023-01-10T00:00:00\",\"2023-01-11T00:00:00\",\"2023-01-12T00:00:00\",\"2023-01-13T00:00:00\",\"2023-01-16T00:00:00\",\"2023-01-17T00:00:00\",\"2023-01-18T00:00:00\",\"2023-01-19T00:00:00\",\"2023-01-20T00:00:00\",\"2023-01-23T00:00:00\",\"2023-01-24T00:00:00\",\"2023-01-25T00:00:00\",\"2023-01-26T00:00:00\",\"2023-01-27T00:00:00\",\"2023-01-30T00:00:00\",\"2023-01-31T00:00:00\",\"2023-02-01T00:00:00\",\"2023-02-02T00:00:00\",\"2023-02-03T00:00:00\",\"2023-02-06T00:00:00\",\"2023-02-07T00:00:00\",\"2023-02-08T00:00:00\",\"2023-02-09T00:00:00\",\"2023-02-10T00:00:00\",\"2023-02-13T00:00:00\",\"2023-02-14T00:00:00\",\"2023-02-15T00:00:00\",\"2023-02-16T00:00:00\",\"2023-02-17T00:00:00\",\"2023-02-22T00:00:00\",\"2023-02-23T00:00:00\",\"2023-02-24T00:00:00\"],\"y\":[null,null,null,null,34.10599975585937,33.7879997253418,33.47999954223633,33.05800018310547,32.95,32.6020004272461,32.616000747680665,32.34400100708008,31.998000717163087,31.26000061035156,30.884000396728517,30.862000274658204,30.966000366210938,31.210000228881835,31.69199981689453,32.029999542236325,31.997999572753905,32.133999252319335,32.32199974060059,32.52800025939941,32.670000076293945,32.89000015258789,32.90800018310547,32.78199996948242,32.9,33.14000015258789,33.39000015258789,33.68199996948242,34.123999786376956,33.56999969482422,32.871999740600586,32.41199951171875,32.00199966430664,31.199999618530274,30.96799964904785,30.83599967956543,30.51799964904785,30.20999984741211,30.154000091552735,30.12799987792969,30.165999984741212,30.568000030517577,30.91799964904785,31.473999786376954,31.90999984741211,32.347999572753906,32.6479995727539,33.012000274658206,33.25400009155273,33.74400024414062,34.08800048828125,34.094000244140624,34.16199951171875,34.273999786376955,34.59199981689453,34.079999923706055,33.77000007629395,33.36200065612793,32.51600036621094,31.27400016784668,30.96599998474121,30.560000228881837,30.086000061035158,30.022000122070313,30.084000015258788,30.204000091552736,30.302000045776367,30.363999938964845,30.237999725341798,30.03199996948242,29.820000076293944,29.53400001525879,28.981999969482423,28.576000213623047,28.136000061035155,27.613999938964845,27.095999908447265,26.892000198364258,26.963999938964843,27.21599998474121,27.43400001525879,27.722000122070312,28.170000076293945,28.40200004577637,28.342000198364257,28.260000228881836,28.370000076293945,28.423999786376953,28.327999877929688,28.367999649047853,28.48399963378906,28.28599967956543,28.117999649047853,28.105999755859376,28.295999908447264,28.479999923706053,28.786000061035157,29.060000228881837,29.480000305175782,29.846000289916994,30.28200035095215,30.936000442504884,31.900000762939452,32.49600067138672,33.06000099182129,33.560000610351565,33.944000244140625,34.087999725341795,34.677999877929686,35.35799942016602,36.00999984741211,36.418000030517575,35.78600006103515,34.803999710083005,33.759999465942386,32.88999900817871,32.323998641967776,32.32799873352051,32.465998840332034,32.75199890136719,32.927999114990236,32.89999923706055,33.28199920654297,33.69599914550781,33.49399948120117,33.41199951171875,33.52599945068359,33.481999206542966,33.25399932861328,33.18799896240235,32.901998901367186,32.48999938964844,32.10199966430664,31.563999557495116,31.368000030517578,31.220000076293946,31.018000030517577,30.976000213623045,31.06400032043457,31.07400016784668,31.250000381469725,31.08200035095215,30.686000442504884,30.402000427246094,30.02200050354004,29.496000289916992,29.46800003051758,30.045999908447264,30.386000061035155,31.04199981689453,31.911999893188476,32.67800025939941,32.89200019836426,33.21800003051758,33.49599990844727,33.44799957275391,33.39999923706055,33.59199905395508,34.07599868774414,34.58199920654297,35.44199981689453,35.613999938964845,35.47799987792969,34.93600006103516,34.23399963378906,33.20399932861328,32.31599922180176,31.581999588012696,31.029999923706054,30.09799995422363,29.013999938964844,28.522000122070313,27.929999923706056,27.163999938964842,26.90200004577637,27.012000274658202,26.972000122070312,27.02400016784668,27.14000015258789,27.09800033569336,26.22400016784668,25.48200035095215,24.900000381469727,24.33200035095215,23.84800033569336,24.25800018310547,24.90200004577637,25.170000076293945,25.579999923706055,25.83199996948242,25.88400001525879,25.62200012207031,25.460000228881835,25.220000076293946,24.87799987792969,24.413999938964842,23.637999725341796,23.089999771118165,22.55799980163574,22.25199966430664,22.20199966430664,22.621999740600586,23.01199951171875,23.62599983215332,24.138000106811525,24.546000289916993,24.792000198364256,24.894000244140624,24.454000091552736,23.93400001525879,23.521999740600585,23.337999725341795,23.18599967956543,23.37599983215332,23.72599983215332,23.972000122070312,24.12200012207031,24.288000106811523,24.322000122070314,24.608000183105467,24.76599998474121,25.018000030517577,25.378000259399414,25.928000259399415,26.144000244140624,26.518000411987305,26.590000534057616,26.440000534057617,26.23200035095215,26.126000213623048,25.879999923706055,25.53400001525879,25.368000030517578,25.37400016784668,25.284000396728516,25.352000427246093,25.634000396728517,26.020000076293947,26.223999786376954,26.439999771118163,26.577999877929688,26.761999893188477,26.706000137329102,26.49800033569336,26.46800003051758,26.3],\"type\":\"scatter\"},{\"line\":{\"color\":\"green\"},\"mode\":\"lines\",\"name\":\"Fechamento\",\"x\":[\"2022-02-24T00:00:00\",\"2022-02-25T00:00:00\",\"2022-03-02T00:00:00\",\"2022-03-03T00:00:00\",\"2022-03-04T00:00:00\",\"2022-03-07T00:00:00\",\"2022-03-08T00:00:00\",\"2022-03-09T00:00:00\",\"2022-03-10T00:00:00\",\"2022-03-11T00:00:00\",\"2022-03-14T00:00:00\",\"2022-03-15T00:00:00\",\"2022-03-16T00:00:00\",\"2022-03-17T00:00:00\",\"2022-03-18T00:00:00\",\"2022-03-21T00:00:00\",\"2022-03-22T00:00:00\",\"2022-03-23T00:00:00\",\"2022-03-24T00:00:00\",\"2022-03-25T00:00:00\",\"2022-03-28T00:00:00\",\"2022-03-29T00:00:00\",\"2022-03-30T00:00:00\",\"2022-03-31T00:00:00\",\"2022-04-01T00:00:00\",\"2022-04-04T00:00:00\",\"2022-04-05T00:00:00\",\"2022-04-06T00:00:00\",\"2022-04-07T00:00:00\",\"2022-04-08T00:00:00\",\"2022-04-11T00:00:00\",\"2022-04-12T00:00:00\",\"2022-04-13T00:00:00\",\"2022-04-14T00:00:00\",\"2022-04-18T00:00:00\",\"2022-04-19T00:00:00\",\"2022-04-20T00:00:00\",\"2022-04-22T00:00:00\",\"2022-04-25T00:00:00\",\"2022-04-26T00:00:00\",\"2022-04-27T00:00:00\",\"2022-04-28T00:00:00\",\"2022-04-29T00:00:00\",\"2022-05-02T00:00:00\",\"2022-05-03T00:00:00\",\"2022-05-04T00:00:00\",\"2022-05-05T00:00:00\",\"2022-05-06T00:00:00\",\"2022-05-09T00:00:00\",\"2022-05-10T00:00:00\",\"2022-05-11T00:00:00\",\"2022-05-12T00:00:00\",\"2022-05-13T00:00:00\",\"2022-05-16T00:00:00\",\"2022-05-17T00:00:00\",\"2022-05-18T00:00:00\",\"2022-05-19T00:00:00\",\"2022-05-20T00:00:00\",\"2022-05-23T00:00:00\",\"2022-05-24T00:00:00\",\"2022-05-25T00:00:00\",\"2022-05-26T00:00:00\",\"2022-05-27T00:00:00\",\"2022-05-30T00:00:00\",\"2022-05-31T00:00:00\",\"2022-06-01T00:00:00\",\"2022-06-02T00:00:00\",\"2022-06-03T00:00:00\",\"2022-06-06T00:00:00\",\"2022-06-07T00:00:00\",\"2022-06-08T00:00:00\",\"2022-06-09T00:00:00\",\"2022-06-10T00:00:00\",\"2022-06-13T00:00:00\",\"2022-06-14T00:00:00\",\"2022-06-15T00:00:00\",\"2022-06-17T00:00:00\",\"2022-06-20T00:00:00\",\"2022-06-21T00:00:00\",\"2022-06-22T00:00:00\",\"2022-06-23T00:00:00\",\"2022-06-24T00:00:00\",\"2022-06-27T00:00:00\",\"2022-06-28T00:00:00\",\"2022-06-29T00:00:00\",\"2022-06-30T00:00:00\",\"2022-07-01T00:00:00\",\"2022-07-04T00:00:00\",\"2022-07-05T00:00:00\",\"2022-07-06T00:00:00\",\"2022-07-07T00:00:00\",\"2022-07-08T00:00:00\",\"2022-07-11T00:00:00\",\"2022-07-12T00:00:00\",\"2022-07-13T00:00:00\",\"2022-07-14T00:00:00\",\"2022-07-15T00:00:00\",\"2022-07-18T00:00:00\",\"2022-07-19T00:00:00\",\"2022-07-20T00:00:00\",\"2022-07-21T00:00:00\",\"2022-07-22T00:00:00\",\"2022-07-25T00:00:00\",\"2022-07-26T00:00:00\",\"2022-07-27T00:00:00\",\"2022-07-28T00:00:00\",\"2022-07-29T00:00:00\",\"2022-08-01T00:00:00\",\"2022-08-02T00:00:00\",\"2022-08-03T00:00:00\",\"2022-08-04T00:00:00\",\"2022-08-05T00:00:00\",\"2022-08-08T00:00:00\",\"2022-08-09T00:00:00\",\"2022-08-10T00:00:00\",\"2022-08-11T00:00:00\",\"2022-08-12T00:00:00\",\"2022-08-15T00:00:00\",\"2022-08-16T00:00:00\",\"2022-08-17T00:00:00\",\"2022-08-18T00:00:00\",\"2022-08-19T00:00:00\",\"2022-08-22T00:00:00\",\"2022-08-23T00:00:00\",\"2022-08-24T00:00:00\",\"2022-08-25T00:00:00\",\"2022-08-26T00:00:00\",\"2022-08-29T00:00:00\",\"2022-08-30T00:00:00\",\"2022-08-31T00:00:00\",\"2022-09-01T00:00:00\",\"2022-09-02T00:00:00\",\"2022-09-05T00:00:00\",\"2022-09-06T00:00:00\",\"2022-09-08T00:00:00\",\"2022-09-09T00:00:00\",\"2022-09-12T00:00:00\",\"2022-09-13T00:00:00\",\"2022-09-14T00:00:00\",\"2022-09-15T00:00:00\",\"2022-09-16T00:00:00\",\"2022-09-19T00:00:00\",\"2022-09-20T00:00:00\",\"2022-09-21T00:00:00\",\"2022-09-22T00:00:00\",\"2022-09-23T00:00:00\",\"2022-09-26T00:00:00\",\"2022-09-27T00:00:00\",\"2022-09-28T00:00:00\",\"2022-09-29T00:00:00\",\"2022-09-30T00:00:00\",\"2022-10-03T00:00:00\",\"2022-10-04T00:00:00\",\"2022-10-05T00:00:00\",\"2022-10-06T00:00:00\",\"2022-10-07T00:00:00\",\"2022-10-10T00:00:00\",\"2022-10-11T00:00:00\",\"2022-10-13T00:00:00\",\"2022-10-14T00:00:00\",\"2022-10-17T00:00:00\",\"2022-10-18T00:00:00\",\"2022-10-19T00:00:00\",\"2022-10-20T00:00:00\",\"2022-10-21T00:00:00\",\"2022-10-24T00:00:00\",\"2022-10-25T00:00:00\",\"2022-10-26T00:00:00\",\"2022-10-27T00:00:00\",\"2022-10-28T00:00:00\",\"2022-10-31T00:00:00\",\"2022-11-01T00:00:00\",\"2022-11-03T00:00:00\",\"2022-11-04T00:00:00\",\"2022-11-07T00:00:00\",\"2022-11-08T00:00:00\",\"2022-11-09T00:00:00\",\"2022-11-10T00:00:00\",\"2022-11-11T00:00:00\",\"2022-11-14T00:00:00\",\"2022-11-16T00:00:00\",\"2022-11-17T00:00:00\",\"2022-11-18T00:00:00\",\"2022-11-21T00:00:00\",\"2022-11-22T00:00:00\",\"2022-11-23T00:00:00\",\"2022-11-24T00:00:00\",\"2022-11-25T00:00:00\",\"2022-11-28T00:00:00\",\"2022-11-29T00:00:00\",\"2022-11-30T00:00:00\",\"2022-12-01T00:00:00\",\"2022-12-02T00:00:00\",\"2022-12-05T00:00:00\",\"2022-12-06T00:00:00\",\"2022-12-07T00:00:00\",\"2022-12-08T00:00:00\",\"2022-12-09T00:00:00\",\"2022-12-12T00:00:00\",\"2022-12-13T00:00:00\",\"2022-12-14T00:00:00\",\"2022-12-15T00:00:00\",\"2022-12-16T00:00:00\",\"2022-12-19T00:00:00\",\"2022-12-20T00:00:00\",\"2022-12-21T00:00:00\",\"2022-12-22T00:00:00\",\"2022-12-23T00:00:00\",\"2022-12-26T00:00:00\",\"2022-12-27T00:00:00\",\"2022-12-28T00:00:00\",\"2022-12-29T00:00:00\",\"2023-01-02T00:00:00\",\"2023-01-03T00:00:00\",\"2023-01-04T00:00:00\",\"2023-01-05T00:00:00\",\"2023-01-06T00:00:00\",\"2023-01-09T00:00:00\",\"2023-01-10T00:00:00\",\"2023-01-11T00:00:00\",\"2023-01-12T00:00:00\",\"2023-01-13T00:00:00\",\"2023-01-16T00:00:00\",\"2023-01-17T00:00:00\",\"2023-01-18T00:00:00\",\"2023-01-19T00:00:00\",\"2023-01-20T00:00:00\",\"2023-01-23T00:00:00\",\"2023-01-24T00:00:00\",\"2023-01-25T00:00:00\",\"2023-01-26T00:00:00\",\"2023-01-27T00:00:00\",\"2023-01-30T00:00:00\",\"2023-01-31T00:00:00\",\"2023-02-01T00:00:00\",\"2023-02-02T00:00:00\",\"2023-02-03T00:00:00\",\"2023-02-06T00:00:00\",\"2023-02-07T00:00:00\",\"2023-02-08T00:00:00\",\"2023-02-09T00:00:00\",\"2023-02-10T00:00:00\",\"2023-02-13T00:00:00\",\"2023-02-14T00:00:00\",\"2023-02-15T00:00:00\",\"2023-02-16T00:00:00\",\"2023-02-17T00:00:00\",\"2023-02-22T00:00:00\",\"2023-02-23T00:00:00\",\"2023-02-24T00:00:00\"],\"y\":[33.38999938964844,34.0,34.66999816894531,34.2400016784668,34.22999954223633,31.799999237060547,32.459999084472656,32.560001373291016,33.70000076293945,32.4900016784668,31.8700008392334,31.100000381469727,30.829999923706055,30.010000228881836,30.610000610351562,31.760000228881836,31.6200008392334,32.04999923706055,32.41999816894531,32.29999923706055,31.600000381469727,32.29999923706055,32.9900016784668,33.45000076293945,33.0099983215332,32.70000076293945,32.38999938964844,32.36000061035156,34.040000915527344,34.209999084472656,33.95000076293945,33.849998474121094,34.56999969482422,31.270000457763672,30.719999313354492,31.649999618530273,31.799999237060547,30.559999465942383,30.110000610351562,30.059999465942383,30.059999465942383,30.260000228881836,30.280000686645508,29.979999542236328,30.25,32.06999969482422,32.0099983215332,33.060001373291016,32.15999984741211,32.439998626708984,33.56999969482422,33.83000183105469,34.27000045776367,34.61000061035156,34.15999984741211,33.599998474121094,34.16999816894531,34.83000183105469,36.20000076293945,31.600000381469727,32.04999923706055,32.130001068115234,30.600000381469727,29.989999771118164,30.059999465942383,30.020000457763672,29.760000228881836,30.280000686645508,30.299999237060547,30.65999984741211,30.510000228881836,30.06999969482422,29.649999618530273,29.270000457763672,29.600000381469727,29.079999923706055,27.309999465942383,27.6200008392334,27.06999969482422,26.989999771118164,26.489999771118164,26.290000915527344,27.979999542236328,28.329999923706055,28.079999923706055,27.93000030517578,28.530000686645508,29.139999389648438,28.030000686645508,27.670000076293945,28.479999542236328,28.799999237060547,28.65999984741211,28.229999542236328,28.25,27.489999771118164,27.959999084472656,28.600000381469727,29.18000030517578,29.170000076293945,29.020000457763672,29.329999923706055,30.700000762939453,31.010000228881836,31.350000381469727,32.290000915527344,34.150001525878906,33.68000030517578,33.83000183105469,33.849998474121094,34.209999084472656,34.869998931884766,36.630001068115234,37.22999954223633,37.11000061035156,36.25,31.709999084472656,31.719999313354492,32.0099983215332,32.7599983215332,33.41999816894531,31.729999542236328,32.40999984741211,33.439998626708984,33.63999938964844,33.279998779296875,33.63999938964844,34.47999954223633,32.43000030517578,33.22999954223633,33.849998474121094,33.41999816894531,33.34000015258789,32.099998474121094,31.799999237060547,31.790000915527344,31.479999542236328,30.649999618530273,31.1200008392334,31.059999465942383,30.780000686645508,31.270000457763672,31.09000015258789,31.170000076293945,31.940000534057617,29.940000534057617,29.290000915527344,29.670000076293945,29.270000457763672,29.309999465942383,29.799999237060547,32.18000030517578,31.3700008392334,32.54999923706055,33.65999984741211,33.630001068115234,33.25,33.0,33.939998626708984,33.41999816894531,33.38999938964844,34.209999084472656,35.41999816894531,36.470001220703125,37.720001220703125,34.25,33.529998779296875,32.709999084472656,32.959999084472656,32.56999969482422,29.809999465942383,29.860000610351562,29.950000762939453,28.299999237060547,27.149999618530273,27.350000381469727,26.899999618530273,26.1200008392334,26.989999771118164,27.700000762939453,27.149999618530273,27.15999984741211,26.700000762939453,26.780000686645508,23.329999923706055,23.440000534057617,24.25,23.860000610351562,24.360000610351562,25.3799991607666,26.65999984741211,25.59000015258789,25.90999984741211,25.6200008392334,25.639999389648438,25.350000381469727,24.780000686645508,24.709999084472656,23.90999984741211,23.31999969482422,21.469999313354492,22.040000915527344,22.049999237060547,22.3799991607666,23.06999969482422,23.56999969482422,23.989999771118164,25.1200008392334,24.940000534057617,25.110000610351562,24.799999237060547,24.5,22.920000076293945,22.34000015258789,23.049999237060547,23.8799991607666,23.739999771118164,23.8700008392334,24.09000015258789,24.280000686645508,24.6299991607666,24.56999969482422,24.040000915527344,25.520000457763672,25.06999969482422,25.889999389648438,26.3700008392334,26.790000915527344,26.600000381469727,26.940000534057617,26.25,25.6200008392334,25.75,26.06999969482422,25.709999084472656,24.520000457763672,24.790000915527344,25.780000686645508,25.6200008392334,26.049999237060547,25.93000030517578,26.719999313354492,26.799999237060547,26.700000762939453,26.739999771118164,26.850000381469727,26.440000534057617,25.760000228881836,26.549999237060547,25.899999618530273],\"type\":\"scatter\",\"xaxis\":\"x2\",\"yaxis\":\"y2\"},{\"line\":{\"color\":\"red\"},\"mode\":\"lines\",\"name\":\"M\\u00e9dia M\\u00f3vel\",\"x\":[\"2022-02-24T00:00:00\",\"2022-02-25T00:00:00\",\"2022-03-02T00:00:00\",\"2022-03-03T00:00:00\",\"2022-03-04T00:00:00\",\"2022-03-07T00:00:00\",\"2022-03-08T00:00:00\",\"2022-03-09T00:00:00\",\"2022-03-10T00:00:00\",\"2022-03-11T00:00:00\",\"2022-03-14T00:00:00\",\"2022-03-15T00:00:00\",\"2022-03-16T00:00:00\",\"2022-03-17T00:00:00\",\"2022-03-18T00:00:00\",\"2022-03-21T00:00:00\",\"2022-03-22T00:00:00\",\"2022-03-23T00:00:00\",\"2022-03-24T00:00:00\",\"2022-03-25T00:00:00\",\"2022-03-28T00:00:00\",\"2022-03-29T00:00:00\",\"2022-03-30T00:00:00\",\"2022-03-31T00:00:00\",\"2022-04-01T00:00:00\",\"2022-04-04T00:00:00\",\"2022-04-05T00:00:00\",\"2022-04-06T00:00:00\",\"2022-04-07T00:00:00\",\"2022-04-08T00:00:00\",\"2022-04-11T00:00:00\",\"2022-04-12T00:00:00\",\"2022-04-13T00:00:00\",\"2022-04-14T00:00:00\",\"2022-04-18T00:00:00\",\"2022-04-19T00:00:00\",\"2022-04-20T00:00:00\",\"2022-04-22T00:00:00\",\"2022-04-25T00:00:00\",\"2022-04-26T00:00:00\",\"2022-04-27T00:00:00\",\"2022-04-28T00:00:00\",\"2022-04-29T00:00:00\",\"2022-05-02T00:00:00\",\"2022-05-03T00:00:00\",\"2022-05-04T00:00:00\",\"2022-05-05T00:00:00\",\"2022-05-06T00:00:00\",\"2022-05-09T00:00:00\",\"2022-05-10T00:00:00\",\"2022-05-11T00:00:00\",\"2022-05-12T00:00:00\",\"2022-05-13T00:00:00\",\"2022-05-16T00:00:00\",\"2022-05-17T00:00:00\",\"2022-05-18T00:00:00\",\"2022-05-19T00:00:00\",\"2022-05-20T00:00:00\",\"2022-05-23T00:00:00\",\"2022-05-24T00:00:00\",\"2022-05-25T00:00:00\",\"2022-05-26T00:00:00\",\"2022-05-27T00:00:00\",\"2022-05-30T00:00:00\",\"2022-05-31T00:00:00\",\"2022-06-01T00:00:00\",\"2022-06-02T00:00:00\",\"2022-06-03T00:00:00\",\"2022-06-06T00:00:00\",\"2022-06-07T00:00:00\",\"2022-06-08T00:00:00\",\"2022-06-09T00:00:00\",\"2022-06-10T00:00:00\",\"2022-06-13T00:00:00\",\"2022-06-14T00:00:00\",\"2022-06-15T00:00:00\",\"2022-06-17T00:00:00\",\"2022-06-20T00:00:00\",\"2022-06-21T00:00:00\",\"2022-06-22T00:00:00\",\"2022-06-23T00:00:00\",\"2022-06-24T00:00:00\",\"2022-06-27T00:00:00\",\"2022-06-28T00:00:00\",\"2022-06-29T00:00:00\",\"2022-06-30T00:00:00\",\"2022-07-01T00:00:00\",\"2022-07-04T00:00:00\",\"2022-07-05T00:00:00\",\"2022-07-06T00:00:00\",\"2022-07-07T00:00:00\",\"2022-07-08T00:00:00\",\"2022-07-11T00:00:00\",\"2022-07-12T00:00:00\",\"2022-07-13T00:00:00\",\"2022-07-14T00:00:00\",\"2022-07-15T00:00:00\",\"2022-07-18T00:00:00\",\"2022-07-19T00:00:00\",\"2022-07-20T00:00:00\",\"2022-07-21T00:00:00\",\"2022-07-22T00:00:00\",\"2022-07-25T00:00:00\",\"2022-07-26T00:00:00\",\"2022-07-27T00:00:00\",\"2022-07-28T00:00:00\",\"2022-07-29T00:00:00\",\"2022-08-01T00:00:00\",\"2022-08-02T00:00:00\",\"2022-08-03T00:00:00\",\"2022-08-04T00:00:00\",\"2022-08-05T00:00:00\",\"2022-08-08T00:00:00\",\"2022-08-09T00:00:00\",\"2022-08-10T00:00:00\",\"2022-08-11T00:00:00\",\"2022-08-12T00:00:00\",\"2022-08-15T00:00:00\",\"2022-08-16T00:00:00\",\"2022-08-17T00:00:00\",\"2022-08-18T00:00:00\",\"2022-08-19T00:00:00\",\"2022-08-22T00:00:00\",\"2022-08-23T00:00:00\",\"2022-08-24T00:00:00\",\"2022-08-25T00:00:00\",\"2022-08-26T00:00:00\",\"2022-08-29T00:00:00\",\"2022-08-30T00:00:00\",\"2022-08-31T00:00:00\",\"2022-09-01T00:00:00\",\"2022-09-02T00:00:00\",\"2022-09-05T00:00:00\",\"2022-09-06T00:00:00\",\"2022-09-08T00:00:00\",\"2022-09-09T00:00:00\",\"2022-09-12T00:00:00\",\"2022-09-13T00:00:00\",\"2022-09-14T00:00:00\",\"2022-09-15T00:00:00\",\"2022-09-16T00:00:00\",\"2022-09-19T00:00:00\",\"2022-09-20T00:00:00\",\"2022-09-21T00:00:00\",\"2022-09-22T00:00:00\",\"2022-09-23T00:00:00\",\"2022-09-26T00:00:00\",\"2022-09-27T00:00:00\",\"2022-09-28T00:00:00\",\"2022-09-29T00:00:00\",\"2022-09-30T00:00:00\",\"2022-10-03T00:00:00\",\"2022-10-04T00:00:00\",\"2022-10-05T00:00:00\",\"2022-10-06T00:00:00\",\"2022-10-07T00:00:00\",\"2022-10-10T00:00:00\",\"2022-10-11T00:00:00\",\"2022-10-13T00:00:00\",\"2022-10-14T00:00:00\",\"2022-10-17T00:00:00\",\"2022-10-18T00:00:00\",\"2022-10-19T00:00:00\",\"2022-10-20T00:00:00\",\"2022-10-21T00:00:00\",\"2022-10-24T00:00:00\",\"2022-10-25T00:00:00\",\"2022-10-26T00:00:00\",\"2022-10-27T00:00:00\",\"2022-10-28T00:00:00\",\"2022-10-31T00:00:00\",\"2022-11-01T00:00:00\",\"2022-11-03T00:00:00\",\"2022-11-04T00:00:00\",\"2022-11-07T00:00:00\",\"2022-11-08T00:00:00\",\"2022-11-09T00:00:00\",\"2022-11-10T00:00:00\",\"2022-11-11T00:00:00\",\"2022-11-14T00:00:00\",\"2022-11-16T00:00:00\",\"2022-11-17T00:00:00\",\"2022-11-18T00:00:00\",\"2022-11-21T00:00:00\",\"2022-11-22T00:00:00\",\"2022-11-23T00:00:00\",\"2022-11-24T00:00:00\",\"2022-11-25T00:00:00\",\"2022-11-28T00:00:00\",\"2022-11-29T00:00:00\",\"2022-11-30T00:00:00\",\"2022-12-01T00:00:00\",\"2022-12-02T00:00:00\",\"2022-12-05T00:00:00\",\"2022-12-06T00:00:00\",\"2022-12-07T00:00:00\",\"2022-12-08T00:00:00\",\"2022-12-09T00:00:00\",\"2022-12-12T00:00:00\",\"2022-12-13T00:00:00\",\"2022-12-14T00:00:00\",\"2022-12-15T00:00:00\",\"2022-12-16T00:00:00\",\"2022-12-19T00:00:00\",\"2022-12-20T00:00:00\",\"2022-12-21T00:00:00\",\"2022-12-22T00:00:00\",\"2022-12-23T00:00:00\",\"2022-12-26T00:00:00\",\"2022-12-27T00:00:00\",\"2022-12-28T00:00:00\",\"2022-12-29T00:00:00\",\"2023-01-02T00:00:00\",\"2023-01-03T00:00:00\",\"2023-01-04T00:00:00\",\"2023-01-05T00:00:00\",\"2023-01-06T00:00:00\",\"2023-01-09T00:00:00\",\"2023-01-10T00:00:00\",\"2023-01-11T00:00:00\",\"2023-01-12T00:00:00\",\"2023-01-13T00:00:00\",\"2023-01-16T00:00:00\",\"2023-01-17T00:00:00\",\"2023-01-18T00:00:00\",\"2023-01-19T00:00:00\",\"2023-01-20T00:00:00\",\"2023-01-23T00:00:00\",\"2023-01-24T00:00:00\",\"2023-01-25T00:00:00\",\"2023-01-26T00:00:00\",\"2023-01-27T00:00:00\",\"2023-01-30T00:00:00\",\"2023-01-31T00:00:00\",\"2023-02-01T00:00:00\",\"2023-02-02T00:00:00\",\"2023-02-03T00:00:00\",\"2023-02-06T00:00:00\",\"2023-02-07T00:00:00\",\"2023-02-08T00:00:00\",\"2023-02-09T00:00:00\",\"2023-02-10T00:00:00\",\"2023-02-13T00:00:00\",\"2023-02-14T00:00:00\",\"2023-02-15T00:00:00\",\"2023-02-16T00:00:00\",\"2023-02-17T00:00:00\",\"2023-02-22T00:00:00\",\"2023-02-23T00:00:00\",\"2023-02-24T00:00:00\"],\"y\":[null,null,null,null,34.10599975585937,33.7879997253418,33.47999954223633,33.05800018310547,32.95,32.6020004272461,32.616000747680665,32.34400100708008,31.998000717163087,31.26000061035156,30.884000396728517,30.862000274658204,30.966000366210938,31.210000228881835,31.69199981689453,32.029999542236325,31.997999572753905,32.133999252319335,32.32199974060059,32.52800025939941,32.670000076293945,32.89000015258789,32.90800018310547,32.78199996948242,32.9,33.14000015258789,33.39000015258789,33.68199996948242,34.123999786376956,33.56999969482422,32.871999740600586,32.41199951171875,32.00199966430664,31.199999618530274,30.96799964904785,30.83599967956543,30.51799964904785,30.20999984741211,30.154000091552735,30.12799987792969,30.165999984741212,30.568000030517577,30.91799964904785,31.473999786376954,31.90999984741211,32.347999572753906,32.6479995727539,33.012000274658206,33.25400009155273,33.74400024414062,34.08800048828125,34.094000244140624,34.16199951171875,34.273999786376955,34.59199981689453,34.079999923706055,33.77000007629395,33.36200065612793,32.51600036621094,31.27400016784668,30.96599998474121,30.560000228881837,30.086000061035158,30.022000122070313,30.084000015258788,30.204000091552736,30.302000045776367,30.363999938964845,30.237999725341798,30.03199996948242,29.820000076293944,29.53400001525879,28.981999969482423,28.576000213623047,28.136000061035155,27.613999938964845,27.095999908447265,26.892000198364258,26.963999938964843,27.21599998474121,27.43400001525879,27.722000122070312,28.170000076293945,28.40200004577637,28.342000198364257,28.260000228881836,28.370000076293945,28.423999786376953,28.327999877929688,28.367999649047853,28.48399963378906,28.28599967956543,28.117999649047853,28.105999755859376,28.295999908447264,28.479999923706053,28.786000061035157,29.060000228881837,29.480000305175782,29.846000289916994,30.28200035095215,30.936000442504884,31.900000762939452,32.49600067138672,33.06000099182129,33.560000610351565,33.944000244140625,34.087999725341795,34.677999877929686,35.35799942016602,36.00999984741211,36.418000030517575,35.78600006103515,34.803999710083005,33.759999465942386,32.88999900817871,32.323998641967776,32.32799873352051,32.465998840332034,32.75199890136719,32.927999114990236,32.89999923706055,33.28199920654297,33.69599914550781,33.49399948120117,33.41199951171875,33.52599945068359,33.481999206542966,33.25399932861328,33.18799896240235,32.901998901367186,32.48999938964844,32.10199966430664,31.563999557495116,31.368000030517578,31.220000076293946,31.018000030517577,30.976000213623045,31.06400032043457,31.07400016784668,31.250000381469725,31.08200035095215,30.686000442504884,30.402000427246094,30.02200050354004,29.496000289916992,29.46800003051758,30.045999908447264,30.386000061035155,31.04199981689453,31.911999893188476,32.67800025939941,32.89200019836426,33.21800003051758,33.49599990844727,33.44799957275391,33.39999923706055,33.59199905395508,34.07599868774414,34.58199920654297,35.44199981689453,35.613999938964845,35.47799987792969,34.93600006103516,34.23399963378906,33.20399932861328,32.31599922180176,31.581999588012696,31.029999923706054,30.09799995422363,29.013999938964844,28.522000122070313,27.929999923706056,27.163999938964842,26.90200004577637,27.012000274658202,26.972000122070312,27.02400016784668,27.14000015258789,27.09800033569336,26.22400016784668,25.48200035095215,24.900000381469727,24.33200035095215,23.84800033569336,24.25800018310547,24.90200004577637,25.170000076293945,25.579999923706055,25.83199996948242,25.88400001525879,25.62200012207031,25.460000228881835,25.220000076293946,24.87799987792969,24.413999938964842,23.637999725341796,23.089999771118165,22.55799980163574,22.25199966430664,22.20199966430664,22.621999740600586,23.01199951171875,23.62599983215332,24.138000106811525,24.546000289916993,24.792000198364256,24.894000244140624,24.454000091552736,23.93400001525879,23.521999740600585,23.337999725341795,23.18599967956543,23.37599983215332,23.72599983215332,23.972000122070312,24.12200012207031,24.288000106811523,24.322000122070314,24.608000183105467,24.76599998474121,25.018000030517577,25.378000259399414,25.928000259399415,26.144000244140624,26.518000411987305,26.590000534057616,26.440000534057617,26.23200035095215,26.126000213623048,25.879999923706055,25.53400001525879,25.368000030517578,25.37400016784668,25.284000396728516,25.352000427246093,25.634000396728517,26.020000076293947,26.223999786376954,26.439999771118163,26.577999877929688,26.761999893188477,26.706000137329102,26.49800033569336,26.46800003051758,26.3],\"type\":\"scatter\",\"xaxis\":\"x2\",\"yaxis\":\"y2\"}],                        {\"template\":{\"data\":{\"bar\":[{\"error_x\":{\"color\":\"#2a3f5f\"},\"error_y\":{\"color\":\"#2a3f5f\"},\"marker\":{\"line\":{\"color\":\"#E5ECF6\",\"width\":0.5},\"pattern\":{\"fillmode\":\"overlay\",\"size\":10,\"solidity\":0.2}},\"type\":\"bar\"}],\"barpolar\":[{\"marker\":{\"line\":{\"color\":\"#E5ECF6\",\"width\":0.5},\"pattern\":{\"fillmode\":\"overlay\",\"size\":10,\"solidity\":0.2}},\"type\":\"barpolar\"}],\"carpet\":[{\"aaxis\":{\"endlinecolor\":\"#2a3f5f\",\"gridcolor\":\"white\",\"linecolor\":\"white\",\"minorgridcolor\":\"white\",\"startlinecolor\":\"#2a3f5f\"},\"baxis\":{\"endlinecolor\":\"#2a3f5f\",\"gridcolor\":\"white\",\"linecolor\":\"white\",\"minorgridcolor\":\"white\",\"startlinecolor\":\"#2a3f5f\"},\"type\":\"carpet\"}],\"choropleth\":[{\"colorbar\":{\"outlinewidth\":0,\"ticks\":\"\"},\"type\":\"choropleth\"}],\"contour\":[{\"colorbar\":{\"outlinewidth\":0,\"ticks\":\"\"},\"colorscale\":[[0.0,\"#0d0887\"],[0.1111111111111111,\"#46039f\"],[0.2222222222222222,\"#7201a8\"],[0.3333333333333333,\"#9c179e\"],[0.4444444444444444,\"#bd3786\"],[0.5555555555555556,\"#d8576b\"],[0.6666666666666666,\"#ed7953\"],[0.7777777777777778,\"#fb9f3a\"],[0.8888888888888888,\"#fdca26\"],[1.0,\"#f0f921\"]],\"type\":\"contour\"}],\"contourcarpet\":[{\"colorbar\":{\"outlinewidth\":0,\"ticks\":\"\"},\"type\":\"contourcarpet\"}],\"heatmap\":[{\"colorbar\":{\"outlinewidth\":0,\"ticks\":\"\"},\"colorscale\":[[0.0,\"#0d0887\"],[0.1111111111111111,\"#46039f\"],[0.2222222222222222,\"#7201a8\"],[0.3333333333333333,\"#9c179e\"],[0.4444444444444444,\"#bd3786\"],[0.5555555555555556,\"#d8576b\"],[0.6666666666666666,\"#ed7953\"],[0.7777777777777778,\"#fb9f3a\"],[0.8888888888888888,\"#fdca26\"],[1.0,\"#f0f921\"]],\"type\":\"heatmap\"}],\"heatmapgl\":[{\"colorbar\":{\"outlinewidth\":0,\"ticks\":\"\"},\"colorscale\":[[0.0,\"#0d0887\"],[0.1111111111111111,\"#46039f\"],[0.2222222222222222,\"#7201a8\"],[0.3333333333333333,\"#9c179e\"],[0.4444444444444444,\"#bd3786\"],[0.5555555555555556,\"#d8576b\"],[0.6666666666666666,\"#ed7953\"],[0.7777777777777778,\"#fb9f3a\"],[0.8888888888888888,\"#fdca26\"],[1.0,\"#f0f921\"]],\"type\":\"heatmapgl\"}],\"histogram\":[{\"marker\":{\"pattern\":{\"fillmode\":\"overlay\",\"size\":10,\"solidity\":0.2}},\"type\":\"histogram\"}],\"histogram2d\":[{\"colorbar\":{\"outlinewidth\":0,\"ticks\":\"\"},\"colorscale\":[[0.0,\"#0d0887\"],[0.1111111111111111,\"#46039f\"],[0.2222222222222222,\"#7201a8\"],[0.3333333333333333,\"#9c179e\"],[0.4444444444444444,\"#bd3786\"],[0.5555555555555556,\"#d8576b\"],[0.6666666666666666,\"#ed7953\"],[0.7777777777777778,\"#fb9f3a\"],[0.8888888888888888,\"#fdca26\"],[1.0,\"#f0f921\"]],\"type\":\"histogram2d\"}],\"histogram2dcontour\":[{\"colorbar\":{\"outlinewidth\":0,\"ticks\":\"\"},\"colorscale\":[[0.0,\"#0d0887\"],[0.1111111111111111,\"#46039f\"],[0.2222222222222222,\"#7201a8\"],[0.3333333333333333,\"#9c179e\"],[0.4444444444444444,\"#bd3786\"],[0.5555555555555556,\"#d8576b\"],[0.6666666666666666,\"#ed7953\"],[0.7777777777777778,\"#fb9f3a\"],[0.8888888888888888,\"#fdca26\"],[1.0,\"#f0f921\"]],\"type\":\"histogram2dcontour\"}],\"mesh3d\":[{\"colorbar\":{\"outlinewidth\":0,\"ticks\":\"\"},\"type\":\"mesh3d\"}],\"parcoords\":[{\"line\":{\"colorbar\":{\"outlinewidth\":0,\"ticks\":\"\"}},\"type\":\"parcoords\"}],\"pie\":[{\"automargin\":true,\"type\":\"pie\"}],\"scatter\":[{\"marker\":{\"colorbar\":{\"outlinewidth\":0,\"ticks\":\"\"}},\"type\":\"scatter\"}],\"scatter3d\":[{\"line\":{\"colorbar\":{\"outlinewidth\":0,\"ticks\":\"\"}},\"marker\":{\"colorbar\":{\"outlinewidth\":0,\"ticks\":\"\"}},\"type\":\"scatter3d\"}],\"scattercarpet\":[{\"marker\":{\"colorbar\":{\"outlinewidth\":0,\"ticks\":\"\"}},\"type\":\"scattercarpet\"}],\"scattergeo\":[{\"marker\":{\"colorbar\":{\"outlinewidth\":0,\"ticks\":\"\"}},\"type\":\"scattergeo\"}],\"scattergl\":[{\"marker\":{\"colorbar\":{\"outlinewidth\":0,\"ticks\":\"\"}},\"type\":\"scattergl\"}],\"scattermapbox\":[{\"marker\":{\"colorbar\":{\"outlinewidth\":0,\"ticks\":\"\"}},\"type\":\"scattermapbox\"}],\"scatterpolar\":[{\"marker\":{\"colorbar\":{\"outlinewidth\":0,\"ticks\":\"\"}},\"type\":\"scatterpolar\"}],\"scatterpolargl\":[{\"marker\":{\"colorbar\":{\"outlinewidth\":0,\"ticks\":\"\"}},\"type\":\"scatterpolargl\"}],\"scatterternary\":[{\"marker\":{\"colorbar\":{\"outlinewidth\":0,\"ticks\":\"\"}},\"type\":\"scatterternary\"}],\"surface\":[{\"colorbar\":{\"outlinewidth\":0,\"ticks\":\"\"},\"colorscale\":[[0.0,\"#0d0887\"],[0.1111111111111111,\"#46039f\"],[0.2222222222222222,\"#7201a8\"],[0.3333333333333333,\"#9c179e\"],[0.4444444444444444,\"#bd3786\"],[0.5555555555555556,\"#d8576b\"],[0.6666666666666666,\"#ed7953\"],[0.7777777777777778,\"#fb9f3a\"],[0.8888888888888888,\"#fdca26\"],[1.0,\"#f0f921\"]],\"type\":\"surface\"}],\"table\":[{\"cells\":{\"fill\":{\"color\":\"#EBF0F8\"},\"line\":{\"color\":\"white\"}},\"header\":{\"fill\":{\"color\":\"#C8D4E3\"},\"line\":{\"color\":\"white\"}},\"type\":\"table\"}]},\"layout\":{\"annotationdefaults\":{\"arrowcolor\":\"#2a3f5f\",\"arrowhead\":0,\"arrowwidth\":1},\"autotypenumbers\":\"strict\",\"coloraxis\":{\"colorbar\":{\"outlinewidth\":0,\"ticks\":\"\"}},\"colorscale\":{\"diverging\":[[0,\"#8e0152\"],[0.1,\"#c51b7d\"],[0.2,\"#de77ae\"],[0.3,\"#f1b6da\"],[0.4,\"#fde0ef\"],[0.5,\"#f7f7f7\"],[0.6,\"#e6f5d0\"],[0.7,\"#b8e186\"],[0.8,\"#7fbc41\"],[0.9,\"#4d9221\"],[1,\"#276419\"]],\"sequential\":[[0.0,\"#0d0887\"],[0.1111111111111111,\"#46039f\"],[0.2222222222222222,\"#7201a8\"],[0.3333333333333333,\"#9c179e\"],[0.4444444444444444,\"#bd3786\"],[0.5555555555555556,\"#d8576b\"],[0.6666666666666666,\"#ed7953\"],[0.7777777777777778,\"#fb9f3a\"],[0.8888888888888888,\"#fdca26\"],[1.0,\"#f0f921\"]],\"sequentialminus\":[[0.0,\"#0d0887\"],[0.1111111111111111,\"#46039f\"],[0.2222222222222222,\"#7201a8\"],[0.3333333333333333,\"#9c179e\"],[0.4444444444444444,\"#bd3786\"],[0.5555555555555556,\"#d8576b\"],[0.6666666666666666,\"#ed7953\"],[0.7777777777777778,\"#fb9f3a\"],[0.8888888888888888,\"#fdca26\"],[1.0,\"#f0f921\"]]},\"colorway\":[\"#636efa\",\"#EF553B\",\"#00cc96\",\"#ab63fa\",\"#FFA15A\",\"#19d3f3\",\"#FF6692\",\"#B6E880\",\"#FF97FF\",\"#FECB52\"],\"font\":{\"color\":\"#2a3f5f\"},\"geo\":{\"bgcolor\":\"white\",\"lakecolor\":\"white\",\"landcolor\":\"#E5ECF6\",\"showlakes\":true,\"showland\":true,\"subunitcolor\":\"white\"},\"hoverlabel\":{\"align\":\"left\"},\"hovermode\":\"closest\",\"mapbox\":{\"style\":\"light\"},\"paper_bgcolor\":\"white\",\"plot_bgcolor\":\"#E5ECF6\",\"polar\":{\"angularaxis\":{\"gridcolor\":\"white\",\"linecolor\":\"white\",\"ticks\":\"\"},\"bgcolor\":\"#E5ECF6\",\"radialaxis\":{\"gridcolor\":\"white\",\"linecolor\":\"white\",\"ticks\":\"\"}},\"scene\":{\"xaxis\":{\"backgroundcolor\":\"#E5ECF6\",\"gridcolor\":\"white\",\"gridwidth\":2,\"linecolor\":\"white\",\"showbackground\":true,\"ticks\":\"\",\"zerolinecolor\":\"white\"},\"yaxis\":{\"backgroundcolor\":\"#E5ECF6\",\"gridcolor\":\"white\",\"gridwidth\":2,\"linecolor\":\"white\",\"showbackground\":true,\"ticks\":\"\",\"zerolinecolor\":\"white\"},\"zaxis\":{\"backgroundcolor\":\"#E5ECF6\",\"gridcolor\":\"white\",\"gridwidth\":2,\"linecolor\":\"white\",\"showbackground\":true,\"ticks\":\"\",\"zerolinecolor\":\"white\"}},\"shapedefaults\":{\"line\":{\"color\":\"#2a3f5f\"}},\"ternary\":{\"aaxis\":{\"gridcolor\":\"white\",\"linecolor\":\"white\",\"ticks\":\"\"},\"baxis\":{\"gridcolor\":\"white\",\"linecolor\":\"white\",\"ticks\":\"\"},\"bgcolor\":\"#E5ECF6\",\"caxis\":{\"gridcolor\":\"white\",\"linecolor\":\"white\",\"ticks\":\"\"}},\"title\":{\"x\":0.05},\"xaxis\":{\"automargin\":true,\"gridcolor\":\"white\",\"linecolor\":\"white\",\"ticks\":\"\",\"title\":{\"standoff\":15},\"zerolinecolor\":\"white\",\"zerolinewidth\":2},\"yaxis\":{\"automargin\":true,\"gridcolor\":\"white\",\"linecolor\":\"white\",\"ticks\":\"\",\"title\":{\"standoff\":15},\"zerolinecolor\":\"white\",\"zerolinewidth\":2}}},\"xaxis\":{\"anchor\":\"y\",\"domain\":[0.0,1.0],\"matches\":\"x2\",\"showticklabels\":false,\"rangeslider\":{\"visible\":false}},\"yaxis\":{\"anchor\":\"x\",\"domain\":[0.5375,1.0]},\"xaxis2\":{\"anchor\":\"y2\",\"domain\":[0.0,1.0]},\"yaxis2\":{\"anchor\":\"x2\",\"domain\":[0.0,0.4625]},\"annotations\":[{\"font\":{\"size\":16},\"showarrow\":false,\"text\":\"Cota\\u00e7\\u00e3o\",\"x\":0.5,\"xanchor\":\"center\",\"xref\":\"paper\",\"y\":1.0,\"yanchor\":\"bottom\",\"yref\":\"paper\"},{\"font\":{\"size\":16},\"showarrow\":false,\"text\":\"Fechamento\",\"x\":0.5,\"xanchor\":\"center\",\"xref\":\"paper\",\"y\":0.4625,\"yanchor\":\"bottom\",\"yref\":\"paper\"},{\"font\":{\"size\":14},\"showarrow\":false,\"text\":\"An\\u00e1lise feita no evento de Python\",\"x\":1,\"xref\":\"x domain\",\"y\":-1.4,\"yref\":\"y domain\"},{\"font\":{\"size\":14},\"showarrow\":false,\"text\":\"By: Matheus Medeiros\",\"x\":0,\"xref\":\"x domain\",\"y\":-1.4,\"yref\":\"y domain\"}],\"title\":{\"text\":\"<b>Advanced Analytics</b> <br>Follow-up Petrobras\"},\"width\":1000,\"height\":800,\"legend\":{\"font\":{\"size\":10},\"orientation\":\"h\",\"yanchor\":\"bottom\",\"y\":1.05,\"xanchor\":\"right\",\"x\":1}},                        {\"responsive\": true}                    ).then(function(){\n",
              "                            \n",
              "var gd = document.getElementById('ef70c832-86ec-4f6b-a5b2-c06438a83c07');\n",
              "var x = new MutationObserver(function (mutations, observer) {{\n",
              "        var display = window.getComputedStyle(gd).display;\n",
              "        if (!display || display === 'none') {{\n",
              "            console.log([gd, 'removed!']);\n",
              "            Plotly.purge(gd);\n",
              "            observer.disconnect();\n",
              "        }}\n",
              "}});\n",
              "\n",
              "// Listen for the removal of the full notebook cells\n",
              "var notebookContainer = gd.closest('#notebook-container');\n",
              "if (notebookContainer) {{\n",
              "    x.observe(notebookContainer, {childList: true});\n",
              "}}\n",
              "\n",
              "// Listen for the clearing of the current output cell\n",
              "var outputEl = gd.closest('.output');\n",
              "if (outputEl) {{\n",
              "    x.observe(outputEl, {childList: true});\n",
              "}}\n",
              "\n",
              "                        })                };                            </script>        </div>\n",
              "</body>\n",
              "</html>"
            ]
          },
          "metadata": {}
        }
      ]
    },
    {
      "cell_type": "markdown",
      "source": [
        "## **Exportando PDF**"
      ],
      "metadata": {
        "id": "YAvLLVjl0Bt3"
      }
    },
    {
      "cell_type": "markdown",
      "source": [
        "**Kaleido** <br>\n",
        "Kaleido é uma biblioteca de plataforma cruzada para geração de imagens estáticas (por exemplo, png, svg, pdf, etc.) para bibliotecas de visualização baseadas na web, com foco particular na eliminação de dependências externas. O foco inicial do projeto é a exportação de imagens plotly.js do Python para uso por plotly.py, mas ele foi projetado para ser relativamente direto para estender a outras bibliotecas de visualização baseadas na web e outras linguagens de programação. O foco principal do Kaleido (pelo menos inicialmente) é servir como uma dependência de bibliotecas de visualização baseadas na web, como plotly.py. Como tal, o foco está em fornecer uma API programática, em vez de amigável ao usuário."
      ],
      "metadata": {
        "id": "5lwZQa9Zz9RG"
      }
    },
    {
      "cell_type": "code",
      "source": [
        "!pip install -U kaleido"
      ],
      "metadata": {
        "colab": {
          "base_uri": "https://localhost:8080/"
        },
        "id": "62AGy7rUdBnV",
        "outputId": "7bbe2403-7688-4dd2-f9e4-6f2a6cec1d58"
      },
      "execution_count": 13,
      "outputs": [
        {
          "output_type": "stream",
          "name": "stdout",
          "text": [
            "Looking in indexes: https://pypi.org/simple, https://us-python.pkg.dev/colab-wheels/public/simple/\n",
            "Requirement already satisfied: kaleido in /usr/local/lib/python3.8/dist-packages (0.2.1)\n"
          ]
        }
      ]
    },
    {
      "cell_type": "code",
      "source": [
        "Figura.write_image(\"Report_Financeiro.pdf\")"
      ],
      "metadata": {
        "id": "X9a3SgcsdMoK"
      },
      "execution_count": 14,
      "outputs": []
    }
  ]
}